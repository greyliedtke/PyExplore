{
 "cells": [
  {
   "cell_type": "code",
   "execution_count": 14,
   "metadata": {},
   "outputs": [],
   "source": [
    "import pandas as pd\n",
    "import time\n",
    "\n",
    "df = pd.read_csv('thermo.csv')"
   ]
  },
  {
   "cell_type": "code",
   "execution_count": 15,
   "metadata": {},
   "outputs": [
    {
     "name": "stdout",
     "output_type": "stream",
     "text": [
      "{' Turbine_Exit': 22, ' Impeller_Inlet': 23, 'Another_temp': 24}\n",
      "{' Turbine_Exit': 22, ' Impeller_Inlet': 23, 'Another_temp': 24}\n",
      "{' Turbine_Exit': 22, ' Impeller_Inlet': 23, 'Another_temp': 24}\n",
      "{' Turbine_Exit': 22, ' Impeller_Inlet': 23, 'Another_temp': 24}\n",
      "{' Turbine_Exit': 22, ' Impeller_Inlet': 23, 'Another_temp': 24}\n",
      "{' Turbine_Exit': 22, ' Impeller_Inlet': 23, 'Another_temp': 24}\n",
      "{' Turbine_Exit': 22, ' Impeller_Inlet': 23, 'Another_temp': 24}\n",
      "{' Turbine_Exit': 22, ' Impeller_Inlet': 23, 'Another_temp': 24}\n",
      "{' Turbine_Exit': 22, ' Impeller_Inlet': 23, 'Another_temp': 24}\n",
      "{' Turbine_Exit': 22, ' Impeller_Inlet': 23, 'Another_temp': 24}\n"
     ]
    },
    {
     "ename": "KeyboardInterrupt",
     "evalue": "",
     "output_type": "error",
     "traceback": [
      "\u001b[1;31m---------------------------------------------------------------------------\u001b[0m",
      "\u001b[1;31mKeyboardInterrupt\u001b[0m                         Traceback (most recent call last)",
      "Cell \u001b[1;32mIn[15], line 6\u001b[0m\n\u001b[0;32m      3\u001b[0m tk \u001b[39m=\u001b[39m {}\n\u001b[0;32m      5\u001b[0m \u001b[39mwhile\u001b[39;00m \u001b[39mTrue\u001b[39;00m:\n\u001b[1;32m----> 6\u001b[0m     time\u001b[39m.\u001b[39;49msleep(\u001b[39m.5\u001b[39;49m)\n\u001b[0;32m      8\u001b[0m     \u001b[39mfor\u001b[39;00m i, row \u001b[39min\u001b[39;00m df\u001b[39m.\u001b[39miterrows():\n\u001b[0;32m      9\u001b[0m         tpp \u001b[39m=\u001b[39m i\u001b[39m+\u001b[39m\u001b[39m22\u001b[39m  \u001b[39m# reading temperature here\u001b[39;00m\n",
      "\u001b[1;31mKeyboardInterrupt\u001b[0m: "
     ]
    }
   ],
   "source": [
    "# loop through thermopi inputs \n",
    "\n",
    "tk = {}\n",
    "\n",
    "while True:\n",
    "    time.sleep(.5)\n",
    "\n",
    "    for i, row in df.iterrows():\n",
    "        tpp = i+22  # reading temperature here\n",
    "        tk[row['Description']] = tpp\n",
    "\n",
    "    print(tk)\n",
    "# write entire dictionary to influx\n",
    "\n",
    "\n"
   ]
  }
 ],
 "metadata": {
  "kernelspec": {
   "display_name": ".venv",
   "language": "python",
   "name": "python3"
  },
  "language_info": {
   "codemirror_mode": {
    "name": "ipython",
    "version": 3
   },
   "file_extension": ".py",
   "mimetype": "text/x-python",
   "name": "python",
   "nbconvert_exporter": "python",
   "pygments_lexer": "ipython3",
   "version": "3.10.7"
  },
  "orig_nbformat": 4,
  "vscode": {
   "interpreter": {
    "hash": "f391e8c3d005e77c8bed83cbfaaff21a4e701d9f1afa210d5c2253c673c9acf5"
   }
  }
 },
 "nbformat": 4,
 "nbformat_minor": 2
}
