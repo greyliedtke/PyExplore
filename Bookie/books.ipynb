{
 "cells": [
  {
   "cell_type": "code",
   "execution_count": 1,
   "metadata": {},
   "outputs": [],
   "source": [
    "import requests\n",
    "from bs4 import BeautifulSoup\n",
    "import pandas as pd\n",
    "\n",
    "url = 'https://www.goodreads.com/list/show/2681.Time_Magazine_s_All_Time_100_Novels'\n",
    "response = requests.get(url)\n",
    "\n",
    "soup = BeautifulSoup(response.content, 'html.parser')\n",
    "table = soup.find('table', class_='tableList')\n",
    "\n",
    "books = []\n",
    "\n",
    "ranks = soup.findAll(\"td\", class_=\"number\")\n",
    "titles = soup.findAll(\"a\", class_=\"bookTitle\")\n",
    "authors = soup.findAll(\"a\", class_=\"authorName\")\n",
    "ranks = [r.text for r in ranks]\n",
    "titles = [r.text for r in titles]\n",
    "authors = [r.text for r in authors]\n",
    "df = pd.DataFrame({'Rank': ranks, 'Title': titles, 'author': authors})\n",
    "\n"
   ]
  },
  {
   "cell_type": "code",
   "execution_count": 2,
   "metadata": {},
   "outputs": [],
   "source": [
    "# connent to openai\n",
    "import openai\n",
    "import shhh\n",
    "openai.api_key = shhh.aikey\n"
   ]
  },
  {
   "cell_type": "code",
   "execution_count": 29,
   "metadata": {},
   "outputs": [],
   "source": [
    "\n",
    "\n",
    "def chat_request(question):\n",
    "\n",
    "    response = openai.Completion.create(\n",
    "        model=\"text-davinci-003\",\n",
    "        prompt=question,\n",
    "        temperature=0.8,\n",
    "        max_tokens=2000,\n",
    "        top_p=1,\n",
    "        frequency_penalty=0,\n",
    "        presence_penalty=0,\n",
    "    )\n",
    "\n",
    "    print(response)\n",
    "\n",
    "    a = response.choices[0].text\n",
    "    print(a)\n",
    "    return a\n"
   ]
  },
  {
   "cell_type": "code",
   "execution_count": 31,
   "metadata": {},
   "outputs": [
    {
     "name": "stdout",
     "output_type": "stream",
     "text": [
      "{\n",
      "  \"choices\": [\n",
      "    {\n",
      "      \"finish_reason\": \"stop\",\n",
      "      \"index\": 0,\n",
      "      \"logprobs\": null,\n",
      "      \"text\": \"\\nMaycomb, a tired old town in 1932, was sweltering hot. Men wilted in their stiff collars and ladies would take refreshing baths in the mornings and become sweaty and fragrant by nightfall. The day seemed to last much longer than its 24 hours, for there was no need to hurry - there was nowhere to go and nothing to buy.\"\n",
      "    }\n",
      "  ],\n",
      "  \"created\": 1682720179,\n",
      "  \"id\": \"cmpl-7AQfzbe6CqASNpk5G7A9B5dLMOdjV\",\n",
      "  \"model\": \"text-davinci-003\",\n",
      "  \"object\": \"text_completion\",\n",
      "  \"usage\": {\n",
      "    \"completion_tokens\": 74,\n",
      "    \"prompt_tokens\": 139,\n",
      "    \"total_tokens\": 213\n",
      "  }\n",
      "}\n",
      "\n",
      "Maycomb, a tired old town in 1932, was sweltering hot. Men wilted in their stiff collars and ladies would take refreshing baths in the mornings and become sweaty and fragrant by nightfall. The day seemed to last much longer than its 24 hours, for there was no need to hurry - there was nowhere to go and nothing to buy.\n"
     ]
    }
   ],
   "source": [
    "# loop through df and present prompt to gpt\n",
    "summaries = {}\n",
    "for i, row in df.iterrows():\n",
    "    if i == 1: break\n",
    "    auth = row['author']\n",
    "    title = row['Title'].replace(\"\\n\", \"\")\n",
    "    # prompt = f\"pretend to be {auth} and summarize the middle of {title} in less than 150 words\"\n",
    "    p_1 = f\"Summarize the beginning of {title} by {auth}\\n\\n\"\n",
    "    p_2 = f\"in the writing style of the author in <150 words\\n\\n\"\n",
    "    p_3 = f\"here's an excerpt: Maycomb was a tired old town, even in 1932 when I first knew it. Somehow, it was hotter then. Mens stiff collars wilted by nine in the morning. Ladies bathed before noon, after their three-oclock naps, and by nightfall were like soft teacakes with frostings of sweat and sweet talcum. The day was twenty-four hours long, but it seemed longer. Theres no hurry, for theres nowhere to go and nothing to buy...\\n\"\n",
    "    p_4 = f\"Summary:\"\n",
    "\n",
    "    bs = chat_request(p_1+p_2+p_3+p_4)\n",
    "    summaries[i] = bs"
   ]
  }
 ],
 "metadata": {
  "kernelspec": {
   "display_name": ".venv",
   "language": "python",
   "name": "python3"
  },
  "language_info": {
   "codemirror_mode": {
    "name": "ipython",
    "version": 3
   },
   "file_extension": ".py",
   "mimetype": "text/x-python",
   "name": "python",
   "nbconvert_exporter": "python",
   "pygments_lexer": "ipython3",
   "version": "3.10.6"
  },
  "orig_nbformat": 4
 },
 "nbformat": 4,
 "nbformat_minor": 2
}
