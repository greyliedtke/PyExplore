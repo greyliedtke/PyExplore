{
 "cells": [
  {
   "cell_type": "code",
   "execution_count": 8,
   "metadata": {},
   "outputs": [],
   "source": [
    "# add a block\n",
    "# create df from them\n",
    "\n",
    "def render_merm():\n",
    "    # delete and recreate...\n",
    "    \n",
    "    pass\n",
    "\n",
    "def new_node(name):\n",
    "    mt = f\"{name}\\n\"\n",
    "    return mt\n",
    "\n",
    "\n",
    "# add a relationship\n",
    "def new_relation(n_from, n_to):\n",
    "    mt = f\"{n_from}-->{n_to}\\n\"\n",
    "    return mt\n",
    "\n",
    "\n"
   ]
  },
  {
   "cell_type": "code",
   "execution_count": 13,
   "metadata": {},
   "outputs": [
    {
     "name": "stdout",
     "output_type": "stream",
     "text": [
      "graph TD\n",
      "Grey\n",
      "Jeanne\n",
      "Jeanne-->Grey\n",
      "Jeanne-->mary\n",
      "mary\n",
      "\n"
     ]
    }
   ],
   "source": [
    "# build mermaid blocks from dataframe\n",
    "dir = \"TD\"\n",
    "md = f'graph {dir}\\n'\n",
    "\n",
    "# class Duck{\n",
    "md += new_node('Grey')\n",
    "md += new_node('Jeanne')\n",
    "md += new_relation('Jeanne', 'Grey')\n",
    "md += new_relation('Jeanne', 'mary')\n",
    "md += new_node('mary')\n",
    "\n",
    "print(md, sep='\\n')"
   ]
  },
  {
   "cell_type": "code",
   "execution_count": 3,
   "metadata": {},
   "outputs": [
    {
     "name": "stdout",
     "output_type": "stream",
     "text": [
      "\n",
      "PB_1 -- PB_2\n",
      "PB_1 -- PB_3 : Ethernet\n",
      "PB_1 -- PB_1 : same\n"
     ]
    }
   ],
   "source": [
    "# building relation text from here as well...\n",
    "# classI -- classJ : Link(Solid)\n",
    "rel_txt = ''\n",
    "for i, row in rdf.iterrows():\n",
    "    r_t = f\"{row['From']} -- {row['To']}\"\n",
    "\n",
    "    if type(row['Note']) is str:\n",
    "        r_t = f\"{row['From']} -- {row['To']} : {row['Note']}\"\n",
    "\n",
    "    rel_txt += f\"\\n{r_t}\"\n",
    "\n",
    "print(rel_txt)"
   ]
  },
  {
   "cell_type": "code",
   "execution_count": 4,
   "metadata": {},
   "outputs": [
    {
     "name": "stdout",
     "output_type": "stream",
     "text": [
      "classDiagram\n",
      "class PB_1 {\n",
      "\tPT Exit Pressures\n",
      "\t read_pressure()\n",
      "}\n",
      "class PB_2 {\n",
      "\tSeal Pressures\n",
      "\t read_pressure()\n",
      "}\n",
      "class PB_3 {\n",
      "\tSeal Pressures\n",
      "\t read_pressure()\n",
      "}\n",
      "class PB_4 {\n",
      "\tSeal Pressures\n",
      "\t read_pressure()\n",
      "}\n",
      "PB_1 -- PB_2\n",
      "PB_1 -- PB_3 : Ethernet\n",
      "PB_1 -- PB_1 : same\n"
     ]
    }
   ],
   "source": [
    "merm = merm_txt+rel_txt\n",
    "print(merm)"
   ]
  }
 ],
 "metadata": {
  "kernelspec": {
   "display_name": "virtual_env",
   "language": "python",
   "name": "python3"
  },
  "language_info": {
   "codemirror_mode": {
    "name": "ipython",
    "version": 3
   },
   "file_extension": ".py",
   "mimetype": "text/x-python",
   "name": "python",
   "nbconvert_exporter": "python",
   "pygments_lexer": "ipython3",
   "version": "3.10.11"
  },
  "orig_nbformat": 4
 },
 "nbformat": 4,
 "nbformat_minor": 2
}
