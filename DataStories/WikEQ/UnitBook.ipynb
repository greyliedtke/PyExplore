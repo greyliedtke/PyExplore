{
 "cells": [
  {
   "cell_type": "code",
   "execution_count": 1,
   "metadata": {},
   "outputs": [],
   "source": [
    "# create dataset of derived dimensions\n",
    "import pandas as pd\n",
    "df = pd.read_csv('DERIVED_DIMENSIONS.csv')\n",
    "\n",
    "# Array for base units\n",
    "base_units = ['L', 'M', 'T', 'K', 'I', 'N', 'J']\n",
    "# create column for length\n",
    "base_dim_array = []\n",
    "for i, row in df.iterrows():\n",
    "    ba = []\n",
    "    for bu in base_units:\n",
    "        dq = 0 \n",
    "        try:   \n",
    "            for d in row['Dimension'].split(' '):\n",
    "                if bu in d:\n",
    "                    dq = 1\n",
    "                    if len(d)>1:\n",
    "                        d = d.replace(\"−\", \"-\")\n",
    "                        dq=d[1:]\n",
    "        except: pass\n",
    "        ba.append(dq) \n",
    "    base_dim_array.append(ba)\n",
    "\n",
    "for i, bu in enumerate(base_units): \n",
    "    df[bu] = [a[i] for a in base_dim_array]\n",
    "    df[bu] = df[bu].astype(float)\n",
    "df.to_csv('Dimensions.csv')\n",
    "# summarize "
   ]
  },
  {
   "cell_type": "code",
   "execution_count": 20,
   "metadata": {},
   "outputs": [],
   "source": [
    "import matplotlib.pyplot as plt\n",
    "import pandas as pd\n",
    "import numpy as np\n",
    "df = pd.read_csv('Dimensions.csv')\n",
    "def dim_dist(dim):\n",
    "    plt.clf()\n",
    "    u_count = df[dim].unique()\n",
    "    plt.hist(df.L, bins=len(u_count))\n",
    "    plt.bar()\n",
    "    plt.title(f'Distribution of {dim}')\n",
    "    \n"
   ]
  },
  {
   "cell_type": "code",
   "execution_count": 32,
   "metadata": {},
   "outputs": [],
   "source": [
    "def bar_diag(dimension):\n",
    "    dim_counts = df[dimension].value_counts()\n",
    "    sorted_x, sorted_y = zip(*sorted(zip(dim_counts.index, dim_counts)))\n",
    "    plt.clf()\n",
    "    plt.bar(sorted_x, sorted_y)\n",
    "    # df['L'].value_counts().plot(kind='bar', figsize=(7, 6), rot=0)\n",
    "    plt.xlabel(\"Dimension Count\")\n",
    "    plt.ylabel(\"Dimension of Unit\")\n",
    "    plt.title(f\"Count of Dimension {dimension}\")\n",
    "    plt.savefig(f\"{dimension}_dist\")\n",
    "    # plt.show()"
   ]
  },
  {
   "cell_type": "code",
   "execution_count": 33,
   "metadata": {},
   "outputs": [
    {
     "data": {
      "image/png": "[encoded data removed]",
      "text/plain": [
       "<Figure size 640x480 with 1 Axes>"
      ]
     },
     "metadata": {},
     "output_type": "display_data"
    }
   ],
   "source": [
    "for d in ['L', 'M', 'T', 'K', 'I', 'N', 'J']:\n",
    "    bar_diag(d)"
   ]
  }
 ],
 "metadata": {
  "kernelspec": {
   "display_name": "Python 3.10.8 ('virtual_env': venv)",
   "language": "python",
   "name": "python3"
  },
  "language_info": {
   "codemirror_mode": {
    "name": "ipython",
    "version": 3
   },
   "file_extension": ".py",
   "mimetype": "text/x-python",
   "name": "python",
   "nbconvert_exporter": "python",
   "pygments_lexer": "ipython3",
   "version": "3.10.8"
  },
  "orig_nbformat": 4,
  "vscode": {
   "interpreter": {
    "hash": "7a791564c7636bd0312489df8a91f04e82f7a7839c41ea5b51e49c54c216cd7b"
   }
  }
 },
 "nbformat": 4,
 "nbformat_minor": 2
}
