{
 "cells": [
  {
   "cell_type": "code",
   "execution_count": 1,
   "metadata": {},
   "outputs": [],
   "source": [
    "import pypistats\n",
    "df = pypistats.python_minor(\"matplotlib\", total=True, format=\"pandas\")"
   ]
  },
  {
   "cell_type": "code",
   "execution_count": 3,
   "metadata": {},
   "outputs": [
    {
     "data": {
      "application/vnd.plotly.v1+json": {
       "config": {
        "plotlyServerURL": "https://plot.ly"
       },
       "data": [
        {
         "hovertemplate": "date=%{x}<br>downloads=%{y}<extra></extra>",
         "legendgroup": "",
         "marker": {
          "color": "#636efa",
          "symbol": "circle"
         },
         "mode": "markers",
         "name": "",
         "orientation": "v",
         "showlegend": false,
         "type": "scatter",
         "x": [
          "2022-08-31",
          "2022-09-07",
          "2022-10-19",
          "2022-09-08",
          "2022-09-21",
          "2022-08-17",
          "2022-08-23",
          "2022-08-25",
          "2022-09-01",
          "2022-10-11",
          "2022-10-12",
          "2022-09-14",
          "2022-09-09",
          "2022-08-30",
          "2022-09-28",
          "2022-08-19",
          "2022-09-29",
          "2022-10-18",
          "2022-09-16",
          "2022-09-02",
          "2022-08-24",
          "2022-10-05",
          "2022-10-13",
          "2022-10-14",
          "2022-10-21",
          "2022-10-20",
          "2022-08-08",
          "2022-10-06",
          "2022-08-26",
          "2022-08-18",
          "2022-09-20",
          "2022-05-11",
          "2022-04-27",
          "2022-05-10",
          "2022-07-26",
          "2022-09-12",
          "2022-05-12",
          "2022-09-06",
          "2022-08-16",
          "2022-10-17",
          "2022-08-04",
          "2022-06-22",
          "2022-09-22",
          "2022-04-26",
          "2022-10-04",
          "2022-08-29",
          "2022-09-15",
          "2022-05-25",
          "2022-10-03",
          "2022-09-23",
          "2022-08-22",
          "2022-07-25",
          "2022-09-26",
          "2022-09-13",
          "2022-07-20",
          "2022-06-09",
          "2022-10-10",
          "2022-09-30",
          "2022-06-14",
          "2022-07-21",
          "2022-05-09",
          "2022-06-07",
          "2022-08-10",
          "2022-05-23",
          "2022-10-07",
          "2022-08-02",
          "2022-05-24",
          "2022-05-04",
          "2022-09-27",
          "2022-04-28",
          "2022-07-07",
          "2022-06-01",
          "2022-07-19",
          "2022-08-01",
          "2022-05-13",
          "2022-06-08",
          "2022-08-03",
          "2022-05-19",
          "2022-07-27",
          "2022-05-31",
          "2022-07-22",
          "2022-05-17",
          "2022-08-12",
          "2022-04-29",
          "2022-05-18",
          "2022-08-11",
          "2022-06-23",
          "2022-04-25",
          "2022-09-19",
          "2022-06-13",
          "2022-05-16",
          "2022-08-09",
          "2022-06-21",
          "2022-07-08",
          "2022-07-14",
          "2022-06-02",
          "2022-08-05",
          "2022-07-13",
          "2022-08-15",
          "2022-05-03",
          "2022-06-28",
          "2022-06-29",
          "2022-06-27",
          "2022-06-17",
          "2022-06-10",
          "2022-06-24",
          "2022-06-20",
          "2022-05-27",
          "2022-05-05",
          "2022-05-20",
          "2022-06-15",
          "2022-07-12",
          "2022-07-28",
          "2022-05-26",
          "2022-06-16",
          "2022-06-06",
          "2022-07-06",
          "2022-07-15",
          "2022-09-05",
          "2022-06-03",
          "2022-05-02",
          "2022-05-06",
          "2022-07-18",
          "2022-07-29",
          "2022-09-03",
          "2022-05-30",
          "2022-06-30",
          "2022-09-11",
          "2022-09-17",
          "2022-07-11",
          "2022-07-01",
          "2022-08-28",
          "2022-09-10",
          "2022-07-05",
          "2022-09-24",
          "2022-08-27",
          "2022-10-08",
          "2022-08-20",
          "2022-09-04",
          "2022-09-25",
          "2022-10-09",
          "2022-05-08",
          "2022-07-04",
          "2022-08-21",
          "2022-10-15",
          "2022-10-01",
          "2022-08-13",
          "2022-06-18",
          "2022-05-14",
          "2022-06-19",
          "2022-10-16",
          "2022-05-22",
          "2022-04-24",
          "2022-09-18",
          "2022-05-28",
          "2022-05-15",
          "2022-10-02",
          "2022-08-14",
          "2022-04-30",
          "2022-05-21",
          "2022-06-12",
          "2022-06-04",
          "2022-08-07",
          "2022-05-01",
          "2022-06-11",
          "2022-07-23",
          "2022-06-05",
          "2022-05-29",
          "2022-05-07",
          "2022-08-06",
          "2022-07-31",
          "2022-07-24",
          "2022-07-03",
          "2022-07-30",
          "2022-06-25",
          "2022-06-26",
          "2022-07-16",
          "2022-07-02",
          "2022-07-09",
          "2022-07-10",
          "2022-07-17"
         ],
         "xaxis": "x",
         "y": [
          528508,
          521614,
          511528,
          494557,
          492699,
          489546,
          483640,
          482806,
          480671,
          480198,
          478618,
          477671,
          476087,
          474986,
          474474,
          473129,
          473009,
          470786,
          469794,
          469722,
          466108,
          463927,
          463097,
          460587,
          460414,
          459689,
          459578,
          459302,
          458653,
          457047,
          451683,
          449504,
          448321,
          447267,
          443040,
          443001,
          442306,
          442018,
          441637,
          440425,
          440225,
          437413,
          434548,
          434279,
          433906,
          433133,
          431310,
          430183,
          429747,
          429328,
          426565,
          426163,
          426153,
          424840,
          423778,
          423045,
          422898,
          422886,
          420398,
          420267,
          419199,
          417040,
          416820,
          416771,
          416230,
          414715,
          414567,
          414534,
          414402,
          411785,
          411076,
          410858,
          410613,
          409956,
          409904,
          405194,
          405055,
          401853,
          399809,
          398976,
          398957,
          397836,
          397595,
          396945,
          395541,
          393202,
          392398,
          392013,
          391373,
          391142,
          390110,
          387547,
          387424,
          386488,
          384218,
          382876,
          380720,
          380672,
          379644,
          379474,
          379170,
          378620,
          378525,
          378348,
          376688,
          376607,
          376206,
          375925,
          375312,
          374610,
          374056,
          372490,
          372015,
          370680,
          370209,
          370132,
          369471,
          366880,
          362305,
          360672,
          360580,
          359210,
          353928,
          353313,
          351838,
          351634,
          348815,
          346535,
          345348,
          342412,
          341476,
          337402,
          337325,
          334641,
          334078,
          331415,
          324221,
          323165,
          323138,
          318898,
          316409,
          313710,
          305167,
          302220,
          301786,
          299120,
          296557,
          294077,
          285865,
          284051,
          281410,
          279183,
          275213,
          273988,
          271048,
          268992,
          268292,
          268264,
          267353,
          266409,
          266231,
          266190,
          264190,
          263662,
          262062,
          259290,
          256824,
          256638,
          253253,
          252337,
          246864,
          240517,
          235997,
          235727,
          233094,
          232350,
          232245,
          229388,
          229033,
          226719,
          221139
         ],
         "yaxis": "y"
        }
       ],
       "layout": {
        "legend": {
         "tracegroupgap": 0
        },
        "margin": {
         "t": 60
        },
        "shapes": [
         {
          "type": "line",
          "x0": "2022-9-4",
          "x1": "2022-9-4",
          "xref": "x",
          "y0": 0,
          "y1": 1,
          "yref": "y domain"
         },
         {
          "type": "line",
          "x0": "2022-9-11",
          "x1": "2022-9-11",
          "xref": "x",
          "y0": 0,
          "y1": 1,
          "yref": "y domain"
         },
         {
          "type": "line",
          "x0": "2022-9-18",
          "x1": "2022-9-18",
          "xref": "x",
          "y0": 0,
          "y1": 1,
          "yref": "y domain"
         },
         {
          "type": "line",
          "x0": "2022-9-25",
          "x1": "2022-9-25",
          "xref": "x",
          "y0": 0,
          "y1": 1,
          "yref": "y domain"
         }
        ],
        "template": {
         "data": {
          "bar": [
           {
            "error_x": {
             "color": "#2a3f5f"
            },
            "error_y": {
             "color": "#2a3f5f"
            },
            "marker": {
             "line": {
              "color": "#E5ECF6",
              "width": 0.5
             },
             "pattern": {
              "fillmode": "overlay",
              "size": 10,
              "solidity": 0.2
             }
            },
            "type": "bar"
           }
          ],
          "barpolar": [
           {
            "marker": {
             "line": {
              "color": "#E5ECF6",
              "width": 0.5
             },
             "pattern": {
              "fillmode": "overlay",
              "size": 10,
              "solidity": 0.2
             }
            },
            "type": "barpolar"
           }
          ],
          "carpet": [
           {
            "aaxis": {
             "endlinecolor": "#2a3f5f",
             "gridcolor": "white",
             "linecolor": "white",
             "minorgridcolor": "white",
             "startlinecolor": "#2a3f5f"
            },
            "baxis": {
             "endlinecolor": "#2a3f5f",
             "gridcolor": "white",
             "linecolor": "white",
             "minorgridcolor": "white",
             "startlinecolor": "#2a3f5f"
            },
            "type": "carpet"
           }
          ],
          "choropleth": [
           {
            "colorbar": {
             "outlinewidth": 0,
             "ticks": ""
            },
            "type": "choropleth"
           }
          ],
          "contour": [
           {
            "colorbar": {
             "outlinewidth": 0,
             "ticks": ""
            },
            "colorscale": [
             [
              0,
              "#0d0887"
             ],
             [
              0.1111111111111111,
              "#46039f"
             ],
             [
              0.2222222222222222,
              "#7201a8"
             ],
             [
              0.3333333333333333,
              "#9c179e"
             ],
             [
              0.4444444444444444,
              "#bd3786"
             ],
             [
              0.5555555555555556,
              "#d8576b"
             ],
             [
              0.6666666666666666,
              "#ed7953"
             ],
             [
              0.7777777777777778,
              "#fb9f3a"
             ],
             [
              0.8888888888888888,
              "#fdca26"
             ],
             [
              1,
              "#f0f921"
             ]
            ],
            "type": "contour"
           }
          ],
          "contourcarpet": [
           {
            "colorbar": {
             "outlinewidth": 0,
             "ticks": ""
            },
            "type": "contourcarpet"
           }
          ],
          "heatmap": [
           {
            "colorbar": {
             "outlinewidth": 0,
             "ticks": ""
            },
            "colorscale": [
             [
              0,
              "#0d0887"
             ],
             [
              0.1111111111111111,
              "#46039f"
             ],
             [
              0.2222222222222222,
              "#7201a8"
             ],
             [
              0.3333333333333333,
              "#9c179e"
             ],
             [
              0.4444444444444444,
              "#bd3786"
             ],
             [
              0.5555555555555556,
              "#d8576b"
             ],
             [
              0.6666666666666666,
              "#ed7953"
             ],
             [
              0.7777777777777778,
              "#fb9f3a"
             ],
             [
              0.8888888888888888,
              "#fdca26"
             ],
             [
              1,
              "#f0f921"
             ]
            ],
            "type": "heatmap"
           }
          ],
          "heatmapgl": [
           {
            "colorbar": {
             "outlinewidth": 0,
             "ticks": ""
            },
            "colorscale": [
             [
              0,
              "#0d0887"
             ],
             [
              0.1111111111111111,
              "#46039f"
             ],
             [
              0.2222222222222222,
              "#7201a8"
             ],
             [
              0.3333333333333333,
              "#9c179e"
             ],
             [
              0.4444444444444444,
              "#bd3786"
             ],
             [
              0.5555555555555556,
              "#d8576b"
             ],
             [
              0.6666666666666666,
              "#ed7953"
             ],
             [
              0.7777777777777778,
              "#fb9f3a"
             ],
             [
              0.8888888888888888,
              "#fdca26"
             ],
             [
              1,
              "#f0f921"
             ]
            ],
            "type": "heatmapgl"
           }
          ],
          "histogram": [
           {
            "marker": {
             "pattern": {
              "fillmode": "overlay",
              "size": 10,
              "solidity": 0.2
             }
            },
            "type": "histogram"
           }
          ],
          "histogram2d": [
           {
            "colorbar": {
             "outlinewidth": 0,
             "ticks": ""
            },
            "colorscale": [
             [
              0,
              "#0d0887"
             ],
             [
              0.1111111111111111,
              "#46039f"
             ],
             [
              0.2222222222222222,
              "#7201a8"
             ],
             [
              0.3333333333333333,
              "#9c179e"
             ],
             [
              0.4444444444444444,
              "#bd3786"
             ],
             [
              0.5555555555555556,
              "#d8576b"
             ],
             [
              0.6666666666666666,
              "#ed7953"
             ],
             [
              0.7777777777777778,
              "#fb9f3a"
             ],
             [
              0.8888888888888888,
              "#fdca26"
             ],
             [
              1,
              "#f0f921"
             ]
            ],
            "type": "histogram2d"
           }
          ],
          "histogram2dcontour": [
           {
            "colorbar": {
             "outlinewidth": 0,
             "ticks": ""
            },
            "colorscale": [
             [
              0,
              "#0d0887"
             ],
             [
              0.1111111111111111,
              "#46039f"
             ],
             [
              0.2222222222222222,
              "#7201a8"
             ],
             [
              0.3333333333333333,
              "#9c179e"
             ],
             [
              0.4444444444444444,
              "#bd3786"
             ],
             [
              0.5555555555555556,
              "#d8576b"
             ],
             [
              0.6666666666666666,
              "#ed7953"
             ],
             [
              0.7777777777777778,
              "#fb9f3a"
             ],
             [
              0.8888888888888888,
              "#fdca26"
             ],
             [
              1,
              "#f0f921"
             ]
            ],
            "type": "histogram2dcontour"
           }
          ],
          "mesh3d": [
           {
            "colorbar": {
             "outlinewidth": 0,
             "ticks": ""
            },
            "type": "mesh3d"
           }
          ],
          "parcoords": [
           {
            "line": {
             "colorbar": {
              "outlinewidth": 0,
              "ticks": ""
             }
            },
            "type": "parcoords"
           }
          ],
          "pie": [
           {
            "automargin": true,
            "type": "pie"
           }
          ],
          "scatter": [
           {
            "fillpattern": {
             "fillmode": "overlay",
             "size": 10,
             "solidity": 0.2
            },
            "type": "scatter"
           }
          ],
          "scatter3d": [
           {
            "line": {
             "colorbar": {
              "outlinewidth": 0,
              "ticks": ""
             }
            },
            "marker": {
             "colorbar": {
              "outlinewidth": 0,
              "ticks": ""
             }
            },
            "type": "scatter3d"
           }
          ],
          "scattercarpet": [
           {
            "marker": {
             "colorbar": {
              "outlinewidth": 0,
              "ticks": ""
             }
            },
            "type": "scattercarpet"
           }
          ],
          "scattergeo": [
           {
            "marker": {
             "colorbar": {
              "outlinewidth": 0,
              "ticks": ""
             }
            },
            "type": "scattergeo"
           }
          ],
          "scattergl": [
           {
            "marker": {
             "colorbar": {
              "outlinewidth": 0,
              "ticks": ""
             }
            },
            "type": "scattergl"
           }
          ],
          "scattermapbox": [
           {
            "marker": {
             "colorbar": {
              "outlinewidth": 0,
              "ticks": ""
             }
            },
            "type": "scattermapbox"
           }
          ],
          "scatterpolar": [
           {
            "marker": {
             "colorbar": {
              "outlinewidth": 0,
              "ticks": ""
             }
            },
            "type": "scatterpolar"
           }
          ],
          "scatterpolargl": [
           {
            "marker": {
             "colorbar": {
              "outlinewidth": 0,
              "ticks": ""
             }
            },
            "type": "scatterpolargl"
           }
          ],
          "scatterternary": [
           {
            "marker": {
             "colorbar": {
              "outlinewidth": 0,
              "ticks": ""
             }
            },
            "type": "scatterternary"
           }
          ],
          "surface": [
           {
            "colorbar": {
             "outlinewidth": 0,
             "ticks": ""
            },
            "colorscale": [
             [
              0,
              "#0d0887"
             ],
             [
              0.1111111111111111,
              "#46039f"
             ],
             [
              0.2222222222222222,
              "#7201a8"
             ],
             [
              0.3333333333333333,
              "#9c179e"
             ],
             [
              0.4444444444444444,
              "#bd3786"
             ],
             [
              0.5555555555555556,
              "#d8576b"
             ],
             [
              0.6666666666666666,
              "#ed7953"
             ],
             [
              0.7777777777777778,
              "#fb9f3a"
             ],
             [
              0.8888888888888888,
              "#fdca26"
             ],
             [
              1,
              "#f0f921"
             ]
            ],
            "type": "surface"
           }
          ],
          "table": [
           {
            "cells": {
             "fill": {
              "color": "#EBF0F8"
             },
             "line": {
              "color": "white"
             }
            },
            "header": {
             "fill": {
              "color": "#C8D4E3"
             },
             "line": {
              "color": "white"
             }
            },
            "type": "table"
           }
          ]
         },
         "layout": {
          "annotationdefaults": {
           "arrowcolor": "#2a3f5f",
           "arrowhead": 0,
           "arrowwidth": 1
          },
          "autotypenumbers": "strict",
          "coloraxis": {
           "colorbar": {
            "outlinewidth": 0,
            "ticks": ""
           }
          },
          "colorscale": {
           "diverging": [
            [
             0,
             "#8e0152"
            ],
            [
             0.1,
             "#c51b7d"
            ],
            [
             0.2,
             "#de77ae"
            ],
            [
             0.3,
             "#f1b6da"
            ],
            [
             0.4,
             "#fde0ef"
            ],
            [
             0.5,
             "#f7f7f7"
            ],
            [
             0.6,
             "#e6f5d0"
            ],
            [
             0.7,
             "#b8e186"
            ],
            [
             0.8,
             "#7fbc41"
            ],
            [
             0.9,
             "#4d9221"
            ],
            [
             1,
             "#276419"
            ]
           ],
           "sequential": [
            [
             0,
             "#0d0887"
            ],
            [
             0.1111111111111111,
             "#46039f"
            ],
            [
             0.2222222222222222,
             "#7201a8"
            ],
            [
             0.3333333333333333,
             "#9c179e"
            ],
            [
             0.4444444444444444,
             "#bd3786"
            ],
            [
             0.5555555555555556,
             "#d8576b"
            ],
            [
             0.6666666666666666,
             "#ed7953"
            ],
            [
             0.7777777777777778,
             "#fb9f3a"
            ],
            [
             0.8888888888888888,
             "#fdca26"
            ],
            [
             1,
             "#f0f921"
            ]
           ],
           "sequentialminus": [
            [
             0,
             "#0d0887"
            ],
            [
             0.1111111111111111,
             "#46039f"
            ],
            [
             0.2222222222222222,
             "#7201a8"
            ],
            [
             0.3333333333333333,
             "#9c179e"
            ],
            [
             0.4444444444444444,
             "#bd3786"
            ],
            [
             0.5555555555555556,
             "#d8576b"
            ],
            [
             0.6666666666666666,
             "#ed7953"
            ],
            [
             0.7777777777777778,
             "#fb9f3a"
            ],
            [
             0.8888888888888888,
             "#fdca26"
            ],
            [
             1,
             "#f0f921"
            ]
           ]
          },
          "colorway": [
           "#636efa",
           "#EF553B",
           "#00cc96",
           "#ab63fa",
           "#FFA15A",
           "#19d3f3",
           "#FF6692",
           "#B6E880",
           "#FF97FF",
           "#FECB52"
          ],
          "font": {
           "color": "#2a3f5f"
          },
          "geo": {
           "bgcolor": "white",
           "lakecolor": "white",
           "landcolor": "#E5ECF6",
           "showlakes": true,
           "showland": true,
           "subunitcolor": "white"
          },
          "hoverlabel": {
           "align": "left"
          },
          "hovermode": "closest",
          "mapbox": {
           "style": "light"
          },
          "paper_bgcolor": "white",
          "plot_bgcolor": "#E5ECF6",
          "polar": {
           "angularaxis": {
            "gridcolor": "white",
            "linecolor": "white",
            "ticks": ""
           },
           "bgcolor": "#E5ECF6",
           "radialaxis": {
            "gridcolor": "white",
            "linecolor": "white",
            "ticks": ""
           }
          },
          "scene": {
           "xaxis": {
            "backgroundcolor": "#E5ECF6",
            "gridcolor": "white",
            "gridwidth": 2,
            "linecolor": "white",
            "showbackground": true,
            "ticks": "",
            "zerolinecolor": "white"
           },
           "yaxis": {
            "backgroundcolor": "#E5ECF6",
            "gridcolor": "white",
            "gridwidth": 2,
            "linecolor": "white",
            "showbackground": true,
            "ticks": "",
            "zerolinecolor": "white"
           },
           "zaxis": {
            "backgroundcolor": "#E5ECF6",
            "gridcolor": "white",
            "gridwidth": 2,
            "linecolor": "white",
            "showbackground": true,
            "ticks": "",
            "zerolinecolor": "white"
           }
          },
          "shapedefaults": {
           "line": {
            "color": "#2a3f5f"
           }
          },
          "ternary": {
           "aaxis": {
            "gridcolor": "white",
            "linecolor": "white",
            "ticks": ""
           },
           "baxis": {
            "gridcolor": "white",
            "linecolor": "white",
            "ticks": ""
           },
           "bgcolor": "#E5ECF6",
           "caxis": {
            "gridcolor": "white",
            "linecolor": "white",
            "ticks": ""
           }
          },
          "title": {
           "x": 0.05
          },
          "xaxis": {
           "automargin": true,
           "gridcolor": "white",
           "linecolor": "white",
           "ticks": "",
           "title": {
            "standoff": 15
           },
           "zerolinecolor": "white",
           "zerolinewidth": 2
          },
          "yaxis": {
           "automargin": true,
           "gridcolor": "white",
           "linecolor": "white",
           "ticks": "",
           "title": {
            "standoff": 15
           },
           "zerolinecolor": "white",
           "zerolinewidth": 2
          }
         }
        },
        "xaxis": {
         "anchor": "y",
         "domain": [
          0,
          1
         ],
         "title": {
          "text": "date"
         }
        },
        "yaxis": {
         "anchor": "x",
         "domain": [
          0,
          1
         ],
         "title": {
          "text": "downloads"
         }
        }
       }
      }
     },
     "metadata": {},
     "output_type": "display_data"
    }
   ],
   "source": [
    "import plotly.express as px\n",
    "df.fillna(0)\n",
    "df = df.replace('null',0)\n",
    "df = df.replace('Total',0)\n",
    "df['version'] = df['category'].astype(float)\n",
    "dfy = df.query(\"version == 3.7\")\n",
    "fig = px.scatter(dfy, x='date', y='downloads')\n",
    "mondays = ['2022-9-4', '2022-9-11', '2022-9-18', '2022-9-25']\n",
    "for d in mondays:\n",
    "    fig.add_vline(x=d)\n",
    "fig.show()"
   ]
  }
 ],
 "metadata": {
  "kernelspec": {
   "display_name": "Python 3.10.8 ('virtual_env': venv)",
   "language": "python",
   "name": "python3"
  },
  "language_info": {
   "codemirror_mode": {
    "name": "ipython",
    "version": 3
   },
   "file_extension": ".py",
   "mimetype": "text/x-python",
   "name": "python",
   "nbconvert_exporter": "python",
   "pygments_lexer": "ipython3",
   "version": "3.10.8"
  },
  "orig_nbformat": 4,
  "vscode": {
   "interpreter": {
    "hash": "7a791564c7636bd0312489df8a91f04e82f7a7839c41ea5b51e49c54c216cd7b"
   }
  }
 },
 "nbformat": 4,
 "nbformat_minor": 2
}
