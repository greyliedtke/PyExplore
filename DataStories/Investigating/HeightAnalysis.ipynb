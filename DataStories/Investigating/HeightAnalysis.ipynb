{
 "cells": [
  {
   "cell_type": "code",
   "execution_count": 5,
   "metadata": {},
   "outputs": [],
   "source": [
    "# Height by country comparisons\n",
    "import pandas as pd\n",
    "df = pd.read_csv('heights.csv')"
   ]
  },
  {
   "cell_type": "code",
   "execution_count": 8,
   "metadata": {},
   "outputs": [
    {
     "data": {
      "application/vnd.plotly.v1+json": {
       "config": {
        "plotlyServerURL": "https://plot.ly"
       },
       "data": [
        {
         "alignmentgroup": "True",
         "hovertemplate": "Country Name=%{x}<br>Male Height in Ft=%{y}<extra></extra>",
         "legendgroup": "",
         "marker": {
          "color": "#636efa",
          "pattern": {
           "shape": ""
          }
         },
         "name": "",
         "offsetgroup": "",
         "orientation": "v",
         "showlegend": false,
         "textposition": "auto",
         "type": "bar",
         "x": [
          "Netherlands",
          "Montenegro",
          "Estonia",
          "Bosnia and Herzegovina",
          "Iceland",
          "Denmark",
          "Czech Republic",
          "Latvia",
          "Slovakia",
          "Slovenia",
          "Ukraine",
          "Croatia",
          "Serbia",
          "Lithuania",
          "Poland",
          "Finland",
          "Norway",
          "Sweden",
          "Germany",
          "Dominica",
          "Bermuda",
          "Puerto Rico",
          "Greece",
          "Belgium",
          "Ireland",
          "Lebanon",
          "Andorra",
          "Antigua and Barbuda",
          "Australia",
          "Canada",
          "Switzerland",
          "Grenada",
          "Belarus",
          "France",
          "Austria",
          "Luxembourg",
          "Cook Islands",
          "French Polynesia",
          "United Kingdom",
          "Romania",
          "New Zealand",
          "Saint Vincent and the Grenadines",
          "Niue",
          "American Samoa",
          "Barbados",
          "Jamaica",
          "United States",
          "Tunisia",
          "Russia",
          "Hungary",
          "Saint Lucia",
          "North Macedonia",
          "Libya",
          "Turkey",
          "Morocco",
          "Senegal",
          "Spain",
          "Tokelau",
          "Trinidad and Tobago",
          "Israel",
          "Georgia",
          "Seychelles",
          "Brazil",
          "China",
          "Iran",
          "Moldova",
          "South Korea",
          "Kazakhstan",
          "Tonga",
          "Palestine",
          "Algeria",
          "Mali",
          "Kuwait",
          "Jordan",
          "Hong Kong",
          "Argentina",
          "North Korea",
          "Dominican Republic",
          "Egypt",
          "Suriname",
          "Italy",
          "Samoa",
          "Bahamas",
          "Malta",
          "Turkmenistan",
          "Portugal",
          "Uruguay",
          "Bulgaria",
          "United Arab Emirates",
          "Albania",
          "Costa Rica",
          "Azerbaijan",
          "Fiji",
          "Greenland",
          "Paraguay",
          "Iraq",
          "Saint Kitts and Nevis",
          "Armenia",
          "Cuba",
          "Venezuela",
          "Taiwan",
          "Singapore",
          "Qatar",
          "Botswana",
          "Mauritius",
          "Chile",
          "Bahrain",
          "Cyprus",
          "Haiti",
          "Guyana",
          "Cameroon",
          "Sudan",
          "Japan",
          "Burkina Faso",
          "Colombia",
          "Chad",
          "Oman",
          "Kyrgyzstan",
          "Syria",
          "Thailand",
          "Nigeria",
          "Tuvalu",
          "Republic of the Congo",
          "Somalia",
          "Uzbekistan",
          "Djibouti",
          "Guinea",
          "Zimbabwe",
          "Mongolia",
          "El Salvador",
          "Saudi Arabia",
          "Palau",
          "Eritrea",
          "Belize",
          "Gabon",
          "Kenya",
          "Sao Tome and Principe",
          "Ghana",
          "Mexico",
          "Niger",
          "Panama",
          "Togo",
          "Kiribati",
          "Nicaragua",
          "Namibia",
          "South Africa",
          "Honduras",
          "Micronesia",
          "Nauru",
          "Eswatini",
          "Malaysia",
          "Central African Republic",
          "Vietnam",
          "Ethiopia",
          "Uganda",
          "DR Congo",
          "Afghanistan",
          "Angola",
          "Benin",
          "Tajikistan",
          "Gambia",
          "Vanuatu",
          "Ivory Coast",
          "Equatorial Guinea",
          "Guinea-Bissau",
          "Bolivia",
          "Sri Lanka",
          "Lesotho",
          "Maldives",
          "Comoros",
          "Zambia",
          "Burundi",
          "Pakistan",
          "Ecuador",
          "Bhutan",
          "Tanzania",
          "Peru",
          "Myanmar",
          "India",
          "Sierra Leone",
          "Brunei",
          "Indonesia",
          "Rwanda",
          "Malawi",
          "Mauritania",
          "Liberia",
          "Cambodia",
          "Marshall Islands",
          "Philippines",
          "Madagascar",
          "Bangladesh",
          "Yemen",
          "Nepal",
          "Guatemala",
          "Mozambique",
          "Papua New Guinea",
          "Solomon Islands",
          "Laos",
          "Timor-Leste"
         ],
         "xaxis": "x",
         "y": [
          6.03,
          6.01,
          6,
          5.99,
          5.97,
          5.97,
          5.94,
          5.94,
          5.94,
          5.94,
          5.94,
          5.93,
          5.93,
          5.93,
          5.93,
          5.92,
          5.92,
          5.92,
          5.91,
          5.91,
          5.9,
          5.89,
          5.88,
          5.88,
          5.87,
          5.87,
          5.87,
          5.87,
          5.87,
          5.86,
          5.86,
          5.86,
          5.86,
          5.86,
          5.86,
          5.86,
          5.85,
          5.85,
          5.85,
          5.83,
          5.83,
          5.82,
          5.81,
          5.81,
          5.81,
          5.81,
          5.81,
          5.8,
          5.8,
          5.79,
          5.79,
          5.79,
          5.79,
          5.79,
          5.79,
          5.78,
          5.78,
          5.78,
          5.78,
          5.77,
          5.77,
          5.77,
          5.77,
          5.76,
          5.76,
          5.76,
          5.76,
          5.76,
          5.75,
          5.74,
          5.74,
          5.74,
          5.74,
          5.74,
          5.74,
          5.73,
          5.73,
          5.73,
          5.73,
          5.73,
          5.72,
          5.72,
          5.72,
          5.72,
          5.72,
          5.72,
          5.72,
          5.71,
          5.71,
          5.71,
          5.71,
          5.71,
          5.71,
          5.7,
          5.7,
          5.7,
          5.7,
          5.7,
          5.69,
          5.69,
          5.69,
          5.69,
          5.68,
          5.68,
          5.68,
          5.67,
          5.67,
          5.67,
          5.65,
          5.65,
          5.65,
          5.65,
          5.65,
          5.64,
          5.64,
          5.64,
          5.63,
          5.63,
          5.63,
          5.63,
          5.63,
          5.62,
          5.62,
          5.62,
          5.61,
          5.6,
          5.6,
          5.6,
          5.6,
          5.6,
          5.6,
          5.6,
          5.6,
          5.59,
          5.59,
          5.59,
          5.59,
          5.59,
          5.59,
          5.59,
          5.58,
          5.58,
          5.58,
          5.57,
          5.57,
          5.57,
          5.56,
          5.56,
          5.56,
          5.56,
          5.55,
          5.54,
          5.54,
          5.54,
          5.54,
          5.53,
          5.53,
          5.53,
          5.53,
          5.53,
          5.52,
          5.52,
          5.52,
          5.52,
          5.52,
          5.52,
          5.51,
          5.51,
          5.51,
          5.5,
          5.5,
          5.49,
          5.49,
          5.49,
          5.48,
          5.48,
          5.47,
          5.47,
          5.46,
          5.46,
          5.46,
          5.45,
          5.45,
          5.44,
          5.43,
          5.43,
          5.42,
          5.42,
          5.42,
          5.42,
          5.42,
          5.39,
          5.39,
          5.39,
          5.39,
          5.35,
          5.35,
          5.34,
          5.25
         ],
         "yaxis": "y"
        }
       ],
       "layout": {
        "barmode": "relative",
        "legend": {
         "tracegroupgap": 0
        },
        "margin": {
         "t": 60
        },
        "template": {
         "data": {
          "bar": [
           {
            "error_x": {
             "color": "#2a3f5f"
            },
            "error_y": {
             "color": "#2a3f5f"
            },
            "marker": {
             "line": {
              "color": "#E5ECF6",
              "width": 0.5
             },
             "pattern": {
              "fillmode": "overlay",
              "size": 10,
              "solidity": 0.2
             }
            },
            "type": "bar"
           }
          ],
          "barpolar": [
           {
            "marker": {
             "line": {
              "color": "#E5ECF6",
              "width": 0.5
             },
             "pattern": {
              "fillmode": "overlay",
              "size": 10,
              "solidity": 0.2
             }
            },
            "type": "barpolar"
           }
          ],
          "carpet": [
           {
            "aaxis": {
             "endlinecolor": "#2a3f5f",
             "gridcolor": "white",
             "linecolor": "white",
             "minorgridcolor": "white",
             "startlinecolor": "#2a3f5f"
            },
            "baxis": {
             "endlinecolor": "#2a3f5f",
             "gridcolor": "white",
             "linecolor": "white",
             "minorgridcolor": "white",
             "startlinecolor": "#2a3f5f"
            },
            "type": "carpet"
           }
          ],
          "choropleth": [
           {
            "colorbar": {
             "outlinewidth": 0,
             "ticks": ""
            },
            "type": "choropleth"
           }
          ],
          "contour": [
           {
            "colorbar": {
             "outlinewidth": 0,
             "ticks": ""
            },
            "colorscale": [
             [
              0,
              "#0d0887"
             ],
             [
              0.1111111111111111,
              "#46039f"
             ],
             [
              0.2222222222222222,
              "#7201a8"
             ],
             [
              0.3333333333333333,
              "#9c179e"
             ],
             [
              0.4444444444444444,
              "#bd3786"
             ],
             [
              0.5555555555555556,
              "#d8576b"
             ],
             [
              0.6666666666666666,
              "#ed7953"
             ],
             [
              0.7777777777777778,
              "#fb9f3a"
             ],
             [
              0.8888888888888888,
              "#fdca26"
             ],
             [
              1,
              "#f0f921"
             ]
            ],
            "type": "contour"
           }
          ],
          "contourcarpet": [
           {
            "colorbar": {
             "outlinewidth": 0,
             "ticks": ""
            },
            "type": "contourcarpet"
           }
          ],
          "heatmap": [
           {
            "colorbar": {
             "outlinewidth": 0,
             "ticks": ""
            },
            "colorscale": [
             [
              0,
              "#0d0887"
             ],
             [
              0.1111111111111111,
              "#46039f"
             ],
             [
              0.2222222222222222,
              "#7201a8"
             ],
             [
              0.3333333333333333,
              "#9c179e"
             ],
             [
              0.4444444444444444,
              "#bd3786"
             ],
             [
              0.5555555555555556,
              "#d8576b"
             ],
             [
              0.6666666666666666,
              "#ed7953"
             ],
             [
              0.7777777777777778,
              "#fb9f3a"
             ],
             [
              0.8888888888888888,
              "#fdca26"
             ],
             [
              1,
              "#f0f921"
             ]
            ],
            "type": "heatmap"
           }
          ],
          "heatmapgl": [
           {
            "colorbar": {
             "outlinewidth": 0,
             "ticks": ""
            },
            "colorscale": [
             [
              0,
              "#0d0887"
             ],
             [
              0.1111111111111111,
              "#46039f"
             ],
             [
              0.2222222222222222,
              "#7201a8"
             ],
             [
              0.3333333333333333,
              "#9c179e"
             ],
             [
              0.4444444444444444,
              "#bd3786"
             ],
             [
              0.5555555555555556,
              "#d8576b"
             ],
             [
              0.6666666666666666,
              "#ed7953"
             ],
             [
              0.7777777777777778,
              "#fb9f3a"
             ],
             [
              0.8888888888888888,
              "#fdca26"
             ],
             [
              1,
              "#f0f921"
             ]
            ],
            "type": "heatmapgl"
           }
          ],
          "histogram": [
           {
            "marker": {
             "pattern": {
              "fillmode": "overlay",
              "size": 10,
              "solidity": 0.2
             }
            },
            "type": "histogram"
           }
          ],
          "histogram2d": [
           {
            "colorbar": {
             "outlinewidth": 0,
             "ticks": ""
            },
            "colorscale": [
             [
              0,
              "#0d0887"
             ],
             [
              0.1111111111111111,
              "#46039f"
             ],
             [
              0.2222222222222222,
              "#7201a8"
             ],
             [
              0.3333333333333333,
              "#9c179e"
             ],
             [
              0.4444444444444444,
              "#bd3786"
             ],
             [
              0.5555555555555556,
              "#d8576b"
             ],
             [
              0.6666666666666666,
              "#ed7953"
             ],
             [
              0.7777777777777778,
              "#fb9f3a"
             ],
             [
              0.8888888888888888,
              "#fdca26"
             ],
             [
              1,
              "#f0f921"
             ]
            ],
            "type": "histogram2d"
           }
          ],
          "histogram2dcontour": [
           {
            "colorbar": {
             "outlinewidth": 0,
             "ticks": ""
            },
            "colorscale": [
             [
              0,
              "#0d0887"
             ],
             [
              0.1111111111111111,
              "#46039f"
             ],
             [
              0.2222222222222222,
              "#7201a8"
             ],
             [
              0.3333333333333333,
              "#9c179e"
             ],
             [
              0.4444444444444444,
              "#bd3786"
             ],
             [
              0.5555555555555556,
              "#d8576b"
             ],
             [
              0.6666666666666666,
              "#ed7953"
             ],
             [
              0.7777777777777778,
              "#fb9f3a"
             ],
             [
              0.8888888888888888,
              "#fdca26"
             ],
             [
              1,
              "#f0f921"
             ]
            ],
            "type": "histogram2dcontour"
           }
          ],
          "mesh3d": [
           {
            "colorbar": {
             "outlinewidth": 0,
             "ticks": ""
            },
            "type": "mesh3d"
           }
          ],
          "parcoords": [
           {
            "line": {
             "colorbar": {
              "outlinewidth": 0,
              "ticks": ""
             }
            },
            "type": "parcoords"
           }
          ],
          "pie": [
           {
            "automargin": true,
            "type": "pie"
           }
          ],
          "scatter": [
           {
            "fillpattern": {
             "fillmode": "overlay",
             "size": 10,
             "solidity": 0.2
            },
            "type": "scatter"
           }
          ],
          "scatter3d": [
           {
            "line": {
             "colorbar": {
              "outlinewidth": 0,
              "ticks": ""
             }
            },
            "marker": {
             "colorbar": {
              "outlinewidth": 0,
              "ticks": ""
             }
            },
            "type": "scatter3d"
           }
          ],
          "scattercarpet": [
           {
            "marker": {
             "colorbar": {
              "outlinewidth": 0,
              "ticks": ""
             }
            },
            "type": "scattercarpet"
           }
          ],
          "scattergeo": [
           {
            "marker": {
             "colorbar": {
              "outlinewidth": 0,
              "ticks": ""
             }
            },
            "type": "scattergeo"
           }
          ],
          "scattergl": [
           {
            "marker": {
             "colorbar": {
              "outlinewidth": 0,
              "ticks": ""
             }
            },
            "type": "scattergl"
           }
          ],
          "scattermapbox": [
           {
            "marker": {
             "colorbar": {
              "outlinewidth": 0,
              "ticks": ""
             }
            },
            "type": "scattermapbox"
           }
          ],
          "scatterpolar": [
           {
            "marker": {
             "colorbar": {
              "outlinewidth": 0,
              "ticks": ""
             }
            },
            "type": "scatterpolar"
           }
          ],
          "scatterpolargl": [
           {
            "marker": {
             "colorbar": {
              "outlinewidth": 0,
              "ticks": ""
             }
            },
            "type": "scatterpolargl"
           }
          ],
          "scatterternary": [
           {
            "marker": {
             "colorbar": {
              "outlinewidth": 0,
              "ticks": ""
             }
            },
            "type": "scatterternary"
           }
          ],
          "surface": [
           {
            "colorbar": {
             "outlinewidth": 0,
             "ticks": ""
            },
            "colorscale": [
             [
              0,
              "#0d0887"
             ],
             [
              0.1111111111111111,
              "#46039f"
             ],
             [
              0.2222222222222222,
              "#7201a8"
             ],
             [
              0.3333333333333333,
              "#9c179e"
             ],
             [
              0.4444444444444444,
              "#bd3786"
             ],
             [
              0.5555555555555556,
              "#d8576b"
             ],
             [
              0.6666666666666666,
              "#ed7953"
             ],
             [
              0.7777777777777778,
              "#fb9f3a"
             ],
             [
              0.8888888888888888,
              "#fdca26"
             ],
             [
              1,
              "#f0f921"
             ]
            ],
            "type": "surface"
           }
          ],
          "table": [
           {
            "cells": {
             "fill": {
              "color": "#EBF0F8"
             },
             "line": {
              "color": "white"
             }
            },
            "header": {
             "fill": {
              "color": "#C8D4E3"
             },
             "line": {
              "color": "white"
             }
            },
            "type": "table"
           }
          ]
         },
         "layout": {
          "annotationdefaults": {
           "arrowcolor": "#2a3f5f",
           "arrowhead": 0,
           "arrowwidth": 1
          },
          "autotypenumbers": "strict",
          "coloraxis": {
           "colorbar": {
            "outlinewidth": 0,
            "ticks": ""
           }
          },
          "colorscale": {
           "diverging": [
            [
             0,
             "#8e0152"
            ],
            [
             0.1,
             "#c51b7d"
            ],
            [
             0.2,
             "#de77ae"
            ],
            [
             0.3,
             "#f1b6da"
            ],
            [
             0.4,
             "#fde0ef"
            ],
            [
             0.5,
             "#f7f7f7"
            ],
            [
             0.6,
             "#e6f5d0"
            ],
            [
             0.7,
             "#b8e186"
            ],
            [
             0.8,
             "#7fbc41"
            ],
            [
             0.9,
             "#4d9221"
            ],
            [
             1,
             "#276419"
            ]
           ],
           "sequential": [
            [
             0,
             "#0d0887"
            ],
            [
             0.1111111111111111,
             "#46039f"
            ],
            [
             0.2222222222222222,
             "#7201a8"
            ],
            [
             0.3333333333333333,
             "#9c179e"
            ],
            [
             0.4444444444444444,
             "#bd3786"
            ],
            [
             0.5555555555555556,
             "#d8576b"
            ],
            [
             0.6666666666666666,
             "#ed7953"
            ],
            [
             0.7777777777777778,
             "#fb9f3a"
            ],
            [
             0.8888888888888888,
             "#fdca26"
            ],
            [
             1,
             "#f0f921"
            ]
           ],
           "sequentialminus": [
            [
             0,
             "#0d0887"
            ],
            [
             0.1111111111111111,
             "#46039f"
            ],
            [
             0.2222222222222222,
             "#7201a8"
            ],
            [
             0.3333333333333333,
             "#9c179e"
            ],
            [
             0.4444444444444444,
             "#bd3786"
            ],
            [
             0.5555555555555556,
             "#d8576b"
            ],
            [
             0.6666666666666666,
             "#ed7953"
            ],
            [
             0.7777777777777778,
             "#fb9f3a"
            ],
            [
             0.8888888888888888,
             "#fdca26"
            ],
            [
             1,
             "#f0f921"
            ]
           ]
          },
          "colorway": [
           "#636efa",
           "#EF553B",
           "#00cc96",
           "#ab63fa",
           "#FFA15A",
           "#19d3f3",
           "#FF6692",
           "#B6E880",
           "#FF97FF",
           "#FECB52"
          ],
          "font": {
           "color": "#2a3f5f"
          },
          "geo": {
           "bgcolor": "white",
           "lakecolor": "white",
           "landcolor": "#E5ECF6",
           "showlakes": true,
           "showland": true,
           "subunitcolor": "white"
          },
          "hoverlabel": {
           "align": "left"
          },
          "hovermode": "closest",
          "mapbox": {
           "style": "light"
          },
          "paper_bgcolor": "white",
          "plot_bgcolor": "#E5ECF6",
          "polar": {
           "angularaxis": {
            "gridcolor": "white",
            "linecolor": "white",
            "ticks": ""
           },
           "bgcolor": "#E5ECF6",
           "radialaxis": {
            "gridcolor": "white",
            "linecolor": "white",
            "ticks": ""
           }
          },
          "scene": {
           "xaxis": {
            "backgroundcolor": "#E5ECF6",
            "gridcolor": "white",
            "gridwidth": 2,
            "linecolor": "white",
            "showbackground": true,
            "ticks": "",
            "zerolinecolor": "white"
           },
           "yaxis": {
            "backgroundcolor": "#E5ECF6",
            "gridcolor": "white",
            "gridwidth": 2,
            "linecolor": "white",
            "showbackground": true,
            "ticks": "",
            "zerolinecolor": "white"
           },
           "zaxis": {
            "backgroundcolor": "#E5ECF6",
            "gridcolor": "white",
            "gridwidth": 2,
            "linecolor": "white",
            "showbackground": true,
            "ticks": "",
            "zerolinecolor": "white"
           }
          },
          "shapedefaults": {
           "line": {
            "color": "#2a3f5f"
           }
          },
          "ternary": {
           "aaxis": {
            "gridcolor": "white",
            "linecolor": "white",
            "ticks": ""
           },
           "baxis": {
            "gridcolor": "white",
            "linecolor": "white",
            "ticks": ""
           },
           "bgcolor": "#E5ECF6",
           "caxis": {
            "gridcolor": "white",
            "linecolor": "white",
            "ticks": ""
           }
          },
          "title": {
           "x": 0.05
          },
          "xaxis": {
           "automargin": true,
           "gridcolor": "white",
           "linecolor": "white",
           "ticks": "",
           "title": {
            "standoff": 15
           },
           "zerolinecolor": "white",
           "zerolinewidth": 2
          },
          "yaxis": {
           "automargin": true,
           "gridcolor": "white",
           "linecolor": "white",
           "ticks": "",
           "title": {
            "standoff": 15
           },
           "zerolinecolor": "white",
           "zerolinewidth": 2
          }
         }
        },
        "xaxis": {
         "anchor": "y",
         "domain": [
          0,
          1
         ],
         "title": {
          "text": "Country Name"
         }
        },
        "yaxis": {
         "anchor": "x",
         "domain": [
          0,
          1
         ],
         "title": {
          "text": "Male Height in Ft"
         }
        }
       }
      }
     },
     "metadata": {},
     "output_type": "display_data"
    }
   ],
   "source": [
    "import plotly.express as px\n",
    "fig = px.bar(df, x='Country Name', y='Male Height in Ft')\n",
    "fig.show()\n"
   ]
  },
  {
   "cell_type": "code",
   "execution_count": 10,
   "metadata": {},
   "outputs": [],
   "source": [
    "import pycountry\n",
    "\n",
    "countries = {}\n",
    "for country in pycountry.countries:\n",
    "    countries[country.name] = country.alpha_3\n",
    "\n",
    "cc_col = []\n",
    "for i, row in df.iterrows():\n",
    "    cc_col.append(countries.get(row['Country Name'], 'Unknown code'))\n",
    "\n",
    "df['code'] = cc_col"
   ]
  },
  {
   "cell_type": "code",
   "execution_count": 13,
   "metadata": {},
   "outputs": [
    {
     "data": {
      "application/vnd.plotly.v1+json": {
       "config": {
        "plotlyServerURL": "https://plot.ly"
       },
       "data": [
        {
         "coloraxis": "coloraxis",
         "geo": "geo",
         "hovertemplate": "<b>%{hovertext}</b><br><br>code=%{location}<br>Female Height in Ft=%{z}<extra></extra>",
         "hovertext": [
          "Netherlands",
          "Montenegro",
          "Estonia",
          "Bosnia and Herzegovina",
          "Iceland",
          "Denmark",
          "Czech Republic",
          "Latvia",
          "Slovakia",
          "Slovenia",
          "Ukraine",
          "Croatia",
          "Serbia",
          "Lithuania",
          "Poland",
          "Finland",
          "Norway",
          "Sweden",
          "Germany",
          "Dominica",
          "Bermuda",
          "Puerto Rico",
          "Greece",
          "Belgium",
          "Ireland",
          "Lebanon",
          "Andorra",
          "Antigua and Barbuda",
          "Australia",
          "Canada",
          "Switzerland",
          "Grenada",
          "Belarus",
          "France",
          "Austria",
          "Luxembourg",
          "Cook Islands",
          "French Polynesia",
          "United Kingdom",
          "Romania",
          "New Zealand",
          "Saint Vincent and the Grenadines",
          "Niue",
          "American Samoa",
          "Barbados",
          "Jamaica",
          "United States",
          "Tunisia",
          "Russia",
          "Hungary",
          "Saint Lucia",
          "North Macedonia",
          "Libya",
          "Turkey",
          "Morocco",
          "Senegal",
          "Spain",
          "Tokelau",
          "Trinidad and Tobago",
          "Israel",
          "Georgia",
          "Seychelles",
          "Brazil",
          "China",
          "Iran",
          "Moldova",
          "South Korea",
          "Kazakhstan",
          "Tonga",
          "Palestine",
          "Algeria",
          "Mali",
          "Kuwait",
          "Jordan",
          "Hong Kong",
          "Argentina",
          "North Korea",
          "Dominican Republic",
          "Egypt",
          "Suriname",
          "Italy",
          "Samoa",
          "Bahamas",
          "Malta",
          "Turkmenistan",
          "Portugal",
          "Uruguay",
          "Bulgaria",
          "United Arab Emirates",
          "Albania",
          "Costa Rica",
          "Azerbaijan",
          "Fiji",
          "Greenland",
          "Paraguay",
          "Iraq",
          "Saint Kitts and Nevis",
          "Armenia",
          "Cuba",
          "Venezuela",
          "Taiwan",
          "Singapore",
          "Qatar",
          "Botswana",
          "Mauritius",
          "Chile",
          "Bahrain",
          "Cyprus",
          "Haiti",
          "Guyana",
          "Cameroon",
          "Sudan",
          "Japan",
          "Burkina Faso",
          "Colombia",
          "Chad",
          "Oman",
          "Kyrgyzstan",
          "Syria",
          "Thailand",
          "Nigeria",
          "Tuvalu",
          "Republic of the Congo",
          "Somalia",
          "Uzbekistan",
          "Djibouti",
          "Guinea",
          "Zimbabwe",
          "Mongolia",
          "El Salvador",
          "Saudi Arabia",
          "Palau",
          "Eritrea",
          "Belize",
          "Gabon",
          "Kenya",
          "Sao Tome and Principe",
          "Ghana",
          "Mexico",
          "Niger",
          "Panama",
          "Togo",
          "Kiribati",
          "Nicaragua",
          "Namibia",
          "South Africa",
          "Honduras",
          "Micronesia",
          "Nauru",
          "Eswatini",
          "Malaysia",
          "Central African Republic",
          "Vietnam",
          "Ethiopia",
          "Uganda",
          "DR Congo",
          "Afghanistan",
          "Angola",
          "Benin",
          "Tajikistan",
          "Gambia",
          "Vanuatu",
          "Ivory Coast",
          "Equatorial Guinea",
          "Guinea-Bissau",
          "Bolivia",
          "Sri Lanka",
          "Lesotho",
          "Maldives",
          "Comoros",
          "Zambia",
          "Burundi",
          "Pakistan",
          "Ecuador",
          "Bhutan",
          "Tanzania",
          "Peru",
          "Myanmar",
          "India",
          "Sierra Leone",
          "Brunei",
          "Indonesia",
          "Rwanda",
          "Malawi",
          "Mauritania",
          "Liberia",
          "Cambodia",
          "Marshall Islands",
          "Philippines",
          "Madagascar",
          "Bangladesh",
          "Yemen",
          "Nepal",
          "Guatemala",
          "Mozambique",
          "Papua New Guinea",
          "Solomon Islands",
          "Laos",
          "Timor-Leste"
         ],
         "locations": [
          "NLD",
          "MNE",
          "EST",
          "BIH",
          "ISL",
          "DNK",
          "Unknown code",
          "LVA",
          "SVK",
          "SVN",
          "UKR",
          "HRV",
          "SRB",
          "LTU",
          "POL",
          "FIN",
          "NOR",
          "SWE",
          "DEU",
          "DMA",
          "BMU",
          "PRI",
          "GRC",
          "BEL",
          "IRL",
          "LBN",
          "AND",
          "ATG",
          "AUS",
          "CAN",
          "CHE",
          "GRD",
          "BLR",
          "FRA",
          "AUT",
          "LUX",
          "COK",
          "PYF",
          "GBR",
          "ROU",
          "NZL",
          "VCT",
          "NIU",
          "ASM",
          "BRB",
          "JAM",
          "USA",
          "TUN",
          "Unknown code",
          "HUN",
          "LCA",
          "MKD",
          "LBY",
          "TUR",
          "MAR",
          "SEN",
          "ESP",
          "TKL",
          "TTO",
          "ISR",
          "GEO",
          "SYC",
          "BRA",
          "CHN",
          "Unknown code",
          "Unknown code",
          "Unknown code",
          "KAZ",
          "TON",
          "Unknown code",
          "DZA",
          "MLI",
          "KWT",
          "JOR",
          "HKG",
          "ARG",
          "Unknown code",
          "DOM",
          "EGY",
          "SUR",
          "ITA",
          "WSM",
          "BHS",
          "MLT",
          "TKM",
          "PRT",
          "URY",
          "BGR",
          "ARE",
          "ALB",
          "CRI",
          "AZE",
          "FJI",
          "GRL",
          "PRY",
          "IRQ",
          "KNA",
          "ARM",
          "CUB",
          "Unknown code",
          "Unknown code",
          "SGP",
          "QAT",
          "BWA",
          "MUS",
          "CHL",
          "BHR",
          "CYP",
          "HTI",
          "GUY",
          "CMR",
          "SDN",
          "JPN",
          "BFA",
          "COL",
          "TCD",
          "OMN",
          "KGZ",
          "Unknown code",
          "THA",
          "NGA",
          "TUV",
          "Unknown code",
          "SOM",
          "UZB",
          "DJI",
          "GIN",
          "ZWE",
          "MNG",
          "SLV",
          "SAU",
          "PLW",
          "ERI",
          "BLZ",
          "GAB",
          "KEN",
          "STP",
          "GHA",
          "MEX",
          "NER",
          "PAN",
          "TGO",
          "KIR",
          "NIC",
          "NAM",
          "ZAF",
          "HND",
          "Unknown code",
          "NRU",
          "SWZ",
          "MYS",
          "CAF",
          "Unknown code",
          "ETH",
          "UGA",
          "Unknown code",
          "AFG",
          "AGO",
          "BEN",
          "TJK",
          "GMB",
          "VUT",
          "Unknown code",
          "GNQ",
          "GNB",
          "Unknown code",
          "LKA",
          "LSO",
          "MDV",
          "COM",
          "ZMB",
          "BDI",
          "PAK",
          "ECU",
          "BTN",
          "Unknown code",
          "PER",
          "MMR",
          "IND",
          "SLE",
          "Unknown code",
          "IDN",
          "RWA",
          "MWI",
          "MRT",
          "LBR",
          "KHM",
          "MHL",
          "PHL",
          "MDG",
          "BGD",
          "YEM",
          "NPL",
          "GTM",
          "MOZ",
          "PNG",
          "SLB",
          "Unknown code",
          "TLS"
         ],
         "name": "",
         "type": "choropleth",
         "z": [
          5.59,
          5.58,
          5.53,
          5.49,
          5.54,
          5.56,
          5.51,
          5.54,
          5.48,
          5.49,
          5.47,
          5.47,
          5.52,
          5.5,
          5.44,
          5.46,
          5.46,
          5.47,
          5.45,
          5.48,
          5.45,
          5.35,
          5.44,
          5.36,
          5.4,
          5.37,
          5.43,
          5.44,
          5.4,
          5.4,
          5.39,
          5.45,
          5.48,
          5.4,
          5.48,
          5.42,
          5.49,
          5.46,
          5.38,
          5.4,
          5.4,
          5.42,
          5.48,
          5.5,
          5.44,
          5.39,
          5.36,
          5.3,
          5.4,
          5.33,
          5.43,
          5.28,
          5.33,
          5.31,
          5.29,
          5.38,
          5.32,
          5.45,
          5.36,
          5.32,
          5.36,
          5.33,
          5.33,
          5.36,
          5.29,
          5.35,
          5.36,
          5.31,
          5.45,
          5.29,
          5.33,
          5.31,
          5.25,
          5.23,
          5.27,
          5.29,
          5.29,
          5.29,
          5.28,
          5.32,
          5.31,
          5.37,
          5.36,
          5.35,
          5.34,
          5.29,
          5.3,
          5.4,
          5.27,
          5.32,
          5.26,
          5.29,
          5.39,
          5.3,
          5.24,
          5.21,
          5.34,
          5.24,
          5.25,
          5.25,
          5.27,
          5.29,
          5.27,
          5.32,
          5.21,
          5.23,
          5.19,
          5.27,
          5.27,
          5.24,
          5.26,
          5.26,
          5.2,
          5.29,
          5.18,
          5.32,
          5.2,
          5.26,
          5.23,
          5.23,
          5.19,
          5.37,
          5.21,
          5.24,
          5.26,
          5.24,
          5.21,
          5.24,
          5.25,
          5.13,
          5.21,
          5.23,
          5.17,
          5.19,
          5.25,
          5.23,
          5.24,
          5.21,
          5.18,
          5.24,
          5.19,
          5.22,
          5.28,
          5.11,
          5.26,
          5.2,
          5.09,
          5.24,
          5.18,
          5.21,
          5.15,
          5.24,
          5.2,
          5.16,
          5.2,
          5.13,
          5.12,
          5.19,
          5.2,
          5.19,
          5.31,
          5.27,
          5.21,
          5.19,
          5.21,
          5.1,
          5.11,
          5.14,
          5.06,
          5.14,
          5.16,
          5.09,
          5.08,
          5.09,
          5.09,
          5.15,
          5.07,
          5.08,
          5.09,
          5.16,
          5.08,
          5.06,
          5.14,
          5.12,
          5.25,
          5.14,
          5.08,
          5.08,
          5.06,
          5.02,
          5,
          5.08,
          5,
          4.95,
          5.1,
          5.15,
          5.14,
          5.02,
          5.01
         ]
        }
       ],
       "layout": {
        "coloraxis": {
         "colorbar": {
          "title": {
           "text": "Female Height in Ft"
          }
         },
         "colorscale": [
          [
           0,
           "#0d0887"
          ],
          [
           0.1111111111111111,
           "#46039f"
          ],
          [
           0.2222222222222222,
           "#7201a8"
          ],
          [
           0.3333333333333333,
           "#9c179e"
          ],
          [
           0.4444444444444444,
           "#bd3786"
          ],
          [
           0.5555555555555556,
           "#d8576b"
          ],
          [
           0.6666666666666666,
           "#ed7953"
          ],
          [
           0.7777777777777778,
           "#fb9f3a"
          ],
          [
           0.8888888888888888,
           "#fdca26"
          ],
          [
           1,
           "#f0f921"
          ]
         ]
        },
        "geo": {
         "center": {},
         "domain": {
          "x": [
           0,
           1
          ],
          "y": [
           0,
           1
          ]
         }
        },
        "legend": {
         "tracegroupgap": 0
        },
        "margin": {
         "t": 60
        },
        "template": {
         "data": {
          "bar": [
           {
            "error_x": {
             "color": "#2a3f5f"
            },
            "error_y": {
             "color": "#2a3f5f"
            },
            "marker": {
             "line": {
              "color": "#E5ECF6",
              "width": 0.5
             },
             "pattern": {
              "fillmode": "overlay",
              "size": 10,
              "solidity": 0.2
             }
            },
            "type": "bar"
           }
          ],
          "barpolar": [
           {
            "marker": {
             "line": {
              "color": "#E5ECF6",
              "width": 0.5
             },
             "pattern": {
              "fillmode": "overlay",
              "size": 10,
              "solidity": 0.2
             }
            },
            "type": "barpolar"
           }
          ],
          "carpet": [
           {
            "aaxis": {
             "endlinecolor": "#2a3f5f",
             "gridcolor": "white",
             "linecolor": "white",
             "minorgridcolor": "white",
             "startlinecolor": "#2a3f5f"
            },
            "baxis": {
             "endlinecolor": "#2a3f5f",
             "gridcolor": "white",
             "linecolor": "white",
             "minorgridcolor": "white",
             "startlinecolor": "#2a3f5f"
            },
            "type": "carpet"
           }
          ],
          "choropleth": [
           {
            "colorbar": {
             "outlinewidth": 0,
             "ticks": ""
            },
            "type": "choropleth"
           }
          ],
          "contour": [
           {
            "colorbar": {
             "outlinewidth": 0,
             "ticks": ""
            },
            "colorscale": [
             [
              0,
              "#0d0887"
             ],
             [
              0.1111111111111111,
              "#46039f"
             ],
             [
              0.2222222222222222,
              "#7201a8"
             ],
             [
              0.3333333333333333,
              "#9c179e"
             ],
             [
              0.4444444444444444,
              "#bd3786"
             ],
             [
              0.5555555555555556,
              "#d8576b"
             ],
             [
              0.6666666666666666,
              "#ed7953"
             ],
             [
              0.7777777777777778,
              "#fb9f3a"
             ],
             [
              0.8888888888888888,
              "#fdca26"
             ],
             [
              1,
              "#f0f921"
             ]
            ],
            "type": "contour"
           }
          ],
          "contourcarpet": [
           {
            "colorbar": {
             "outlinewidth": 0,
             "ticks": ""
            },
            "type": "contourcarpet"
           }
          ],
          "heatmap": [
           {
            "colorbar": {
             "outlinewidth": 0,
             "ticks": ""
            },
            "colorscale": [
             [
              0,
              "#0d0887"
             ],
             [
              0.1111111111111111,
              "#46039f"
             ],
             [
              0.2222222222222222,
              "#7201a8"
             ],
             [
              0.3333333333333333,
              "#9c179e"
             ],
             [
              0.4444444444444444,
              "#bd3786"
             ],
             [
              0.5555555555555556,
              "#d8576b"
             ],
             [
              0.6666666666666666,
              "#ed7953"
             ],
             [
              0.7777777777777778,
              "#fb9f3a"
             ],
             [
              0.8888888888888888,
              "#fdca26"
             ],
             [
              1,
              "#f0f921"
             ]
            ],
            "type": "heatmap"
           }
          ],
          "heatmapgl": [
           {
            "colorbar": {
             "outlinewidth": 0,
             "ticks": ""
            },
            "colorscale": [
             [
              0,
              "#0d0887"
             ],
             [
              0.1111111111111111,
              "#46039f"
             ],
             [
              0.2222222222222222,
              "#7201a8"
             ],
             [
              0.3333333333333333,
              "#9c179e"
             ],
             [
              0.4444444444444444,
              "#bd3786"
             ],
             [
              0.5555555555555556,
              "#d8576b"
             ],
             [
              0.6666666666666666,
              "#ed7953"
             ],
             [
              0.7777777777777778,
              "#fb9f3a"
             ],
             [
              0.8888888888888888,
              "#fdca26"
             ],
             [
              1,
              "#f0f921"
             ]
            ],
            "type": "heatmapgl"
           }
          ],
          "histogram": [
           {
            "marker": {
             "pattern": {
              "fillmode": "overlay",
              "size": 10,
              "solidity": 0.2
             }
            },
            "type": "histogram"
           }
          ],
          "histogram2d": [
           {
            "colorbar": {
             "outlinewidth": 0,
             "ticks": ""
            },
            "colorscale": [
             [
              0,
              "#0d0887"
             ],
             [
              0.1111111111111111,
              "#46039f"
             ],
             [
              0.2222222222222222,
              "#7201a8"
             ],
             [
              0.3333333333333333,
              "#9c179e"
             ],
             [
              0.4444444444444444,
              "#bd3786"
             ],
             [
              0.5555555555555556,
              "#d8576b"
             ],
             [
              0.6666666666666666,
              "#ed7953"
             ],
             [
              0.7777777777777778,
              "#fb9f3a"
             ],
             [
              0.8888888888888888,
              "#fdca26"
             ],
             [
              1,
              "#f0f921"
             ]
            ],
            "type": "histogram2d"
           }
          ],
          "histogram2dcontour": [
           {
            "colorbar": {
             "outlinewidth": 0,
             "ticks": ""
            },
            "colorscale": [
             [
              0,
              "#0d0887"
             ],
             [
              0.1111111111111111,
              "#46039f"
             ],
             [
              0.2222222222222222,
              "#7201a8"
             ],
             [
              0.3333333333333333,
              "#9c179e"
             ],
             [
              0.4444444444444444,
              "#bd3786"
             ],
             [
              0.5555555555555556,
              "#d8576b"
             ],
             [
              0.6666666666666666,
              "#ed7953"
             ],
             [
              0.7777777777777778,
              "#fb9f3a"
             ],
             [
              0.8888888888888888,
              "#fdca26"
             ],
             [
              1,
              "#f0f921"
             ]
            ],
            "type": "histogram2dcontour"
           }
          ],
          "mesh3d": [
           {
            "colorbar": {
             "outlinewidth": 0,
             "ticks": ""
            },
            "type": "mesh3d"
           }
          ],
          "parcoords": [
           {
            "line": {
             "colorbar": {
              "outlinewidth": 0,
              "ticks": ""
             }
            },
            "type": "parcoords"
           }
          ],
          "pie": [
           {
            "automargin": true,
            "type": "pie"
           }
          ],
          "scatter": [
           {
            "fillpattern": {
             "fillmode": "overlay",
             "size": 10,
             "solidity": 0.2
            },
            "type": "scatter"
           }
          ],
          "scatter3d": [
           {
            "line": {
             "colorbar": {
              "outlinewidth": 0,
              "ticks": ""
             }
            },
            "marker": {
             "colorbar": {
              "outlinewidth": 0,
              "ticks": ""
             }
            },
            "type": "scatter3d"
           }
          ],
          "scattercarpet": [
           {
            "marker": {
             "colorbar": {
              "outlinewidth": 0,
              "ticks": ""
             }
            },
            "type": "scattercarpet"
           }
          ],
          "scattergeo": [
           {
            "marker": {
             "colorbar": {
              "outlinewidth": 0,
              "ticks": ""
             }
            },
            "type": "scattergeo"
           }
          ],
          "scattergl": [
           {
            "marker": {
             "colorbar": {
              "outlinewidth": 0,
              "ticks": ""
             }
            },
            "type": "scattergl"
           }
          ],
          "scattermapbox": [
           {
            "marker": {
             "colorbar": {
              "outlinewidth": 0,
              "ticks": ""
             }
            },
            "type": "scattermapbox"
           }
          ],
          "scatterpolar": [
           {
            "marker": {
             "colorbar": {
              "outlinewidth": 0,
              "ticks": ""
             }
            },
            "type": "scatterpolar"
           }
          ],
          "scatterpolargl": [
           {
            "marker": {
             "colorbar": {
              "outlinewidth": 0,
              "ticks": ""
             }
            },
            "type": "scatterpolargl"
           }
          ],
          "scatterternary": [
           {
            "marker": {
             "colorbar": {
              "outlinewidth": 0,
              "ticks": ""
             }
            },
            "type": "scatterternary"
           }
          ],
          "surface": [
           {
            "colorbar": {
             "outlinewidth": 0,
             "ticks": ""
            },
            "colorscale": [
             [
              0,
              "#0d0887"
             ],
             [
              0.1111111111111111,
              "#46039f"
             ],
             [
              0.2222222222222222,
              "#7201a8"
             ],
             [
              0.3333333333333333,
              "#9c179e"
             ],
             [
              0.4444444444444444,
              "#bd3786"
             ],
             [
              0.5555555555555556,
              "#d8576b"
             ],
             [
              0.6666666666666666,
              "#ed7953"
             ],
             [
              0.7777777777777778,
              "#fb9f3a"
             ],
             [
              0.8888888888888888,
              "#fdca26"
             ],
             [
              1,
              "#f0f921"
             ]
            ],
            "type": "surface"
           }
          ],
          "table": [
           {
            "cells": {
             "fill": {
              "color": "#EBF0F8"
             },
             "line": {
              "color": "white"
             }
            },
            "header": {
             "fill": {
              "color": "#C8D4E3"
             },
             "line": {
              "color": "white"
             }
            },
            "type": "table"
           }
          ]
         },
         "layout": {
          "annotationdefaults": {
           "arrowcolor": "#2a3f5f",
           "arrowhead": 0,
           "arrowwidth": 1
          },
          "autotypenumbers": "strict",
          "coloraxis": {
           "colorbar": {
            "outlinewidth": 0,
            "ticks": ""
           }
          },
          "colorscale": {
           "diverging": [
            [
             0,
             "#8e0152"
            ],
            [
             0.1,
             "#c51b7d"
            ],
            [
             0.2,
             "#de77ae"
            ],
            [
             0.3,
             "#f1b6da"
            ],
            [
             0.4,
             "#fde0ef"
            ],
            [
             0.5,
             "#f7f7f7"
            ],
            [
             0.6,
             "#e6f5d0"
            ],
            [
             0.7,
             "#b8e186"
            ],
            [
             0.8,
             "#7fbc41"
            ],
            [
             0.9,
             "#4d9221"
            ],
            [
             1,
             "#276419"
            ]
           ],
           "sequential": [
            [
             0,
             "#0d0887"
            ],
            [
             0.1111111111111111,
             "#46039f"
            ],
            [
             0.2222222222222222,
             "#7201a8"
            ],
            [
             0.3333333333333333,
             "#9c179e"
            ],
            [
             0.4444444444444444,
             "#bd3786"
            ],
            [
             0.5555555555555556,
             "#d8576b"
            ],
            [
             0.6666666666666666,
             "#ed7953"
            ],
            [
             0.7777777777777778,
             "#fb9f3a"
            ],
            [
             0.8888888888888888,
             "#fdca26"
            ],
            [
             1,
             "#f0f921"
            ]
           ],
           "sequentialminus": [
            [
             0,
             "#0d0887"
            ],
            [
             0.1111111111111111,
             "#46039f"
            ],
            [
             0.2222222222222222,
             "#7201a8"
            ],
            [
             0.3333333333333333,
             "#9c179e"
            ],
            [
             0.4444444444444444,
             "#bd3786"
            ],
            [
             0.5555555555555556,
             "#d8576b"
            ],
            [
             0.6666666666666666,
             "#ed7953"
            ],
            [
             0.7777777777777778,
             "#fb9f3a"
            ],
            [
             0.8888888888888888,
             "#fdca26"
            ],
            [
             1,
             "#f0f921"
            ]
           ]
          },
          "colorway": [
           "#636efa",
           "#EF553B",
           "#00cc96",
           "#ab63fa",
           "#FFA15A",
           "#19d3f3",
           "#FF6692",
           "#B6E880",
           "#FF97FF",
           "#FECB52"
          ],
          "font": {
           "color": "#2a3f5f"
          },
          "geo": {
           "bgcolor": "white",
           "lakecolor": "white",
           "landcolor": "#E5ECF6",
           "showlakes": true,
           "showland": true,
           "subunitcolor": "white"
          },
          "hoverlabel": {
           "align": "left"
          },
          "hovermode": "closest",
          "mapbox": {
           "style": "light"
          },
          "paper_bgcolor": "white",
          "plot_bgcolor": "#E5ECF6",
          "polar": {
           "angularaxis": {
            "gridcolor": "white",
            "linecolor": "white",
            "ticks": ""
           },
           "bgcolor": "#E5ECF6",
           "radialaxis": {
            "gridcolor": "white",
            "linecolor": "white",
            "ticks": ""
           }
          },
          "scene": {
           "xaxis": {
            "backgroundcolor": "#E5ECF6",
            "gridcolor": "white",
            "gridwidth": 2,
            "linecolor": "white",
            "showbackground": true,
            "ticks": "",
            "zerolinecolor": "white"
           },
           "yaxis": {
            "backgroundcolor": "#E5ECF6",
            "gridcolor": "white",
            "gridwidth": 2,
            "linecolor": "white",
            "showbackground": true,
            "ticks": "",
            "zerolinecolor": "white"
           },
           "zaxis": {
            "backgroundcolor": "#E5ECF6",
            "gridcolor": "white",
            "gridwidth": 2,
            "linecolor": "white",
            "showbackground": true,
            "ticks": "",
            "zerolinecolor": "white"
           }
          },
          "shapedefaults": {
           "line": {
            "color": "#2a3f5f"
           }
          },
          "ternary": {
           "aaxis": {
            "gridcolor": "white",
            "linecolor": "white",
            "ticks": ""
           },
           "baxis": {
            "gridcolor": "white",
            "linecolor": "white",
            "ticks": ""
           },
           "bgcolor": "#E5ECF6",
           "caxis": {
            "gridcolor": "white",
            "linecolor": "white",
            "ticks": ""
           }
          },
          "title": {
           "x": 0.05
          },
          "xaxis": {
           "automargin": true,
           "gridcolor": "white",
           "linecolor": "white",
           "ticks": "",
           "title": {
            "standoff": 15
           },
           "zerolinecolor": "white",
           "zerolinewidth": 2
          },
          "yaxis": {
           "automargin": true,
           "gridcolor": "white",
           "linecolor": "white",
           "ticks": "",
           "title": {
            "standoff": 15
           },
           "zerolinecolor": "white",
           "zerolinewidth": 2
          }
         }
        }
       }
      }
     },
     "metadata": {},
     "output_type": "display_data"
    }
   ],
   "source": [
    "# comparison on atlas map\n",
    "fig = px.choropleth(df, locations=\"code\",\n",
    "                    color=\"Female Height in Ft\", # lifeExp is a column of gapminder\n",
    "                    hover_name=\"Country Name\", # column to add to hover information\n",
    "                    color_continuous_scale=px.colors.sequential.Plasma)\n",
    "                    \n",
    "fig.show()\n",
    "fig.write_html('Heights_Female.html')"
   ]
  }
 ],
 "metadata": {
  "kernelspec": {
   "display_name": "Python 3.10.8 ('virtual_env': venv)",
   "language": "python",
   "name": "python3"
  },
  "language_info": {
   "codemirror_mode": {
    "name": "ipython",
    "version": 3
   },
   "file_extension": ".py",
   "mimetype": "text/x-python",
   "name": "python",
   "nbconvert_exporter": "python",
   "pygments_lexer": "ipython3",
   "version": "3.10.8"
  },
  "orig_nbformat": 4,
  "vscode": {
   "interpreter": {
    "hash": "7a791564c7636bd0312489df8a91f04e82f7a7839c41ea5b51e49c54c216cd7b"
   }
  }
 },
 "nbformat": 4,
 "nbformat_minor": 2
}
