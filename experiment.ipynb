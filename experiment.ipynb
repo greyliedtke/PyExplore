{
 "cells": [
  {
   "cell_type": "code",
   "execution_count": 30,
   "metadata": {},
   "outputs": [
    {
     "name": "stdout",
     "output_type": "stream",
     "text": [
      "month: 0 = 50212.5\n",
      "month: 1 = 50425.903125\n",
      "month: 2 = 50640.21321328125\n",
      "Profit: 640.2132132812476\n"
     ]
    }
   ],
   "source": [
    "# cd appreciation\n",
    "cd_apr = 0.051\n",
    "init_invest = 50000\n",
    "investment = init_invest\n",
    "for m in range(3):\n",
    "    mg = investment*cd_apr/12\n",
    "    investment += mg\n",
    "    print(f\"month: {m} = {investment}\")\n",
    "print(f\"Profit: {investment-init_invest}\")"
   ]
  },
  {
   "cell_type": "code",
   "execution_count": 31,
   "metadata": {},
   "outputs": [],
   "source": [
    "# wall worm\n",
    "bearing = {\n",
    "    \"od\": 22,\n",
    "    \"odr\": 19,\n",
    "    \"id\": 7,\n",
    "    \"idr\": 6\n",
    "}\n",
    "\n",
    "thick = 2\n",
    "wd = 75\n",
    "\n",
    "# create tube for bearing\n"
   ]
  }
 ],
 "metadata": {
  "kernelspec": {
   "display_name": ".venv",
   "language": "python",
   "name": "python3"
  },
  "language_info": {
   "codemirror_mode": {
    "name": "ipython",
    "version": 3
   },
   "file_extension": ".py",
   "mimetype": "text/x-python",
   "name": "python",
   "nbconvert_exporter": "python",
   "pygments_lexer": "ipython3",
   "version": "3.10.7"
  },
  "orig_nbformat": 4
 },
 "nbformat": 4,
 "nbformat_minor": 2
}
