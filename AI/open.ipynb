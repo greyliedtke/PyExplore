{
 "cells": [
  {
   "attachments": {},
   "cell_type": "markdown",
   "metadata": {},
   "source": [
    "- https://platform.openai.com/examples"
   ]
  },
  {
   "cell_type": "code",
   "execution_count": 1,
   "metadata": {},
   "outputs": [],
   "source": [
    "\n",
    "import openai\n"
   ]
  },
  {
   "cell_type": "code",
   "execution_count": 2,
   "metadata": {},
   "outputs": [],
   "source": [
    "def chat_request(question):\n",
    "\n",
    "    response = openai.Completion.create(\n",
    "        model=\"text-davinci-003\",\n",
    "        prompt=question,\n",
    "        temperature=0.9,\n",
    "        max_tokens=150,\n",
    "        top_p=1,\n",
    "        frequency_penalty=0.0,\n",
    "        presence_penalty=0.6,\n",
    "        stop=[\" Human:\", \" AI:\"]\n",
    "    )\n",
    "    a = response.choices[0].text\n",
    "    print(a)\n"
   ]
  },
  {
   "cell_type": "code",
   "execution_count": 29,
   "metadata": {},
   "outputs": [
    {
     "name": "stdout",
     "output_type": "stream",
     "text": [
      "\n",
      "\n",
      "§ Code\n",
      "\n",
      "import matplotlib.pyplot as plt \n",
      "\n",
      "# list of css colors  \n",
      "colors = ['aliceblue', 'antiquewhite', 'aqua', 'aquamarine', 'azure', 'beige', 'bisque', 'black', 'blanchedalmond', 'blue', 'blueviolet', 'brown', 'burlywood', 'cadetblue'] \n",
      "\n",
      "# plot the css colors  \n",
      "plt.bar(range(len(colors)),[1]*len(colors), color=colors)\n",
      "plt.xticks(range(len(colors)), colors, rotation=\n"
     ]
    }
   ],
   "source": [
    "\n",
    "chat_request(\"use matplotlib to generate plot of css colors\")"
   ]
  },
  {
   "cell_type": "code",
   "execution_count": 30,
   "metadata": {},
   "outputs": [
    {
     "name": "stdout",
     "output_type": "stream",
     "text": [
      "\n",
      "\n",
      "The color to evoke feelings of inspiration and contemplation is #80aaff. This shade of light blue conveys a sense of tranquility and inner peace, making it the perfect color to encourage thoughtful, creative ideas.\n"
     ]
    }
   ],
   "source": [
    "chat_request(\"css color for inspiring thoughts\")"
   ]
  },
  {
   "cell_type": "code",
   "execution_count": 5,
   "metadata": {},
   "outputs": [
    {
     "name": "stdout",
     "output_type": "stream",
     "text": [
      "F4C2C2\n"
     ]
    }
   ],
   "source": [
    "chat_request(\"css color code for the name Clare: \\n color: #\")\n",
    "# Jeanne: CFA0E3\n",
    "# Grey: 808080"
   ]
  }
 ],
 "metadata": {
  "kernelspec": {
   "display_name": "virtual_env",
   "language": "python",
   "name": "python3"
  },
  "language_info": {
   "codemirror_mode": {
    "name": "ipython",
    "version": 3
   },
   "file_extension": ".py",
   "mimetype": "text/x-python",
   "name": "python",
   "nbconvert_exporter": "python",
   "pygments_lexer": "ipython3",
   "version": "3.10.11"
  },
  "orig_nbformat": 4
 },
 "nbformat": 4,
 "nbformat_minor": 2
}
