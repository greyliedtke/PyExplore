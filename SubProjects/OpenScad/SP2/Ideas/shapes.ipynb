{
 "cells": [
  {
   "cell_type": "code",
   "execution_count": 8,
   "metadata": {},
   "outputs": [],
   "source": [
    "from solid2 import (\n",
    "    circle,\n",
    "    cylinder,\n",
    "    translate,\n",
    "    cube,\n",
    "    rotate,\n",
    "    rotate_extrude,\n",
    "    square,\n",
    "    polygon,\n",
    ")"
   ]
  },
  {
   "cell_type": "code",
   "execution_count": 9,
   "metadata": {},
   "outputs": [
    {
     "data": {
      "text/plain": [
       "'/home/nuc/Desktop/PyExplore/OpenScad/Art/grey.scad'"
      ]
     },
     "execution_count": 9,
     "metadata": {},
     "output_type": "execute_result"
    }
   ],
   "source": [
    "thick = 5\n",
    "poly_points = [[0,0], [25, 25], [0, 50], [-25, 25]]\n",
    "inner_points = [[0,thick], [25-thick, 25], [0, 50-thick], [-25+thick, 25]]\n",
    "pp = poly_points+inner_points\n",
    "pps = [[0,1,2,3], [4,5,6,7]]\n",
    "\n",
    "part = polygon(pp, pps, 5)\n",
    "patp = part.rotateZ(180)\n",
    "part+=patp\n",
    "\n",
    "#triangle_points =[[0,0],[100,0],[0,100],[10,10],[80,10],[10,80]]\n",
    "#triangle_paths =[[0,1,2],[3,4,5]]\n",
    "#part = polygon(triangle_points,triangle_paths,10)\n",
    "\n",
    "\n",
    "part.save_as_scad('grey.scad')"
   ]
  },
  {
   "cell_type": "code",
   "execution_count": 19,
   "metadata": {},
   "outputs": [
    {
     "data": {
      "text/plain": [
       "'/home/nuc/Desktop/PyExplore/OpenScad/Art/circles.scad'"
      ]
     },
     "execution_count": 19,
     "metadata": {},
     "output_type": "execute_result"
    }
   ],
   "source": [
    "# circle path of increasing O...\n",
    "c_od = 10\n",
    "scale = 1.5\n",
    "c_count = 6\n",
    "\n",
    "\n",
    "def tube(od, id, height): return cylinder(d=od, h=height) - cylinder(d=id, h=height)\n",
    "\n",
    "t1 = tube(c_od, c_od-thick, thick)\n",
    "x_loc = 0\n",
    "part = t1\n",
    "\n",
    "for c in range(c_count):\n",
    "    c_od = c_od*scale\n",
    "    x_loc = x_loc+c_od/2\n",
    "    part += tube(c_od, c_od-thick, thick).right(x_loc)\n",
    "\n",
    "part += part.rotateZ(120) + part.rotateZ(240)\n",
    "\n",
    "ood = (c_od/2+x_loc)*2\n",
    "part += tube(ood, ood-thick, thick)\n",
    "\n",
    "part.save_as_scad('circles.scad')\n"
   ]
  }
 ],
 "metadata": {
  "kernelspec": {
   "display_name": ".venv",
   "language": "python",
   "name": "python3"
  },
  "language_info": {
   "codemirror_mode": {
    "name": "ipython",
    "version": 3
   },
   "file_extension": ".py",
   "mimetype": "text/x-python",
   "name": "python",
   "nbconvert_exporter": "python",
   "pygments_lexer": "ipython3",
   "version": "3.10.6"
  },
  "orig_nbformat": 4
 },
 "nbformat": 4,
 "nbformat_minor": 2
}
