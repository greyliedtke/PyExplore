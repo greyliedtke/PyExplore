{
 "cells": [
  {
   "cell_type": "code",
   "execution_count": 1,
   "metadata": {},
   "outputs": [
    {
     "name": "stderr",
     "output_type": "stream",
     "text": [
      "[nltk_data] Downloading package punkt to\n",
      "[nltk_data]     C:\\Users\\greyl\\AppData\\Roaming\\nltk_data...\n",
      "[nltk_data]   Package punkt is already up-to-date!\n",
      "[nltk_data] Downloading package stopwords to\n",
      "[nltk_data]     C:\\Users\\greyl\\AppData\\Roaming\\nltk_data...\n",
      "[nltk_data]   Package stopwords is already up-to-date!\n"
     ]
    },
    {
     "data": {
      "text/plain": [
       "True"
      ]
     },
     "execution_count": 1,
     "metadata": {},
     "output_type": "execute_result"
    }
   ],
   "source": [
    "# importing libraries and data\n",
    "import pandas as pd\n",
    "import numpy as np\n",
    "import re\n",
    "# from gensim.summarization import keywords\n",
    "from nltk.probability import FreqDist\n",
    "\n",
    "import nltk\n",
    "from nltk.tokenize import word_tokenize\n",
    "from nltk.corpus import stopwords\n",
    "from collections import Counter\n",
    "import matplotlib.pyplot as plt\n",
    "nltk.download('punkt')  # required for tokenization\n",
    "nltk.download('stopwords')  # required for removing stop words"
   ]
  },
  {
   "cell_type": "code",
   "execution_count": null,
   "metadata": {},
   "outputs": [],
   "source": [
    "\n",
    "# ignoring words/characters\n",
    "ignore_words = ['chatgpt', 'https']\n",
    "non_alpha_regex = re.compile(r'[^a-zA-Z]') # define a regular expression to match non-alphabetic characters\n"
   ]
  },
  {
   "cell_type": "code",
   "execution_count": null,
   "metadata": {},
   "outputs": [],
   "source": [
    "# function to get frequenciest of words\n",
    "def word_freq(text):\n",
    "    text = text.lower()\n",
    "\n",
    "    for w in ignore_words:\n",
    "        text = text.replace(w, '')\n",
    "\n",
    "    tokens = word_tokenize(text)\n",
    "    fdist = FreqDist(tokens)\n",
    "    # fdist.plot(10, cumulative=False)\n",
    "    # plt.show()\n",
    "    return fdist\n",
    "\n"
   ]
  },
  {
   "cell_type": "code",
   "execution_count": null,
   "metadata": {},
   "outputs": [],
   "source": [
    "# function to get most important words from text\n",
    "def main_words(text):\n",
    "    text = text.lower()\n",
    "\n",
    "    for w in ignore_words:\n",
    "        text = text.replace(w, '')\n",
    "\n",
    "    # remove non-alphabetic characters\n",
    "    text = non_alpha_regex.sub(' ', text)\n",
    "    \n",
    "    # tokenize the text using word_tokenize\n",
    "    tokens = word_tokenize(text)\n",
    "\n",
    "    stop_words = set(stopwords.words('english'))\n",
    "    tokens = [token for token in tokens if token not in stop_words]\n",
    "    freq = Counter(tokens)\n",
    "    top1 = freq.most_common(1)\n",
    "    try:\n",
    "        word = top1[0][0]\n",
    "    except: \n",
    "        word = ''\n",
    "    return freq"
   ]
  },
  {
   "cell_type": "code",
   "execution_count": null,
   "metadata": {},
   "outputs": [],
   "source": [
    "# need gensim for important words...\n",
    "def important_words(text):\n",
    "    text = text.lower()\n",
    "\n",
    "    for w in ignore_words:\n",
    "        text = text.replace(w, '')\n",
    "\n",
    "    i_words = keywords(text, ratio=0.5, split=True)\n",
    "\n",
    "    return i_words"
   ]
  },
  {
   "cell_type": "code",
   "execution_count": null,
   "metadata": {},
   "outputs": [],
   "source": [
    "\n",
    "\n",
    "t1 = 'Grey is a beast but has no direction for Grey'\n",
    "t2 = 'Grey is a beast but frequently wants more Jeanne'\n",
    "t3 = 'Grey has everything and is a happy man'\n",
    "for t in [t1, t2, t3]:\n",
    "    print(word_freq(t))"
   ]
  }
 ],
 "metadata": {
  "kernelspec": {
   "display_name": "virtual_env",
   "language": "python",
   "name": "python3"
  },
  "language_info": {
   "codemirror_mode": {
    "name": "ipython",
    "version": 3
   },
   "file_extension": ".py",
   "mimetype": "text/x-python",
   "name": "python",
   "nbconvert_exporter": "python",
   "pygments_lexer": "ipython3",
   "version": "3.10.10"
  },
  "orig_nbformat": 4,
  "vscode": {
   "interpreter": {
    "hash": "7a791564c7636bd0312489df8a91f04e82f7a7839c41ea5b51e49c54c216cd7b"
   }
  }
 },
 "nbformat": 4,
 "nbformat_minor": 2
}
