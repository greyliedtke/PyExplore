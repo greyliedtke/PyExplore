{
 "cells": [
  {
   "cell_type": "markdown",
   "metadata": {},
   "source": [
    "# Wordy Game\n",
    "\n",
    "## Wordy Rules\n",
    "- Get:\n",
    "  - 2 vowels\n",
    "  - 4 constantants\n",
    "- Points:\n",
    "  - 1 letter = 1 points\n",
    "  - use all letters = 3 points\n",
    "\n",
    "### Other ideas\n",
    "  - real estate\n",
    "    - gpt search tool\n",
    "  - GPT plugin\n",
    "  - stocks\n",
    "  - invention\n",
    "  - retail arbitrage\n",
    "  - helpr\n",
    "    - app to help people around\n",
    "  - data\n",
    "    - supervised learning ideas"
   ]
  },
  {
   "cell_type": "code",
   "execution_count": 43,
   "metadata": {},
   "outputs": [],
   "source": []
  },
  {
   "cell_type": "code",
   "execution_count": 44,
   "metadata": {},
   "outputs": [
    {
     "name": "stdout",
     "output_type": "stream",
     "text": [
      "['A', 'I'] ['H', 'M', 'W', 'Z']\n"
     ]
    }
   ],
   "source": []
  },
  {
   "cell_type": "code",
   "execution_count": 45,
   "metadata": {},
   "outputs": [],
   "source": [
    "\n"
   ]
  },
  {
   "cell_type": "code",
   "execution_count": 46,
   "metadata": {},
   "outputs": [
    {
     "name": "stdout",
     "output_type": "stream",
     "text": [
      "(7, {'Noun': ['ceramic ware made from clay and baked in a kiln', 'the craft of making earthenware', 'a workshop where clayware is made']})\n",
      "(8, {'Noun': ['(mathematics', 'an agent that operates some apparatus or machine', 'someone who owns or operates a business', 'a shrewd or unscrupulous person who knows how to circumvent difficulties', 'a speculator who trades aggressively on stock or commodity markets']})\n",
      "(6, {'Noun': ['usually brightly colored zygodactyl tropical birds with short hooked beaks and the ability to mimic sounds', 'a copycat who does not understand the words or acts being imitated'], 'Verb': ['repeat mindlessly']})\n",
      "(6, {'Noun': ['pot for brewing tea; usually has a spout and handle']})\n",
      "Error: The Following Error occured: list index out of range\n",
      "NOT A WORD: BLAHd\n",
      "(0, None)\n",
      "Error: The Following Error occured: list index out of range\n",
      "NOT A WORD: peokd\n",
      "(0, None)\n"
     ]
    }
   ],
   "source": []
  }
 ],
 "metadata": {
  "kernelspec": {
   "display_name": "virtual_env",
   "language": "python",
   "name": "python3"
  },
  "language_info": {
   "codemirror_mode": {
    "name": "ipython",
    "version": 3
   },
   "file_extension": ".py",
   "mimetype": "text/x-python",
   "name": "python",
   "nbconvert_exporter": "python",
   "pygments_lexer": "ipython3",
   "version": "3.10.11"
  },
  "orig_nbformat": 4
 },
 "nbformat": 4,
 "nbformat_minor": 2
}
