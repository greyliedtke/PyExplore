{
 "cells": [
  {
   "cell_type": "code",
   "execution_count": 1,
   "metadata": {},
   "outputs": [],
   "source": [
    "# create df from them\n",
    "import pandas as pd\n",
    "bdf = pd.read_csv('blocks.csv')\n",
    "rdf = pd.read_csv('relations.csv')"
   ]
  },
  {
   "cell_type": "code",
   "execution_count": 2,
   "metadata": {},
   "outputs": [
    {
     "name": "stdout",
     "output_type": "stream",
     "text": [
      "classDiagram\n",
      "class PB_1 {\n",
      "\tPT Exit Pressures\n",
      "\t read_pressure()\n",
      "}\n",
      "class PB_2 {\n",
      "\tSeal Pressures\n",
      "\t read_pressure()\n",
      "}\n",
      "class PB_3 {\n",
      "\tSeal Pressures\n",
      "\t read_pressure()\n",
      "}\n",
      "class PB_4 {\n",
      "\tSeal Pressures\n",
      "\t read_pressure()\n",
      "}\n"
     ]
    }
   ],
   "source": [
    "# build mermaid blocks from dataframe\n",
    "\n",
    "# class Duck{\n",
    "    #     +String beakColor\n",
    "    #     +swim()\n",
    "    #     +quack()\n",
    "    # }\n",
    "merm_txt = 'classDiagram'\n",
    "for i, row in bdf.iterrows():\n",
    "    b_t = f\"class {row['Description']} {{\"\n",
    "    b_t += f\"\\n\\t{row['Content']}\"\n",
    "    b_t += f\"\\n\\t{row['Function']}()\"\n",
    "    b_t += f\"\\n}}\"\n",
    "    merm_txt += f\"\\n{b_t}\"\n",
    "\n",
    "print(merm_txt)\n"
   ]
  },
  {
   "cell_type": "code",
   "execution_count": 3,
   "metadata": {},
   "outputs": [
    {
     "name": "stdout",
     "output_type": "stream",
     "text": [
      "\n",
      "PB_1 -- PB_2\n",
      "PB_1 -- PB_3 : Ethernet\n",
      "PB_1 -- PB_1 : same\n"
     ]
    }
   ],
   "source": [
    "# building relation text from here as well...\n",
    "# classI -- classJ : Link(Solid)\n",
    "rel_txt = ''\n",
    "for i, row in rdf.iterrows():\n",
    "    r_t = f\"{row['From']} -- {row['To']}\"\n",
    "\n",
    "    if type(row['Note']) is str:\n",
    "        r_t = f\"{row['From']} -- {row['To']} : {row['Note']}\"\n",
    "\n",
    "    rel_txt += f\"\\n{r_t}\"\n",
    "\n",
    "print(rel_txt)"
   ]
  },
  {
   "cell_type": "code",
   "execution_count": 4,
   "metadata": {},
   "outputs": [
    {
     "name": "stdout",
     "output_type": "stream",
     "text": [
      "classDiagram\n",
      "class PB_1 {\n",
      "\tPT Exit Pressures\n",
      "\t read_pressure()\n",
      "}\n",
      "class PB_2 {\n",
      "\tSeal Pressures\n",
      "\t read_pressure()\n",
      "}\n",
      "class PB_3 {\n",
      "\tSeal Pressures\n",
      "\t read_pressure()\n",
      "}\n",
      "class PB_4 {\n",
      "\tSeal Pressures\n",
      "\t read_pressure()\n",
      "}\n",
      "PB_1 -- PB_2\n",
      "PB_1 -- PB_3 : Ethernet\n",
      "PB_1 -- PB_1 : same\n"
     ]
    }
   ],
   "source": [
    "merm = merm_txt+rel_txt\n",
    "print(merm)"
   ]
  }
 ],
 "metadata": {
  "kernelspec": {
   "display_name": "virtual_env",
   "language": "python",
   "name": "python3"
  },
  "language_info": {
   "codemirror_mode": {
    "name": "ipython",
    "version": 3
   },
   "file_extension": ".py",
   "mimetype": "text/x-python",
   "name": "python",
   "nbconvert_exporter": "python",
   "pygments_lexer": "ipython3",
   "version": "3.10.10"
  },
  "orig_nbformat": 4
 },
 "nbformat": 4,
 "nbformat_minor": 2
}
