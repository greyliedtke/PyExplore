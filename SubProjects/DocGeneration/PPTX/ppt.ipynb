{
 "cells": [
  {
   "cell_type": "code",
   "execution_count": 1,
   "metadata": {},
   "outputs": [],
   "source": [
    "from pptx import Presentation\n",
    "\n",
    "# Create a new presentation\n",
    "presentation = Presentation()\n",
    "\n",
    "# Add slides\n",
    "slide_1 = presentation.slides.add_slide(presentation.slide_layouts[0])  # Title slide\n",
    "title = slide_1.shapes.title\n",
    "subtitle = slide_1.placeholders[1]\n",
    "title.text = \"Slide 1 Title\"\n",
    "subtitle.text = \"Slide 1 Subtitle\"\n",
    "\n",
    "slide_2 = presentation.slides.add_slide(presentation.slide_layouts[1])  # Content slide\n",
    "title = slide_2.shapes.title\n",
    "content = slide_2.placeholders[1]\n",
    "title.text = \"Slide 2 Title\"\n",
    "content.text = \"Slide 2 Content\"\n",
    "\n",
    "# Save the presentation as PDF\n",
    "presentation.save(\"slides.pdf\")\n"
   ]
  }
 ],
 "metadata": {
  "kernelspec": {
   "display_name": ".venv",
   "language": "python",
   "name": "python3"
  },
  "language_info": {
   "codemirror_mode": {
    "name": "ipython",
    "version": 3
   },
   "file_extension": ".py",
   "mimetype": "text/x-python",
   "name": "python",
   "nbconvert_exporter": "python",
   "pygments_lexer": "ipython3",
   "version": "3.10.7"
  },
  "orig_nbformat": 4
 },
 "nbformat": 4,
 "nbformat_minor": 2
}
