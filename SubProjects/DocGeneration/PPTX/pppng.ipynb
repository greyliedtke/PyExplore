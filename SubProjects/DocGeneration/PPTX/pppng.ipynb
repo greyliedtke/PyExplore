{
 "cells": [
  {
   "cell_type": "code",
   "execution_count": 7,
   "metadata": {},
   "outputs": [],
   "source": [
    "from pptx import Presentation\n",
    "from pptx.util import Inches\n",
    "\n",
    "# Create a presentation object\n",
    "ppt = Presentation()\n",
    "\n",
    "# Define image paths\n",
    "image_paths = ['output.png', 'output1.png', 'output2.png']\n",
    "\n",
    "slide = ppt.slides.add_slide(ppt.slide_layouts[5])  # Using blank slide layout\n",
    "\n",
    "# Loop through image paths and add images to the presentation\n",
    "for i, image_path in enumerate(image_paths):\n",
    "    # slide = ppt.slides.add_slide(ppt.slide_layouts[5])  # Using blank slide layout\n",
    "    left = Inches(1)*4*i  # Adjust these values according to your needs\n",
    "    top = Inches(1)\n",
    "    width = Inches(3)\n",
    "    height = Inches(2)\n",
    "    pic = slide.shapes.add_picture(image_path, left, top, width, height)\n",
    "\n",
    "# Save the presentation\n",
    "ppt.save('output.pptx')"
   ]
  }
 ],
 "metadata": {
  "kernelspec": {
   "display_name": "virtual_env",
   "language": "python",
   "name": "python3"
  },
  "language_info": {
   "codemirror_mode": {
    "name": "ipython",
    "version": 3
   },
   "file_extension": ".py",
   "mimetype": "text/x-python",
   "name": "python",
   "nbconvert_exporter": "python",
   "pygments_lexer": "ipython3",
   "version": "3.10.11"
  },
  "orig_nbformat": 4
 },
 "nbformat": 4,
 "nbformat_minor": 2
}
