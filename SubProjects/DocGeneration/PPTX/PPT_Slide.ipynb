{
 "cells": [
  {
   "cell_type": "code",
   "execution_count": 3,
   "metadata": {},
   "outputs": [],
   "source": [
    "from pptx import Presentation\n",
    "from pptx.util import Inches\n",
    "\n",
    "\n",
    "\n",
    "# Create a new presentation object\n",
    "presentation = Presentation()\n",
    "\n",
    "# Add a slide to the presentation\n",
    "slide = presentation.slides.add_slide(presentation.slide_layouts[1])\n",
    "\n",
    "# Add content to the slide\n",
    "title = slide.shapes.title\n",
    "title.text = \"My Presentation\"\n",
    "\n",
    "content = slide.shapes.add_textbox(left=Inches(1), top=Inches(1.5), width=Inches(8), height=Inches(3))\n",
    "text_frame = content.text_frame\n",
    "p = text_frame.add_paragraph()\n",
    "p.text = \"Bullet Point 1\"\n",
    "p = text_frame.add_paragraph()\n",
    "p.text = \"Bullet Point 2\"\n",
    "\n",
    "slide_2 = presentation.slides.add_slide(presentation.slide_layouts[1])\n",
    "t2 = slide_2.shapes.title\n",
    "t2.text = \"Now thats cool\"\n",
    "\n",
    "# Save the presentation\n",
    "presentation.save(\"my_presentation.pptx\")\n",
    "presentation.save(\"my_p.pdf\")\n"
   ]
  }
 ],
 "metadata": {
  "kernelspec": {
   "display_name": "virtual_env",
   "language": "python",
   "name": "python3"
  },
  "language_info": {
   "codemirror_mode": {
    "name": "ipython",
    "version": 3
   },
   "file_extension": ".py",
   "mimetype": "text/x-python",
   "name": "python",
   "nbconvert_exporter": "python",
   "pygments_lexer": "ipython3",
   "version": "3.10.11"
  },
  "orig_nbformat": 4
 },
 "nbformat": 4,
 "nbformat_minor": 2
}
