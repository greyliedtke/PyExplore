{
 "cells": [
  {
   "cell_type": "code",
   "execution_count": 10,
   "metadata": {},
   "outputs": [],
   "source": [
    "from PIL import Image\n",
    "import math\n"
   ]
  },
  {
   "cell_type": "code",
   "execution_count": 11,
   "metadata": {},
   "outputs": [],
   "source": [
    "def resize_photo(photo_path, target_size):\n",
    "    img = Image.open(photo_path)\n",
    "    # img = img.thumbnail(target_size, Image.LANCZOS)\n",
    "    resized_img = img.resize(target_size, Image.LANCZOS)\n",
    "    # img = img.thumbnail((*target_size, target_size[0], target_size[1]))\n",
    "    return resized_img\n",
    "    # resized_img = img.resize(target_size)\n",
    "    # return resized_img"
   ]
  },
  {
   "cell_type": "code",
   "execution_count": 12,
   "metadata": {},
   "outputs": [
    {
     "name": "stdout",
     "output_type": "stream",
     "text": [
      "c:\\Users\\greyl\\PyExplore\\SubProjects\\DocGeneration\\PhotoCombine\\Hilal\n"
     ]
    }
   ],
   "source": [
    "import os\n",
    "import glob\n",
    "\n",
    "def get_photos_from_directory(relative_path):\n",
    "    photo_extensions = [\"jpg\", \"jpeg\", \"png\", \"gif\"]  # Add or remove extensions as needed\n",
    "    photos = []\n",
    "\n",
    "    # Get the current working directory\n",
    "    current_dir = os.getcwd()\n",
    "\n",
    "    # Create the absolute path by joining the current directory with the relative path\n",
    "    directory_path = os.path.join(current_dir, relative_path)\n",
    "\n",
    "    print(directory_path)\n",
    "    # Create a pattern to match files with photo extensions\n",
    "    pattern = os.path.join(directory_path, \"*.[{}]\".format(\",\".join(photo_extensions)))\n",
    "\n",
    "    # Use glob to find all matching files\n",
    "    photo_files = glob.glob(pattern)\n",
    "\n",
    "    # Iterate over the found files and add them to the photos list\n",
    "    for photo_file in photo_files:\n",
    "        photos.append(photo_file)\n",
    "\n",
    "    return photos\n",
    "\n",
    "# Specify the directory path\n",
    "directory_path = \"Hilal\"\n",
    "\n",
    "# Call the function to get all photos from the directory\n",
    "photo_list = get_photos_from_directory(directory_path)\n",
    "\n",
    "# Print the list of photo files\n",
    "for photo in photo_list:\n",
    "    print(photo)\n"
   ]
  },
  {
   "cell_type": "code",
   "execution_count": 15,
   "metadata": {},
   "outputs": [
    {
     "name": "stdout",
     "output_type": "stream",
     "text": [
      "['1.png', '2.png', '3.png', '4.png', '5.png', '6.png', '7.png', '8.png', '9.png', '10.png', '11.png', '12.png', '13.png', '14.png', '15.png', '16.png']\n",
      "1.png\n"
     ]
    },
    {
     "name": "stderr",
     "output_type": "stream",
     "text": [
      "C:\\Users\\greyl\\AppData\\Local\\Temp\\ipykernel_36988\\1415882264.py:4: DeprecationWarning: LANCZOS is deprecated and will be removed in Pillow 10 (2023-07-01). Use Resampling.LANCZOS instead.\n",
      "  resized_img = img.resize(target_size, Image.LANCZOS)\n"
     ]
    },
    {
     "name": "stdout",
     "output_type": "stream",
     "text": [
      "Created photo: combined_photo.jpg\n"
     ]
    }
   ],
   "source": [
    "\n",
    "target_size = (800, 600)\n",
    "cols = 4\n",
    "\n",
    "def create_photo(photo_paths, output_path):\n",
    "    # Open the first photo to get its size\n",
    "    print(photo_paths)\n",
    "    print(photo_paths[0])\n",
    "    path = f\"HP/{photo_paths[0]}\"\n",
    "    first_photo = Image.open(path)\n",
    "    width, height = target_size\n",
    "\n",
    "    rows = math.ceil(len(photo_paths)/cols)\n",
    "\n",
    "    # Create a new blank image with the appropriate size\n",
    "    result_image = Image.new('RGB', (width * cols, height*rows))\n",
    "\n",
    "    col_i = 0\n",
    "    row_i = 0\n",
    "\n",
    "    # Paste each photo into the result image\n",
    "    for i, photo_path in enumerate(photo_paths):\n",
    "        img = f\"HP/{photo_path}\"\n",
    "        resized_img = resize_photo(img, target_size)\n",
    "\n",
    "        result_image.paste(resized_img, (col_i * width, row_i * height))\n",
    "        col_i+=1\n",
    "        if col_i>cols-1:\n",
    "            col_i=0\n",
    "            row_i+=1\n",
    "\n",
    "    # Save the result image\n",
    "    result_image.save(output_path)\n",
    "    print(f\"Created photo: {output_path}\")\n",
    "\n",
    "# Example usage\n",
    "output_path = 'combined_photo.jpg'\n",
    "photos = range(1, 17)\n",
    "p_names = [str(p)+'.png' for p in photos]\n",
    "# p_names = p_names.append(\"1.png\")\n",
    "create_photo(p_names, output_path)\n"
   ]
  },
  {
   "cell_type": "code",
   "execution_count": 18,
   "metadata": {},
   "outputs": [
    {
     "name": "stdout",
     "output_type": "stream",
     "text": [
      "['100.jpeg', '101.jpeg', '102.jpeg', '103.jpeg', '104.jpeg', '105.jpeg', '106.jpeg', '107.jpeg']\n",
      "100.jpeg\n"
     ]
    },
    {
     "name": "stderr",
     "output_type": "stream",
     "text": [
      "C:\\Users\\greyl\\AppData\\Local\\Temp\\ipykernel_36988\\1415882264.py:4: DeprecationWarning: LANCZOS is deprecated and will be removed in Pillow 10 (2023-07-01). Use Resampling.LANCZOS instead.\n",
      "  resized_img = img.resize(target_size, Image.LANCZOS)\n"
     ]
    },
    {
     "name": "stdout",
     "output_type": "stream",
     "text": [
      "Created photo: combined_photo_p.jpg\n"
     ]
    }
   ],
   "source": [
    "\n",
    "target_size = (800, 600)\n",
    "cols = 4\n",
    "\n",
    "def create_photo(photo_paths, output_path):\n",
    "    # Open the first photo to get its size\n",
    "    print(photo_paths)\n",
    "    print(photo_paths[0])\n",
    "    path = f\"HP/{photo_paths[0]}\"\n",
    "    first_photo = Image.open(path)\n",
    "    width, height = target_size\n",
    "\n",
    "    rows = math.ceil(len(photo_paths)/cols)\n",
    "\n",
    "    # Create a new blank image with the appropriate size\n",
    "    result_image = Image.new('RGB', (width * cols, height*rows))\n",
    "\n",
    "    col_i = 0\n",
    "    row_i = 0\n",
    "\n",
    "    # Paste each photo into the result image\n",
    "    for i, photo_path in enumerate(photo_paths):\n",
    "        img = f\"HP/{photo_path}\"\n",
    "        resized_img = resize_photo(img, target_size)\n",
    "\n",
    "        result_image.paste(resized_img, (col_i * width, row_i * height))\n",
    "        col_i+=1\n",
    "        if col_i>cols-1:\n",
    "            col_i=0\n",
    "            row_i+=1\n",
    "\n",
    "    # Save the result image\n",
    "    result_image.save(output_path)\n",
    "    print(f\"Created photo: {output_path}\")\n",
    "\n",
    "# Example usage\n",
    "output_path = 'combined_photo_p.jpg'\n",
    "photos = range(100, 108)\n",
    "p_names = [str(p)+'.jpeg' for p in photos]\n",
    "# p_names = p_names.append(\"1.png\")\n",
    "create_photo(p_names, output_path)\n"
   ]
  }
 ],
 "metadata": {
  "kernelspec": {
   "display_name": ".venv",
   "language": "python",
   "name": "python3"
  },
  "language_info": {
   "codemirror_mode": {
    "name": "ipython",
    "version": 3
   },
   "file_extension": ".py",
   "mimetype": "text/x-python",
   "name": "python",
   "nbconvert_exporter": "python",
   "pygments_lexer": "ipython3",
   "version": "3.10.11"
  },
  "orig_nbformat": 4
 },
 "nbformat": 4,
 "nbformat_minor": 2
}
