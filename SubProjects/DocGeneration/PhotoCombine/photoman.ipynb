{
 "cells": [
  {
   "cell_type": "code",
   "execution_count": 50,
   "metadata": {},
   "outputs": [],
   "source": [
    "from PIL import Image\n",
    "import math\n"
   ]
  },
  {
   "cell_type": "code",
   "execution_count": 51,
   "metadata": {},
   "outputs": [],
   "source": [
    "def resize_photo(photo_path, target_size):\n",
    "    img = Image.open(photo_path)\n",
    "    # img = img.thumbnail(target_size, Image.LANCZOS)\n",
    "    resized_img = img.resize(target_size, Image.LANCZOS)\n",
    "    # img = img.thumbnail((*target_size, target_size[0], target_size[1]))\n",
    "    return resized_img\n",
    "    # resized_img = img.resize(target_size)\n",
    "    # return resized_img"
   ]
  },
  {
   "cell_type": "code",
   "execution_count": 54,
   "metadata": {},
   "outputs": [
    {
     "name": "stdout",
     "output_type": "stream",
     "text": [
      "Created photo: combined_photo.jpg\n"
     ]
    }
   ],
   "source": [
    "\n",
    "target_size = (800, 600)\n",
    "cols = 4\n",
    "\n",
    "def create_photo(photo_paths, output_path):\n",
    "    # Open the first photo to get its size\n",
    "    first_photo = Image.open(\"goats/\"+photo_paths[0])\n",
    "    width, height = target_size\n",
    "\n",
    "    rows = math.ceil(len(photo_paths)/cols)\n",
    "\n",
    "    # Create a new blank image with the appropriate size\n",
    "    result_image = Image.new('RGB', (width * cols, height*rows))\n",
    "\n",
    "    col_i = 0\n",
    "    row_i = 0\n",
    "\n",
    "    # Paste each photo into the result image\n",
    "    for i, photo_path in enumerate(photo_paths):\n",
    "        img = f\"goats/{photo_path}\"\n",
    "        resized_img = resize_photo(img, target_size)\n",
    "\n",
    "        result_image.paste(resized_img, (col_i * width, row_i * height))\n",
    "        col_i+=1\n",
    "        if col_i>cols-1:\n",
    "            col_i=0\n",
    "            row_i+=1\n",
    "\n",
    "    # Save the result image\n",
    "    result_image.save(output_path)\n",
    "    print(f\"Created photo: {output_path}\")\n",
    "\n",
    "\n",
    "\n",
    "# Example usage\n",
    "photo_paths = ['g1.jpg', 'g2.jpg', 'g3.jpg', 'g4.jpg']\n",
    "photo_paths = photo_paths*4\n",
    "output_path = 'combined_photo.jpg'\n",
    "create_photo(photo_paths, output_path)\n"
   ]
  }
 ],
 "metadata": {
  "kernelspec": {
   "display_name": ".venv",
   "language": "python",
   "name": "python3"
  },
  "language_info": {
   "codemirror_mode": {
    "name": "ipython",
    "version": 3
   },
   "file_extension": ".py",
   "mimetype": "text/x-python",
   "name": "python",
   "nbconvert_exporter": "python",
   "pygments_lexer": "ipython3",
   "version": "3.10.6"
  },
  "orig_nbformat": 4
 },
 "nbformat": 4,
 "nbformat_minor": 2
}
