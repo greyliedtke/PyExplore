{
 "cells": [
  {
   "cell_type": "code",
   "execution_count": 1,
   "metadata": {},
   "outputs": [],
   "source": [
    "import aspose.slides as slides\n",
    "\n",
    "# Instantiate a Presentation object that represents a presentation file\n",
    "with slides.Presentation() as presentation:\n",
    "    slide = presentation.slides[0]\n",
    "    slide.shapes.add_auto_shape(slides.ShapeType.LINE, 50, 150, 300, 0)\n",
    "    presentation.save(\"NewPresentation_out.pdf\", slides.export.SaveFormat.PDF)"
   ]
  }
 ],
 "metadata": {
  "kernelspec": {
   "display_name": ".venv",
   "language": "python",
   "name": "python3"
  },
  "language_info": {
   "codemirror_mode": {
    "name": "ipython",
    "version": 3
   },
   "file_extension": ".py",
   "mimetype": "text/x-python",
   "name": "python",
   "nbconvert_exporter": "python",
   "pygments_lexer": "ipython3",
   "version": "3.10.7"
  },
  "orig_nbformat": 4
 },
 "nbformat": 4,
 "nbformat_minor": 2
}
