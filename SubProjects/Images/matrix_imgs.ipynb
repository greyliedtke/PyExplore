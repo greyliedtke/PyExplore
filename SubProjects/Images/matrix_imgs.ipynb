{
 "cells": [
  {
   "cell_type": "code",
   "execution_count": 4,
   "metadata": {},
   "outputs": [],
   "source": [
    "from PIL import Image\n",
    "\n",
    "# Open the image\n",
    "input_image = Image.open(\"usao.jpg\")  # Replace \"input.jpg\" with the path to your image.\n",
    "\n",
    "# Resize the image to 16x16 pixels\n",
    "output_image = input_image.resize((16, 16))\n",
    "\n",
    "# Save the resized image\n",
    "output_image.save(\"output.png\")  # Save the resized image as \"output.png\" or a format of your choice.\n"
   ]
  },
  {
   "cell_type": "code",
   "execution_count": null,
   "metadata": {},
   "outputs": [],
   "source": []
  }
 ],
 "metadata": {
  "kernelspec": {
   "display_name": ".venv",
   "language": "python",
   "name": "python3"
  },
  "language_info": {
   "codemirror_mode": {
    "name": "ipython",
    "version": 3
   },
   "file_extension": ".py",
   "mimetype": "text/x-python",
   "name": "python",
   "nbconvert_exporter": "python",
   "pygments_lexer": "ipython3",
   "version": "3.10.12"
  }
 },
 "nbformat": 4,
 "nbformat_minor": 2
}
