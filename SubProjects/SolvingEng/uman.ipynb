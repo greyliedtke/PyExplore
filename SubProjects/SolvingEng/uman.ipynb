{
 "cells": [
  {
   "cell_type": "code",
   "execution_count": 1,
   "metadata": {},
   "outputs": [],
   "source": [
    "import pint \n",
    "\n",
    "ureg = pint.UnitRegistry()"
   ]
  },
  {
   "cell_type": "code",
   "execution_count": 4,
   "metadata": {},
   "outputs": [
    {
     "name": "stdout",
     "output_type": "stream",
     "text": [
      "frozenset({<Unit('nautical_mile')>, <Unit('astronomical_unit')>, <Unit('parsec')>, <Unit('x_unit_Cu')>, <Unit('fermi')>, <Unit('x_unit_Mo')>, <Unit('bohr')>, <Unit('lattice_spacing_of_Si')>, <Unit('angstrom')>, <Unit('light_year')>, <Unit('micron')>, <Unit('classical_electron_radius')>, <Unit('meter')>, <Unit('planck_length')>, <Unit('angstrom_star')>})\n"
     ]
    }
   ],
   "source": [
    "lengths = ureg.get_compatible_units('[length]')\n",
    "print(lengths)"
   ]
  }
 ],
 "metadata": {
  "kernelspec": {
   "display_name": "virtual_env",
   "language": "python",
   "name": "python3"
  },
  "language_info": {
   "codemirror_mode": {
    "name": "ipython",
    "version": 3
   },
   "file_extension": ".py",
   "mimetype": "text/x-python",
   "name": "python",
   "nbconvert_exporter": "python",
   "pygments_lexer": "ipython3",
   "version": "3.10.11"
  },
  "orig_nbformat": 4
 },
 "nbformat": 4,
 "nbformat_minor": 2
}
