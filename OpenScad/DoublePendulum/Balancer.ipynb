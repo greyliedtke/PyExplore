{
 "cells": [
  {
   "cell_type": "code",
   "execution_count": 15,
   "metadata": {},
   "outputs": [],
   "source": [
    "# imports and setup\n",
    "\n",
    "from solid import (\n",
    "    circle,\n",
    "    cylinder,\n",
    "    translate,\n",
    "    cube,\n",
    "    rotate,\n",
    "    rotate_extrude,\n",
    "    square,\n",
    "    polygon,\n",
    ")\n",
    "import viewscad\n",
    "r = viewscad.Renderer()\n"
   ]
  },
  {
   "cell_type": "code",
   "execution_count": 16,
   "metadata": {},
   "outputs": [],
   "source": [
    "# main dimensions\n",
    "thick = 2\n",
    "lip_thick = .5\n",
    "screw_od = 3.5\n",
    "\n",
    "# system parameter\n",
    "weight = {\n",
    "    \"l\": 32.3,\n",
    "    \"w\": 19,\n",
    "    \"h\":3,\n",
    "    \"weight\": .5 #oz\n",
    "}\n",
    "\n",
    "bearing = {\n",
    "    \"od\":23,\n",
    "    \"id\": 7.75,\n",
    "    \"odr\":18.5,\n",
    "    \"idr\": 11.5,\n",
    "    \"odd\":27,\n",
    "    \"h\":7,\n",
    "    \"weight\":.5\n",
    "}\n",
    "\n",
    "# balance arms...\n",
    "arm = {\"l1\":45, \"l2\":90, \"l3\":25, \"l4\":150}\n",
    "\n"
   ]
  },
  {
   "cell_type": "code",
   "execution_count": 17,
   "metadata": {},
   "outputs": [
    {
     "data": {
      "application/vnd.jupyter.widget-view+json": {
       "model_id": "278e1d523f0e433f8cf37ac88472fe42",
       "version_major": 2,
       "version_minor": 0
      },
      "text/plain": [
       "VBox(children=(HTML(value=''), Renderer(background='#cccc88', background_opacity=0.0, camera=PerspectiveCamera…"
      ]
     },
     "metadata": {},
     "output_type": "display_data"
    }
   ],
   "source": [
    "# Arm with hole for washer weights\n",
    "\n",
    "# Center section\n",
    "bearing_tube = cylinder(d=bearing[\"odd\"], h=bearing[\"h\"])\n",
    "bearing_ledge = cylinder(d=bearing[\"idr\"], h=thick)\n",
    "\n",
    "bearing_center = bearing_tube+bearing_ledge     # +screw_tube+screw_tube_2\n",
    "screw_p = translate([0,-bearing[\"odd\"]/2,bearing[\"h\"]/2])(cube([screw_od*2, 2*thick, bearing[\"h\"]], center=True))\n",
    "\n",
    "# First arm --------------------------------------------------------------------\n",
    "flat_h=bearing[\"h\"]\n",
    "a1 = cube([arm[\"l1\"], thick, flat_h], center=True)\n",
    "a1 = translate([arm[\"l1\"]/2, 0, flat_h/2])(a1)\n",
    "\n",
    "# flat cube...\n",
    "hsi_hole , hsi_od = 7, 11\n",
    "washer_mount = cylinder(d=hsi_od, h=flat_h)\n",
    "washer_mount = translate([arm[\"l1\"], 0, 0])(washer_mount)\n",
    "washer_h = cylinder(d=hsi_hole, h=flat_h)\n",
    "washer_h = translate([arm[\"l1\"], 0, 0])(washer_h)\n",
    "\n",
    "\n",
    "arm_1 = a1+washer_mount-washer_h\n",
    "\n",
    "# Second arm ------------------------------------------------------------------   \n",
    "a2 = cube([arm[\"l2\"], thick, bearing[\"h\"]], center=True)\n",
    "a2 = translate([arm[\"l2\"]/2, 0, bearing[\"h\"]/2])(a2)\n",
    "\n",
    "bearing_offset = bearing[\"h\"]+6*thick\n",
    "a2_ext_base =cylinder(d=bearing[\"idr\"], h=bearing_offset)\n",
    "a2_ext_bearing = translate([0,0,bearing_offset])(cylinder(d=bearing[\"id\"], h=bearing[\"h\"]/2))\n",
    "a2_ext = translate([arm[\"l2\"],0,0])(a2_ext_base+a2_ext_bearing)\n",
    "a2_h = translate([arm[\"l2\"], 0, 0])(cylinder(d=4, h=50))    # hole through center of bearing connection\n",
    "\n",
    "arm_2 = a2+a2_ext-a2_h\n",
    "arm_2 = rotate([0,0,180])(arm_2)\n",
    "\n",
    "# holes --------------------------------------------------------------------------\n",
    "bearing_hole = translate([0,0,lip_thick])(cylinder(d=bearing[\"od\"], h=bearing[\"h\"]))\n",
    "bearing_hole_through = cylinder(d=bearing[\"odr\"], h=lip_thick)\n",
    "screw_hole = translate([0,0,(bearing[\"h\"]+lip_thick)/2])(rotate([90,0,0])(cylinder(d=3, h=50)))\n",
    "\n",
    "holes = bearing_hole+bearing_hole_through+screw_hole\n",
    "\n",
    "p = bearing_center+screw_p+arm_1+arm_2-holes\n",
    "\n",
    "r.render(\n",
    "        p,\n",
    "        file_header=\"$fa=.01;\\n $fs=0.01\",\n",
    "        outfile=f\"STL/WasherArm.stl\",\n",
    "    )"
   ]
  },
  {
   "cell_type": "code",
   "execution_count": 18,
   "metadata": {},
   "outputs": [
    {
     "data": {
      "application/vnd.jupyter.widget-view+json": {
       "model_id": "95d9cec79f494294b2451d051cbace80",
       "version_major": 2,
       "version_minor": 0
      },
      "text/plain": [
       "VBox(children=(HTML(value=''), Renderer(background='#cccc88', background_opacity=0.0, camera=PerspectiveCamera…"
      ]
     },
     "metadata": {},
     "output_type": "display_data"
    }
   ],
   "source": [
    "# base \n",
    "base_offset = 25\n",
    "b1_a =cylinder(d=bearing[\"idr\"], h=base_offset)\n",
    "b1_b = translate([0,0,base_offset])(cylinder(d=bearing[\"id\"], h=bearing[\"h\"]/2))\n",
    "\n",
    "# holes ---------------------------\n",
    "b1_hole = cylinder(d=4, h=50)\n",
    "p = b1_a+b1_b-b1_hole\n",
    "\n",
    "r.render(\n",
    "        p,\n",
    "        file_header=\"$fa=.01;\\n $fs=0.01\",\n",
    "        outfile=f\"STL/Base.stl\",\n",
    "    )\n",
    "\n"
   ]
  },
  {
   "cell_type": "code",
   "execution_count": 19,
   "metadata": {},
   "outputs": [
    {
     "data": {
      "application/vnd.jupyter.widget-view+json": {
       "model_id": "33322ede306b48588db6c5b9d91cc617",
       "version_major": 2,
       "version_minor": 0
      },
      "text/plain": [
       "VBox(children=(HTML(value=''), Renderer(background='#cccc88', background_opacity=0.0, camera=PerspectiveCamera…"
      ]
     },
     "metadata": {},
     "output_type": "display_data"
    }
   ],
   "source": [
    "# cap\n",
    "base_offset = 25\n",
    "cap_b = cylinder(d=bearing[\"idr\"], h=thick)\n",
    "cap_i = cylinder(d=bearing[\"id\"], h=bearing[\"h\"]/3+thick)\n",
    "\n",
    "# holes ---------------------------\n",
    "b1_hole = cylinder(d=4, h=50)\n",
    "p = cap_b+cap_i-b1_hole\n",
    "\n",
    "r.render(\n",
    "        p,\n",
    "        file_header=\"$fa=.01;\\n $fs=0.01\",\n",
    "        outfile=f\"STL/Cap.stl\",\n",
    "    )\n"
   ]
  },
  {
   "cell_type": "code",
   "execution_count": 20,
   "metadata": {},
   "outputs": [
    {
     "data": {
      "application/vnd.jupyter.widget-view+json": {
       "model_id": "2cd9c0f22eb84389967fdc29b16c3684",
       "version_major": 2,
       "version_minor": 0
      },
      "text/plain": [
       "VBox(children=(HTML(value=''), Renderer(background='#cccc88', background_opacity=0.0, camera=PerspectiveCamera…"
      ]
     },
     "metadata": {},
     "output_type": "display_data"
    }
   ],
   "source": [
    "# flat platform to mount acc, motor, weights to dowel...\n",
    "dowel_od = 7.5\n",
    "dowel_tr = 10\n",
    "\n",
    "flat_l, flat_w = 75, 50\n",
    "\n",
    "# flat cube...\n",
    "flat_base = cube([flat_l, flat_w, thick], center=True)\n",
    "flat_base = translate([0, 0, thick/2])(flat_base)\n",
    "\n",
    "\n",
    "dowel_rect = cube([20, dowel_tr, dowel_tr], center=True)\n",
    "dowel_rect = translate([flat_l/2-5, 0, dowel_tr/2])(dowel_rect)\n",
    "\n",
    "dowel_hole = cylinder(d=dowel_od, h=20)\n",
    "dowel_hole = rotate([0,90,0])(dowel_hole)\n",
    "dowel_hole = translate([flat_l/2-5, 0, dowel_tr/2])(dowel_hole)\n",
    "\n",
    "screw_hole = cylinder(d=4, h=20)\n",
    "screw_hole = translate([flat_l/2-5, 0, 0])(screw_hole)\n",
    "\n",
    "\n",
    "p = flat_base+dowel_rect-dowel_hole-screw_hole\n",
    "\n",
    "r.render(\n",
    "        p,\n",
    "        file_header=\"$fa=.01;\\n $fs=0.01\",\n",
    "        outfile=f\"STL/FlatMount.stl\",\n",
    "    )\n"
   ]
  },
  {
   "cell_type": "code",
   "execution_count": 25,
   "metadata": {},
   "outputs": [
    {
     "data": {
      "application/vnd.jupyter.widget-view+json": {
       "model_id": "71395dda3ee845af864f3c0d47622153",
       "version_major": 2,
       "version_minor": 0
      },
      "text/plain": [
       "VBox(children=(HTML(value=''), Renderer(background='#cccc88', background_opacity=0.0, camera=PerspectiveCamera…"
      ]
     },
     "metadata": {},
     "output_type": "display_data"
    }
   ],
   "source": [
    "# Arm with flat pieces\n",
    "\n",
    "bearing_tube = cylinder(d=bearing[\"odd\"], h=bearing[\"h\"])\n",
    "bearing_ledge = cylinder(d=bearing[\"idr\"], h=thick)\n",
    "\n",
    "bearing_center = bearing_tube+bearing_ledge     # +screw_tube+screw_tube_2\n",
    "screw_p = translate([0,-bearing[\"odd\"]/2,bearing[\"h\"]/2])(cube([screw_od*2, 2*thick, bearing[\"h\"]], center=True))\n",
    "\n",
    "flat_h=3\n",
    "a1_1 = cube([arm[\"l1\"], thick, flat_h], center=True)\n",
    "a1_1 = translate([arm[\"l1\"]/2, screw_od/2+thick/2, flat_h/2])(a1_1)\n",
    "a1_2 = translate([0, -(screw_od+thick), 0])(a1_1)\n",
    "\n",
    "# flat cube...\n",
    "flat_base = cube([2*weight[\"w\"], weight[\"l\"], flat_h], center=True)\n",
    "flat_base = translate([arm[\"l1\"]+2*weight[\"w\"]/2-5, 0, flat_h/2])(flat_base)\n",
    "\n",
    "a1 = a1_1+a1_2+flat_base\n",
    "\n",
    "\n",
    "# second arm with bearing extension\n",
    "a2_1 = cube([arm[\"l2\"], thick, bearing[\"h\"]], center=True)\n",
    "a2_1 = translate([arm[\"l2\"]/2, screw_od/2+thick/2, bearing[\"h\"]/2])(a2_1)\n",
    "a2_2 = translate([0, -(screw_od+thick), 0])(a2_1)\n",
    "bearing_offset = bearing[\"h\"]+6*thick\n",
    "a2_ext_base =cylinder(d=bearing[\"idr\"], h=bearing_offset)\n",
    "a2_ext_bearing = translate([0,0,bearing_offset])(cylinder(d=bearing[\"id\"], h=bearing[\"h\"]/2))\n",
    "a2_ext = translate([arm[\"l2\"],0,0])(a2_ext_base+a2_ext_bearing)\n",
    "a2_h = translate([arm[\"l2\"], 0, 0])(cylinder(d=4, h=50))    # hole through center of bearing connection\n",
    "\n",
    "a2 = a2_1+a2_2+a2_ext-a2_h\n",
    "a2 = rotate([0,0,180])(a2)\n",
    "\n",
    "# holes ---------------------------\n",
    "bearing_hole = translate([0,0,lip_thick])(cylinder(d=bearing[\"od\"], h=bearing[\"h\"]))\n",
    "bearing_hole_through = cylinder(d=bearing[\"odr\"], h=lip_thick)\n",
    "screw_hole = translate([0,0,(bearing[\"h\"]+lip_thick)/2])(rotate([90,0,0])(cylinder(d=3, h=50)))\n",
    "\n",
    "holes = bearing_hole+bearing_hole_through+screw_hole\n",
    "\n",
    "p = bearing_center+screw_p+a1+a2-holes\n",
    "\n",
    "r.render(\n",
    "        p,\n",
    "        file_header=\"$fa=.01;\\n $fs=0.01\",\n",
    "        outfile=f\"STL/P1.stl\",\n",
    "    )\n"
   ]
  },
  {
   "cell_type": "code",
   "execution_count": 22,
   "metadata": {},
   "outputs": [
    {
     "data": {
      "application/vnd.jupyter.widget-view+json": {
       "model_id": "e84e8e4f37784a6984a1e13187afb3a5",
       "version_major": 2,
       "version_minor": 0
      },
      "text/plain": [
       "VBox(children=(HTML(value=''), Renderer(background='#cccc88', background_opacity=0.0, camera=PerspectiveCamera…"
      ]
     },
     "metadata": {},
     "output_type": "display_data"
    }
   ],
   "source": [
    "# mount for accelerometer\n",
    "dowel_d = 35\n",
    "dowel_odd = 10\n",
    "dowel_od = 7.4\n",
    "\n",
    "flat = cube([dowel_d, dowel_d, thick], center=True)\n",
    "flat = translate([0,0,thick/2])(flat)\n",
    "\n",
    "dowel_cube = cube([dowel_d, dowel_odd, dowel_odd], center=True)\n",
    "dowel_cube_1 = translate([0,dowel_d/2,dowel_odd/2])(dowel_cube)\n",
    "dowel_cube_2 = translate([0,-dowel_d/2,dowel_odd/2])(dowel_cube)\n",
    "dc = dowel_cube_1+dowel_cube_2\n",
    "\n",
    "dowel_hole = cylinder(d=dowel_od, h=30)\n",
    "dowel_hole = rotate([0,90,0])(dowel_hole)\n",
    "dowel_hole_1 = translate([0,dowel_d/2,dowel_odd/2])(dowel_hole)\n",
    "dowel_hole_2 = translate([0,-dowel_d/2,dowel_odd/2])(dowel_hole)\n",
    "dh = dowel_hole_1+dowel_hole_2\n",
    "dh += rotate([0,0,180])(dh)\n",
    "\n",
    "p = flat+dc-dh\n",
    "\n",
    "r.render(\n",
    "        p,\n",
    "        file_header=\"$fa=.01;\\n $fs=0.01\",\n",
    "        outfile=f\"STL/D_Flat.stl\",\n",
    "    )\n",
    "\n"
   ]
  },
  {
   "cell_type": "code",
   "execution_count": 23,
   "metadata": {},
   "outputs": [
    {
     "data": {
      "application/vnd.jupyter.widget-view+json": {
       "model_id": "d85e4369122b4df19385b701cca23220",
       "version_major": 2,
       "version_minor": 0
      },
      "text/plain": [
       "VBox(children=(HTML(value=''), Renderer(background='#cccc88', background_opacity=0.0, camera=PerspectiveCamera…"
      ]
     },
     "metadata": {},
     "output_type": "display_data"
    }
   ],
   "source": [
    "\n",
    "# motor cutouts\n",
    "mt = cylinder(d=30, h=6)\n",
    "motor_hole = cylinder(d=26, h=30)\n",
    "motor_slot = cube([dowel_d, thick, 10], center=True)\n",
    "motor_slot = translate([dowel_d/2,0,thick/2])(motor_slot)\n",
    "\n",
    "p = flat+mt+dc-dh-motor_hole-motor_slot\n",
    "\n",
    "r.render(\n",
    "        p,\n",
    "        file_header=\"$fa=.01;\\n $fs=0.01\",\n",
    "        outfile=f\"STL/D_Motor.stl\",\n",
    "    )"
   ]
  },
  {
   "cell_type": "code",
   "execution_count": 24,
   "metadata": {},
   "outputs": [
    {
     "data": {
      "application/vnd.jupyter.widget-view+json": {
       "model_id": "2935fec3ec694def9f5d12bd212b11b3",
       "version_major": 2,
       "version_minor": 0
      },
      "text/plain": [
       "VBox(children=(HTML(value=''), Renderer(background='#cccc88', background_opacity=0.0, camera=PerspectiveCamera…"
      ]
     },
     "metadata": {},
     "output_type": "display_data"
    }
   ],
   "source": [
    "# dowel bearing attachment\n",
    "flat = cube([dowel_d, dowel_d, bearing['h']], center=True)\n",
    "flat = translate([0,0,bearing['h']/2])(flat)\n",
    "\n",
    "bearing_hole = cylinder(d=bearing['od'], h=bearing['h'])\n",
    "bearing_hole = translate([0,0,thick])(bearing_hole)\n",
    "\n",
    "bearing_through_hole = cylinder(d=bearing['odr'], h=30)\n",
    "\n",
    "screw_hole = cylinder(d=3, h=30)\n",
    "screw_hole = rotate([90,0,0])(screw_hole)\n",
    "screw_hole = translate([0,0,dowel_od/2])(screw_hole)\n",
    "screw_hole += rotate([0,0,180])(screw_hole)\n",
    "\n",
    "p = flat+dc-dh-bearing_hole-bearing_through_hole-screw_hole\n",
    "\n",
    "r.render(\n",
    "        p,\n",
    "        file_header=\"$fa=.01;\\n $fs=0.01\",\n",
    "        outfile=f\"STL/Bearing_Dowel.stl\",\n",
    "    )"
   ]
  }
 ],
 "metadata": {
  "kernelspec": {
   "display_name": "virtual_env",
   "language": "python",
   "name": "python3"
  },
  "language_info": {
   "codemirror_mode": {
    "name": "ipython",
    "version": 3
   },
   "file_extension": ".py",
   "mimetype": "text/x-python",
   "name": "python",
   "nbconvert_exporter": "python",
   "pygments_lexer": "ipython3",
   "version": "3.10.11"
  },
  "orig_nbformat": 4,
  "vscode": {
   "interpreter": {
    "hash": "7a791564c7636bd0312489df8a91f04e82f7a7839c41ea5b51e49c54c216cd7b"
   }
  }
 },
 "nbformat": 4,
 "nbformat_minor": 2
}
