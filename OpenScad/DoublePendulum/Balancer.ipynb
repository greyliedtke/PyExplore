{
 "cells": [
  {
   "cell_type": "code",
   "execution_count": 1,
   "metadata": {},
   "outputs": [],
   "source": [
    "# imports and setup\n",
    "\n",
    "from solid import (\n",
    "    circle,\n",
    "    cylinder,\n",
    "    translate,\n",
    "    cube,\n",
    "    rotate,\n",
    "    rotate_extrude,\n",
    "    square,\n",
    "    polygon,\n",
    ")\n",
    "import viewscad\n",
    "r = viewscad.Renderer()\n"
   ]
  },
  {
   "cell_type": "code",
   "execution_count": 2,
   "metadata": {},
   "outputs": [],
   "source": [
    "# main dimensions\n",
    "thick = 2\n",
    "lip_thick = .5\n",
    "screw_od = 3.5\n",
    "\n",
    "# system parameter\n",
    "weight = {\n",
    "    \"l\": 32.3,\n",
    "    \"w\": 19,\n",
    "    \"h\":3,\n",
    "    \"weight\": .5 #oz\n",
    "}\n",
    "\n",
    "bearing = {\n",
    "    \"od\":23,\n",
    "    \"id\": 7.75,\n",
    "    \"odr\":18.5,\n",
    "    \"idr\": 11.5,\n",
    "    \"odd\":27,\n",
    "    \"h\":7,\n",
    "    \"weight\":.5\n",
    "}\n",
    "\n",
    "# balance arms...\n",
    "arm = {\"l1\":45, \"l2\":90, \"l3\":25, \"l4\":150}\n",
    "\n"
   ]
  },
  {
   "cell_type": "code",
   "execution_count": 3,
   "metadata": {},
   "outputs": [
    {
     "data": {
      "application/vnd.jupyter.widget-view+json": {
       "model_id": "284a8065eecf4bfdafdb238f9023c37f",
       "version_major": 2,
       "version_minor": 0
      },
      "text/plain": [
       "VBox(children=(HTML(value=''), Renderer(background='#cccc88', background_opacity=0.0, camera=PerspectiveCamera…"
      ]
     },
     "metadata": {},
     "output_type": "display_data"
    }
   ],
   "source": [
    "# Arm with hole for washer weights\n",
    "\n",
    "# Center section\n",
    "bearing_tube = cylinder(d=bearing[\"odd\"], h=bearing[\"h\"])\n",
    "bearing_ledge = cylinder(d=bearing[\"idr\"], h=thick)\n",
    "\n",
    "bearing_center = bearing_tube+bearing_ledge     # +screw_tube+screw_tube_2\n",
    "screw_p = translate([0,-bearing[\"odd\"]/2,bearing[\"h\"]/2])(cube([screw_od*2, 2*thick, bearing[\"h\"]], center=True))\n",
    "\n",
    "# First arm --------------------------------------------------------------------\n",
    "flat_h=bearing[\"h\"]\n",
    "a1 = cube([arm[\"l1\"], thick, flat_h], center=True)\n",
    "a1 = translate([arm[\"l1\"]/2, 0, flat_h/2])(a1)\n",
    "\n",
    "# flat cube...\n",
    "hsi_hole , hsi_od = 7, 11\n",
    "washer_mount = cylinder(d=hsi_od, h=flat_h)\n",
    "washer_mount = translate([arm[\"l1\"], 0, 0])(washer_mount)\n",
    "washer_h = cylinder(d=hsi_hole, h=flat_h)\n",
    "washer_h = translate([arm[\"l1\"], 0, 0])(washer_h)\n",
    "\n",
    "\n",
    "arm_1 = a1+washer_mount-washer_h\n",
    "\n",
    "# Second arm ------------------------------------------------------------------   \n",
    "a2 = cube([arm[\"l2\"], thick, bearing[\"h\"]], center=True)\n",
    "a2 = translate([arm[\"l2\"]/2, 0, bearing[\"h\"]/2])(a2)\n",
    "\n",
    "bearing_offset = bearing[\"h\"]+6*thick\n",
    "a2_ext_base =cylinder(d=bearing[\"idr\"], h=bearing_offset)\n",
    "a2_ext_bearing = translate([0,0,bearing_offset])(cylinder(d=bearing[\"id\"], h=bearing[\"h\"]/2))\n",
    "a2_ext = translate([arm[\"l2\"],0,0])(a2_ext_base+a2_ext_bearing)\n",
    "a2_h = translate([arm[\"l2\"], 0, 0])(cylinder(d=4, h=50))    # hole through center of bearing connection\n",
    "\n",
    "arm_2 = a2+a2_ext-a2_h\n",
    "arm_2 = rotate([0,0,180])(arm_2)\n",
    "\n",
    "# holes --------------------------------------------------------------------------\n",
    "bearing_hole = translate([0,0,lip_thick])(cylinder(d=bearing[\"od\"], h=bearing[\"h\"]))\n",
    "bearing_hole_through = cylinder(d=bearing[\"odr\"], h=lip_thick)\n",
    "screw_hole = translate([0,0,(bearing[\"h\"]+lip_thick)/2])(rotate([90,0,0])(cylinder(d=3, h=50)))\n",
    "\n",
    "holes = bearing_hole+bearing_hole_through+screw_hole\n",
    "\n",
    "p = bearing_center+screw_p+arm_1+arm_2-holes\n",
    "\n",
    "r.render(\n",
    "        p,\n",
    "        file_header=\"$fa=.01;\\n $fs=0.01\",\n",
    "        outfile=f\"STL/WasherArm.stl\",\n",
    "    )"
   ]
  },
  {
   "cell_type": "code",
   "execution_count": 4,
   "metadata": {},
   "outputs": [
    {
     "data": {
      "application/vnd.jupyter.widget-view+json": {
       "model_id": "077fa0411f744d0485c04bf5356fb78b",
       "version_major": 2,
       "version_minor": 0
      },
      "text/plain": [
       "VBox(children=(HTML(value=''), Renderer(background='#cccc88', background_opacity=0.0, camera=PerspectiveCamera…"
      ]
     },
     "metadata": {},
     "output_type": "display_data"
    }
   ],
   "source": [
    "# base \n",
    "base_offset = 25\n",
    "b1_a =cylinder(d=bearing[\"idr\"], h=base_offset)\n",
    "b1_b = translate([0,0,base_offset])(cylinder(d=bearing[\"id\"], h=bearing[\"h\"]/2))\n",
    "\n",
    "# holes ---------------------------\n",
    "b1_hole = cylinder(d=4, h=50)\n",
    "p = b1_a+b1_b-b1_hole\n",
    "\n",
    "r.render(\n",
    "        p,\n",
    "        file_header=\"$fa=.01;\\n $fs=0.01\",\n",
    "        outfile=f\"STL/Base.stl\",\n",
    "    )\n",
    "\n"
   ]
  },
  {
   "cell_type": "code",
   "execution_count": 5,
   "metadata": {},
   "outputs": [
    {
     "ename": "TraitError",
     "evalue": "The 'target' trait of a DirectionalLight instance expected an Uninitialized or an Object3D, not the str 'IPY_MODEL_c5dc5382-311f-4a1a-9ce3-1b16e5c7eab2'.",
     "output_type": "error",
     "traceback": [
      "\u001b[1;31m---------------------------------------------------------------------------\u001b[0m",
      "\u001b[1;31mTraitError\u001b[0m                                Traceback (most recent call last)",
      "File \u001b[1;32mc:\\Users\\greyl\\VScodeProjects\\PyExplore\\PyExplore\\.venv\\lib\\site-packages\\ipywidgets\\widgets\\widget.py:766\u001b[0m, in \u001b[0;36mWidget._handle_msg\u001b[1;34m(self, msg)\u001b[0m\n\u001b[0;32m    764\u001b[0m         \u001b[39mif\u001b[39;00m \u001b[39m'\u001b[39m\u001b[39mbuffer_paths\u001b[39m\u001b[39m'\u001b[39m \u001b[39min\u001b[39;00m data:\n\u001b[0;32m    765\u001b[0m             _put_buffers(state, data[\u001b[39m'\u001b[39m\u001b[39mbuffer_paths\u001b[39m\u001b[39m'\u001b[39m], msg[\u001b[39m'\u001b[39m\u001b[39mbuffers\u001b[39m\u001b[39m'\u001b[39m])\n\u001b[1;32m--> 766\u001b[0m         \u001b[39mself\u001b[39;49m\u001b[39m.\u001b[39;49mset_state(state)\n\u001b[0;32m    768\u001b[0m \u001b[39m# Handle a state request.\u001b[39;00m\n\u001b[0;32m    769\u001b[0m \u001b[39melif\u001b[39;00m method \u001b[39m==\u001b[39m \u001b[39m'\u001b[39m\u001b[39mrequest_state\u001b[39m\u001b[39m'\u001b[39m:\n",
      "File \u001b[1;32mc:\\Users\\greyl\\VScodeProjects\\PyExplore\\PyExplore\\.venv\\lib\\site-packages\\ipywidgets\\widgets\\widget.py:648\u001b[0m, in \u001b[0;36mWidget.set_state\u001b[1;34m(self, sync_data)\u001b[0m\n\u001b[0;32m    645\u001b[0m \u001b[39mif\u001b[39;00m name \u001b[39min\u001b[39;00m \u001b[39mself\u001b[39m\u001b[39m.\u001b[39mkeys:\n\u001b[0;32m    646\u001b[0m     from_json \u001b[39m=\u001b[39m \u001b[39mself\u001b[39m\u001b[39m.\u001b[39mtrait_metadata(name, \u001b[39m'\u001b[39m\u001b[39mfrom_json\u001b[39m\u001b[39m'\u001b[39m,\n\u001b[0;32m    647\u001b[0m                                     \u001b[39mself\u001b[39m\u001b[39m.\u001b[39m_trait_from_json)\n\u001b[1;32m--> 648\u001b[0m     \u001b[39mself\u001b[39;49m\u001b[39m.\u001b[39;49mset_trait(name, from_json(sync_data[name], \u001b[39mself\u001b[39;49m))\n",
      "File \u001b[1;32mc:\\Users\\greyl\\VScodeProjects\\PyExplore\\PyExplore\\.venv\\lib\\site-packages\\traitlets\\traitlets.py:1741\u001b[0m, in \u001b[0;36mHasTraits.set_trait\u001b[1;34m(self, name, value)\u001b[0m\n\u001b[0;32m   1739\u001b[0m     \u001b[39mraise\u001b[39;00m TraitError(\u001b[39mf\u001b[39m\u001b[39m\"\u001b[39m\u001b[39mClass \u001b[39m\u001b[39m{\u001b[39;00m\u001b[39mcls\u001b[39m\u001b[39m.\u001b[39m\u001b[39m__name__\u001b[39m\u001b[39m}\u001b[39;00m\u001b[39m does not have a trait named \u001b[39m\u001b[39m{\u001b[39;00mname\u001b[39m}\u001b[39;00m\u001b[39m\"\u001b[39m)\n\u001b[0;32m   1740\u001b[0m \u001b[39melse\u001b[39;00m:\n\u001b[1;32m-> 1741\u001b[0m     \u001b[39mgetattr\u001b[39;49m(\u001b[39mcls\u001b[39;49m, name)\u001b[39m.\u001b[39;49mset(\u001b[39mself\u001b[39;49m, value)\n",
      "File \u001b[1;32mc:\\Users\\greyl\\VScodeProjects\\PyExplore\\PyExplore\\.venv\\lib\\site-packages\\traitlets\\traitlets.py:706\u001b[0m, in \u001b[0;36mTraitType.set\u001b[1;34m(self, obj, value)\u001b[0m\n\u001b[0;32m    705\u001b[0m \u001b[39mdef\u001b[39;00m \u001b[39mset\u001b[39m(\u001b[39mself\u001b[39m, obj, value):\n\u001b[1;32m--> 706\u001b[0m     new_value \u001b[39m=\u001b[39m \u001b[39mself\u001b[39;49m\u001b[39m.\u001b[39;49m_validate(obj, value)\n\u001b[0;32m    707\u001b[0m     \u001b[39mtry\u001b[39;00m:\n\u001b[0;32m    708\u001b[0m         old_value \u001b[39m=\u001b[39m obj\u001b[39m.\u001b[39m_trait_values[\u001b[39mself\u001b[39m\u001b[39m.\u001b[39mname]\n",
      "File \u001b[1;32mc:\\Users\\greyl\\VScodeProjects\\PyExplore\\PyExplore\\.venv\\lib\\site-packages\\traitlets\\traitlets.py:738\u001b[0m, in \u001b[0;36mTraitType._validate\u001b[1;34m(self, obj, value)\u001b[0m\n\u001b[0;32m    736\u001b[0m     \u001b[39mreturn\u001b[39;00m value\n\u001b[0;32m    737\u001b[0m \u001b[39mif\u001b[39;00m \u001b[39mhasattr\u001b[39m(\u001b[39mself\u001b[39m, \u001b[39m\"\u001b[39m\u001b[39mvalidate\u001b[39m\u001b[39m\"\u001b[39m):\n\u001b[1;32m--> 738\u001b[0m     value \u001b[39m=\u001b[39m \u001b[39mself\u001b[39;49m\u001b[39m.\u001b[39;49mvalidate(obj, value)\n\u001b[0;32m    739\u001b[0m \u001b[39mif\u001b[39;00m obj\u001b[39m.\u001b[39m_cross_validation_lock \u001b[39mis\u001b[39;00m \u001b[39mFalse\u001b[39;00m:\n\u001b[0;32m    740\u001b[0m     value \u001b[39m=\u001b[39m \u001b[39mself\u001b[39m\u001b[39m.\u001b[39m_cross_validate(obj, value)\n",
      "File \u001b[1;32mc:\\Users\\greyl\\VScodeProjects\\PyExplore\\PyExplore\\.venv\\lib\\site-packages\\traitlets\\traitlets.py:2305\u001b[0m, in \u001b[0;36mUnion.validate\u001b[1;34m(self, obj, value)\u001b[0m\n\u001b[0;32m   2303\u001b[0m         \u001b[39mexcept\u001b[39;00m TraitError:\n\u001b[0;32m   2304\u001b[0m             \u001b[39mcontinue\u001b[39;00m\n\u001b[1;32m-> 2305\u001b[0m \u001b[39mself\u001b[39;49m\u001b[39m.\u001b[39;49merror(obj, value)\n",
      "File \u001b[1;32mc:\\Users\\greyl\\VScodeProjects\\PyExplore\\PyExplore\\.venv\\lib\\site-packages\\traitlets\\traitlets.py:844\u001b[0m, in \u001b[0;36mTraitType.error\u001b[1;34m(self, obj, value, error, info)\u001b[0m\n\u001b[0;32m    838\u001b[0m \u001b[39melse\u001b[39;00m:\n\u001b[0;32m    839\u001b[0m     e \u001b[39m=\u001b[39m \u001b[39m\"\u001b[39m\u001b[39mThe \u001b[39m\u001b[39m'\u001b[39m\u001b[39m{}\u001b[39;00m\u001b[39m'\u001b[39m\u001b[39m trait expected \u001b[39m\u001b[39m{}\u001b[39;00m\u001b[39m, not \u001b[39m\u001b[39m{}\u001b[39;00m\u001b[39m.\u001b[39m\u001b[39m\"\u001b[39m\u001b[39m.\u001b[39mformat(\n\u001b[0;32m    840\u001b[0m         \u001b[39mself\u001b[39m\u001b[39m.\u001b[39mname,\n\u001b[0;32m    841\u001b[0m         \u001b[39mself\u001b[39m\u001b[39m.\u001b[39minfo(),\n\u001b[0;32m    842\u001b[0m         describe(\u001b[39m\"\u001b[39m\u001b[39mthe\u001b[39m\u001b[39m\"\u001b[39m, value),\n\u001b[0;32m    843\u001b[0m     )\n\u001b[1;32m--> 844\u001b[0m \u001b[39mraise\u001b[39;00m TraitError(e)\n",
      "\u001b[1;31mTraitError\u001b[0m: The 'target' trait of a DirectionalLight instance expected an Uninitialized or an Object3D, not the str 'IPY_MODEL_c5dc5382-311f-4a1a-9ce3-1b16e5c7eab2'."
     ]
    },
    {
     "ename": "TraitError",
     "evalue": "The 'target' trait of a DirectionalLight instance expected an Uninitialized or an Object3D, not the str 'IPY_MODEL_44aaaecb-e57b-4c51-8c0a-78334977e817'.",
     "output_type": "error",
     "traceback": [
      "\u001b[1;31m---------------------------------------------------------------------------\u001b[0m",
      "\u001b[1;31mTraitError\u001b[0m                                Traceback (most recent call last)",
      "File \u001b[1;32mc:\\Users\\greyl\\VScodeProjects\\PyExplore\\PyExplore\\.venv\\lib\\site-packages\\ipywidgets\\widgets\\widget.py:766\u001b[0m, in \u001b[0;36mWidget._handle_msg\u001b[1;34m(self, msg)\u001b[0m\n\u001b[0;32m    764\u001b[0m         \u001b[39mif\u001b[39;00m \u001b[39m'\u001b[39m\u001b[39mbuffer_paths\u001b[39m\u001b[39m'\u001b[39m \u001b[39min\u001b[39;00m data:\n\u001b[0;32m    765\u001b[0m             _put_buffers(state, data[\u001b[39m'\u001b[39m\u001b[39mbuffer_paths\u001b[39m\u001b[39m'\u001b[39m], msg[\u001b[39m'\u001b[39m\u001b[39mbuffers\u001b[39m\u001b[39m'\u001b[39m])\n\u001b[1;32m--> 766\u001b[0m         \u001b[39mself\u001b[39;49m\u001b[39m.\u001b[39;49mset_state(state)\n\u001b[0;32m    768\u001b[0m \u001b[39m# Handle a state request.\u001b[39;00m\n\u001b[0;32m    769\u001b[0m \u001b[39melif\u001b[39;00m method \u001b[39m==\u001b[39m \u001b[39m'\u001b[39m\u001b[39mrequest_state\u001b[39m\u001b[39m'\u001b[39m:\n",
      "File \u001b[1;32mc:\\Users\\greyl\\VScodeProjects\\PyExplore\\PyExplore\\.venv\\lib\\site-packages\\ipywidgets\\widgets\\widget.py:648\u001b[0m, in \u001b[0;36mWidget.set_state\u001b[1;34m(self, sync_data)\u001b[0m\n\u001b[0;32m    645\u001b[0m \u001b[39mif\u001b[39;00m name \u001b[39min\u001b[39;00m \u001b[39mself\u001b[39m\u001b[39m.\u001b[39mkeys:\n\u001b[0;32m    646\u001b[0m     from_json \u001b[39m=\u001b[39m \u001b[39mself\u001b[39m\u001b[39m.\u001b[39mtrait_metadata(name, \u001b[39m'\u001b[39m\u001b[39mfrom_json\u001b[39m\u001b[39m'\u001b[39m,\n\u001b[0;32m    647\u001b[0m                                     \u001b[39mself\u001b[39m\u001b[39m.\u001b[39m_trait_from_json)\n\u001b[1;32m--> 648\u001b[0m     \u001b[39mself\u001b[39;49m\u001b[39m.\u001b[39;49mset_trait(name, from_json(sync_data[name], \u001b[39mself\u001b[39;49m))\n",
      "File \u001b[1;32mc:\\Users\\greyl\\VScodeProjects\\PyExplore\\PyExplore\\.venv\\lib\\site-packages\\traitlets\\traitlets.py:1741\u001b[0m, in \u001b[0;36mHasTraits.set_trait\u001b[1;34m(self, name, value)\u001b[0m\n\u001b[0;32m   1739\u001b[0m     \u001b[39mraise\u001b[39;00m TraitError(\u001b[39mf\u001b[39m\u001b[39m\"\u001b[39m\u001b[39mClass \u001b[39m\u001b[39m{\u001b[39;00m\u001b[39mcls\u001b[39m\u001b[39m.\u001b[39m\u001b[39m__name__\u001b[39m\u001b[39m}\u001b[39;00m\u001b[39m does not have a trait named \u001b[39m\u001b[39m{\u001b[39;00mname\u001b[39m}\u001b[39;00m\u001b[39m\"\u001b[39m)\n\u001b[0;32m   1740\u001b[0m \u001b[39melse\u001b[39;00m:\n\u001b[1;32m-> 1741\u001b[0m     \u001b[39mgetattr\u001b[39;49m(\u001b[39mcls\u001b[39;49m, name)\u001b[39m.\u001b[39;49mset(\u001b[39mself\u001b[39;49m, value)\n",
      "File \u001b[1;32mc:\\Users\\greyl\\VScodeProjects\\PyExplore\\PyExplore\\.venv\\lib\\site-packages\\traitlets\\traitlets.py:706\u001b[0m, in \u001b[0;36mTraitType.set\u001b[1;34m(self, obj, value)\u001b[0m\n\u001b[0;32m    705\u001b[0m \u001b[39mdef\u001b[39;00m \u001b[39mset\u001b[39m(\u001b[39mself\u001b[39m, obj, value):\n\u001b[1;32m--> 706\u001b[0m     new_value \u001b[39m=\u001b[39m \u001b[39mself\u001b[39;49m\u001b[39m.\u001b[39;49m_validate(obj, value)\n\u001b[0;32m    707\u001b[0m     \u001b[39mtry\u001b[39;00m:\n\u001b[0;32m    708\u001b[0m         old_value \u001b[39m=\u001b[39m obj\u001b[39m.\u001b[39m_trait_values[\u001b[39mself\u001b[39m\u001b[39m.\u001b[39mname]\n",
      "File \u001b[1;32mc:\\Users\\greyl\\VScodeProjects\\PyExplore\\PyExplore\\.venv\\lib\\site-packages\\traitlets\\traitlets.py:738\u001b[0m, in \u001b[0;36mTraitType._validate\u001b[1;34m(self, obj, value)\u001b[0m\n\u001b[0;32m    736\u001b[0m     \u001b[39mreturn\u001b[39;00m value\n\u001b[0;32m    737\u001b[0m \u001b[39mif\u001b[39;00m \u001b[39mhasattr\u001b[39m(\u001b[39mself\u001b[39m, \u001b[39m\"\u001b[39m\u001b[39mvalidate\u001b[39m\u001b[39m\"\u001b[39m):\n\u001b[1;32m--> 738\u001b[0m     value \u001b[39m=\u001b[39m \u001b[39mself\u001b[39;49m\u001b[39m.\u001b[39;49mvalidate(obj, value)\n\u001b[0;32m    739\u001b[0m \u001b[39mif\u001b[39;00m obj\u001b[39m.\u001b[39m_cross_validation_lock \u001b[39mis\u001b[39;00m \u001b[39mFalse\u001b[39;00m:\n\u001b[0;32m    740\u001b[0m     value \u001b[39m=\u001b[39m \u001b[39mself\u001b[39m\u001b[39m.\u001b[39m_cross_validate(obj, value)\n",
      "File \u001b[1;32mc:\\Users\\greyl\\VScodeProjects\\PyExplore\\PyExplore\\.venv\\lib\\site-packages\\traitlets\\traitlets.py:2305\u001b[0m, in \u001b[0;36mUnion.validate\u001b[1;34m(self, obj, value)\u001b[0m\n\u001b[0;32m   2303\u001b[0m         \u001b[39mexcept\u001b[39;00m TraitError:\n\u001b[0;32m   2304\u001b[0m             \u001b[39mcontinue\u001b[39;00m\n\u001b[1;32m-> 2305\u001b[0m \u001b[39mself\u001b[39;49m\u001b[39m.\u001b[39;49merror(obj, value)\n",
      "File \u001b[1;32mc:\\Users\\greyl\\VScodeProjects\\PyExplore\\PyExplore\\.venv\\lib\\site-packages\\traitlets\\traitlets.py:844\u001b[0m, in \u001b[0;36mTraitType.error\u001b[1;34m(self, obj, value, error, info)\u001b[0m\n\u001b[0;32m    838\u001b[0m \u001b[39melse\u001b[39;00m:\n\u001b[0;32m    839\u001b[0m     e \u001b[39m=\u001b[39m \u001b[39m\"\u001b[39m\u001b[39mThe \u001b[39m\u001b[39m'\u001b[39m\u001b[39m{}\u001b[39;00m\u001b[39m'\u001b[39m\u001b[39m trait expected \u001b[39m\u001b[39m{}\u001b[39;00m\u001b[39m, not \u001b[39m\u001b[39m{}\u001b[39;00m\u001b[39m.\u001b[39m\u001b[39m\"\u001b[39m\u001b[39m.\u001b[39mformat(\n\u001b[0;32m    840\u001b[0m         \u001b[39mself\u001b[39m\u001b[39m.\u001b[39mname,\n\u001b[0;32m    841\u001b[0m         \u001b[39mself\u001b[39m\u001b[39m.\u001b[39minfo(),\n\u001b[0;32m    842\u001b[0m         describe(\u001b[39m\"\u001b[39m\u001b[39mthe\u001b[39m\u001b[39m\"\u001b[39m, value),\n\u001b[0;32m    843\u001b[0m     )\n\u001b[1;32m--> 844\u001b[0m \u001b[39mraise\u001b[39;00m TraitError(e)\n",
      "\u001b[1;31mTraitError\u001b[0m: The 'target' trait of a DirectionalLight instance expected an Uninitialized or an Object3D, not the str 'IPY_MODEL_44aaaecb-e57b-4c51-8c0a-78334977e817'."
     ]
    },
    {
     "data": {
      "application/vnd.jupyter.widget-view+json": {
       "model_id": "02e8b9b07c304d0fb9a54d5f875f07af",
       "version_major": 2,
       "version_minor": 0
      },
      "text/plain": [
       "VBox(children=(HTML(value=''), Renderer(background='#cccc88', background_opacity=0.0, camera=PerspectiveCamera…"
      ]
     },
     "metadata": {},
     "output_type": "display_data"
    }
   ],
   "source": [
    "# cap\n",
    "base_offset = 25\n",
    "cap_b = cylinder(d=bearing[\"idr\"], h=thick)\n",
    "cap_i = cylinder(d=bearing[\"id\"], h=bearing[\"h\"]/3+thick)\n",
    "\n",
    "# holes ---------------------------\n",
    "b1_hole = cylinder(d=4, h=50)\n",
    "p = cap_b+cap_i-b1_hole\n",
    "\n",
    "r.render(\n",
    "        p,\n",
    "        file_header=\"$fa=.01;\\n $fs=0.01\",\n",
    "        outfile=f\"STL/Cap.stl\",\n",
    "    )\n"
   ]
  },
  {
   "cell_type": "code",
   "execution_count": 6,
   "metadata": {},
   "outputs": [
    {
     "data": {
      "application/vnd.jupyter.widget-view+json": {
       "model_id": "4273422251aa4d62944d27a97c806ded",
       "version_major": 2,
       "version_minor": 0
      },
      "text/plain": [
       "VBox(children=(HTML(value=''), Renderer(background='#cccc88', background_opacity=0.0, camera=PerspectiveCamera…"
      ]
     },
     "metadata": {},
     "output_type": "display_data"
    }
   ],
   "source": [
    "# flat platform to mount acc, motor, weights to dowel...\n",
    "dowel_od = 7.5\n",
    "dowel_tr = 10\n",
    "\n",
    "flat_l, flat_w = 75, 50\n",
    "\n",
    "# flat cube...\n",
    "flat_base = cube([flat_l, flat_w, thick], center=True)\n",
    "flat_base = translate([0, 0, thick/2])(flat_base)\n",
    "\n",
    "\n",
    "dowel_rect = cube([20, dowel_tr, dowel_tr], center=True)\n",
    "dowel_rect = translate([flat_l/2-5, 0, dowel_tr/2])(dowel_rect)\n",
    "\n",
    "dowel_hole = cylinder(d=dowel_od, h=20)\n",
    "dowel_hole = rotate([0,90,0])(dowel_hole)\n",
    "dowel_hole = translate([flat_l/2-5, 0, dowel_tr/2])(dowel_hole)\n",
    "\n",
    "screw_hole = cylinder(d=4, h=20)\n",
    "screw_hole = translate([flat_l/2-5, 0, 0])(screw_hole)\n",
    "\n",
    "\n",
    "p = flat_base+dowel_rect-dowel_hole-screw_hole\n",
    "\n",
    "r.render(\n",
    "        p,\n",
    "        file_header=\"$fa=.01;\\n $fs=0.01\",\n",
    "        outfile=f\"STL/FlatMount.stl\",\n",
    "    )\n"
   ]
  },
  {
   "cell_type": "code",
   "execution_count": 7,
   "metadata": {},
   "outputs": [
    {
     "ename": "TraitError",
     "evalue": "The 'target' trait of a DirectionalLight instance expected an Uninitialized or an Object3D, not the str 'IPY_MODEL_b16392f2-5470-4ea2-92f7-1e009dd9bd85'.",
     "output_type": "error",
     "traceback": [
      "\u001b[1;31m---------------------------------------------------------------------------\u001b[0m",
      "\u001b[1;31mTraitError\u001b[0m                                Traceback (most recent call last)",
      "File \u001b[1;32mc:\\Users\\greyl\\VScodeProjects\\PyExplore\\PyExplore\\.venv\\lib\\site-packages\\ipywidgets\\widgets\\widget.py:766\u001b[0m, in \u001b[0;36mWidget._handle_msg\u001b[1;34m(self, msg)\u001b[0m\n\u001b[0;32m    764\u001b[0m         \u001b[39mif\u001b[39;00m \u001b[39m'\u001b[39m\u001b[39mbuffer_paths\u001b[39m\u001b[39m'\u001b[39m \u001b[39min\u001b[39;00m data:\n\u001b[0;32m    765\u001b[0m             _put_buffers(state, data[\u001b[39m'\u001b[39m\u001b[39mbuffer_paths\u001b[39m\u001b[39m'\u001b[39m], msg[\u001b[39m'\u001b[39m\u001b[39mbuffers\u001b[39m\u001b[39m'\u001b[39m])\n\u001b[1;32m--> 766\u001b[0m         \u001b[39mself\u001b[39;49m\u001b[39m.\u001b[39;49mset_state(state)\n\u001b[0;32m    768\u001b[0m \u001b[39m# Handle a state request.\u001b[39;00m\n\u001b[0;32m    769\u001b[0m \u001b[39melif\u001b[39;00m method \u001b[39m==\u001b[39m \u001b[39m'\u001b[39m\u001b[39mrequest_state\u001b[39m\u001b[39m'\u001b[39m:\n",
      "File \u001b[1;32mc:\\Users\\greyl\\VScodeProjects\\PyExplore\\PyExplore\\.venv\\lib\\site-packages\\ipywidgets\\widgets\\widget.py:648\u001b[0m, in \u001b[0;36mWidget.set_state\u001b[1;34m(self, sync_data)\u001b[0m\n\u001b[0;32m    645\u001b[0m \u001b[39mif\u001b[39;00m name \u001b[39min\u001b[39;00m \u001b[39mself\u001b[39m\u001b[39m.\u001b[39mkeys:\n\u001b[0;32m    646\u001b[0m     from_json \u001b[39m=\u001b[39m \u001b[39mself\u001b[39m\u001b[39m.\u001b[39mtrait_metadata(name, \u001b[39m'\u001b[39m\u001b[39mfrom_json\u001b[39m\u001b[39m'\u001b[39m,\n\u001b[0;32m    647\u001b[0m                                     \u001b[39mself\u001b[39m\u001b[39m.\u001b[39m_trait_from_json)\n\u001b[1;32m--> 648\u001b[0m     \u001b[39mself\u001b[39;49m\u001b[39m.\u001b[39;49mset_trait(name, from_json(sync_data[name], \u001b[39mself\u001b[39;49m))\n",
      "File \u001b[1;32mc:\\Users\\greyl\\VScodeProjects\\PyExplore\\PyExplore\\.venv\\lib\\site-packages\\traitlets\\traitlets.py:1741\u001b[0m, in \u001b[0;36mHasTraits.set_trait\u001b[1;34m(self, name, value)\u001b[0m\n\u001b[0;32m   1739\u001b[0m     \u001b[39mraise\u001b[39;00m TraitError(\u001b[39mf\u001b[39m\u001b[39m\"\u001b[39m\u001b[39mClass \u001b[39m\u001b[39m{\u001b[39;00m\u001b[39mcls\u001b[39m\u001b[39m.\u001b[39m\u001b[39m__name__\u001b[39m\u001b[39m}\u001b[39;00m\u001b[39m does not have a trait named \u001b[39m\u001b[39m{\u001b[39;00mname\u001b[39m}\u001b[39;00m\u001b[39m\"\u001b[39m)\n\u001b[0;32m   1740\u001b[0m \u001b[39melse\u001b[39;00m:\n\u001b[1;32m-> 1741\u001b[0m     \u001b[39mgetattr\u001b[39;49m(\u001b[39mcls\u001b[39;49m, name)\u001b[39m.\u001b[39;49mset(\u001b[39mself\u001b[39;49m, value)\n",
      "File \u001b[1;32mc:\\Users\\greyl\\VScodeProjects\\PyExplore\\PyExplore\\.venv\\lib\\site-packages\\traitlets\\traitlets.py:706\u001b[0m, in \u001b[0;36mTraitType.set\u001b[1;34m(self, obj, value)\u001b[0m\n\u001b[0;32m    705\u001b[0m \u001b[39mdef\u001b[39;00m \u001b[39mset\u001b[39m(\u001b[39mself\u001b[39m, obj, value):\n\u001b[1;32m--> 706\u001b[0m     new_value \u001b[39m=\u001b[39m \u001b[39mself\u001b[39;49m\u001b[39m.\u001b[39;49m_validate(obj, value)\n\u001b[0;32m    707\u001b[0m     \u001b[39mtry\u001b[39;00m:\n\u001b[0;32m    708\u001b[0m         old_value \u001b[39m=\u001b[39m obj\u001b[39m.\u001b[39m_trait_values[\u001b[39mself\u001b[39m\u001b[39m.\u001b[39mname]\n",
      "File \u001b[1;32mc:\\Users\\greyl\\VScodeProjects\\PyExplore\\PyExplore\\.venv\\lib\\site-packages\\traitlets\\traitlets.py:738\u001b[0m, in \u001b[0;36mTraitType._validate\u001b[1;34m(self, obj, value)\u001b[0m\n\u001b[0;32m    736\u001b[0m     \u001b[39mreturn\u001b[39;00m value\n\u001b[0;32m    737\u001b[0m \u001b[39mif\u001b[39;00m \u001b[39mhasattr\u001b[39m(\u001b[39mself\u001b[39m, \u001b[39m\"\u001b[39m\u001b[39mvalidate\u001b[39m\u001b[39m\"\u001b[39m):\n\u001b[1;32m--> 738\u001b[0m     value \u001b[39m=\u001b[39m \u001b[39mself\u001b[39;49m\u001b[39m.\u001b[39;49mvalidate(obj, value)\n\u001b[0;32m    739\u001b[0m \u001b[39mif\u001b[39;00m obj\u001b[39m.\u001b[39m_cross_validation_lock \u001b[39mis\u001b[39;00m \u001b[39mFalse\u001b[39;00m:\n\u001b[0;32m    740\u001b[0m     value \u001b[39m=\u001b[39m \u001b[39mself\u001b[39m\u001b[39m.\u001b[39m_cross_validate(obj, value)\n",
      "File \u001b[1;32mc:\\Users\\greyl\\VScodeProjects\\PyExplore\\PyExplore\\.venv\\lib\\site-packages\\traitlets\\traitlets.py:2305\u001b[0m, in \u001b[0;36mUnion.validate\u001b[1;34m(self, obj, value)\u001b[0m\n\u001b[0;32m   2303\u001b[0m         \u001b[39mexcept\u001b[39;00m TraitError:\n\u001b[0;32m   2304\u001b[0m             \u001b[39mcontinue\u001b[39;00m\n\u001b[1;32m-> 2305\u001b[0m \u001b[39mself\u001b[39;49m\u001b[39m.\u001b[39;49merror(obj, value)\n",
      "File \u001b[1;32mc:\\Users\\greyl\\VScodeProjects\\PyExplore\\PyExplore\\.venv\\lib\\site-packages\\traitlets\\traitlets.py:844\u001b[0m, in \u001b[0;36mTraitType.error\u001b[1;34m(self, obj, value, error, info)\u001b[0m\n\u001b[0;32m    838\u001b[0m \u001b[39melse\u001b[39;00m:\n\u001b[0;32m    839\u001b[0m     e \u001b[39m=\u001b[39m \u001b[39m\"\u001b[39m\u001b[39mThe \u001b[39m\u001b[39m'\u001b[39m\u001b[39m{}\u001b[39;00m\u001b[39m'\u001b[39m\u001b[39m trait expected \u001b[39m\u001b[39m{}\u001b[39;00m\u001b[39m, not \u001b[39m\u001b[39m{}\u001b[39;00m\u001b[39m.\u001b[39m\u001b[39m\"\u001b[39m\u001b[39m.\u001b[39mformat(\n\u001b[0;32m    840\u001b[0m         \u001b[39mself\u001b[39m\u001b[39m.\u001b[39mname,\n\u001b[0;32m    841\u001b[0m         \u001b[39mself\u001b[39m\u001b[39m.\u001b[39minfo(),\n\u001b[0;32m    842\u001b[0m         describe(\u001b[39m\"\u001b[39m\u001b[39mthe\u001b[39m\u001b[39m\"\u001b[39m, value),\n\u001b[0;32m    843\u001b[0m     )\n\u001b[1;32m--> 844\u001b[0m \u001b[39mraise\u001b[39;00m TraitError(e)\n",
      "\u001b[1;31mTraitError\u001b[0m: The 'target' trait of a DirectionalLight instance expected an Uninitialized or an Object3D, not the str 'IPY_MODEL_b16392f2-5470-4ea2-92f7-1e009dd9bd85'."
     ]
    },
    {
     "data": {
      "application/vnd.jupyter.widget-view+json": {
       "model_id": "25f86932bd0f421fa51f5ea5c2910570",
       "version_major": 2,
       "version_minor": 0
      },
      "text/plain": [
       "VBox(children=(HTML(value=''), Renderer(background='#cccc88', background_opacity=0.0, camera=PerspectiveCamera…"
      ]
     },
     "metadata": {},
     "output_type": "display_data"
    }
   ],
   "source": [
    "# Arm with flat pieces\n",
    "\n",
    "bearing_tube = cylinder(d=bearing[\"odd\"], h=bearing[\"h\"])\n",
    "bearing_ledge = cylinder(d=bearing[\"idr\"], h=thick)\n",
    "\n",
    "bearing_center = bearing_tube+bearing_ledge     # +screw_tube+screw_tube_2\n",
    "screw_p = translate([0,-bearing[\"odd\"]/2,bearing[\"h\"]/2])(cube([screw_od*2, 2*thick, bearing[\"h\"]], center=True))\n",
    "\n",
    "flat_h=3\n",
    "a1_1 = cube([arm[\"l1\"], thick, flat_h], center=True)\n",
    "a1_1 = translate([arm[\"l1\"]/2, screw_od/2+thick/2, flat_h/2])(a1_1)\n",
    "a1_2 = translate([0, -(screw_od+thick), 0])(a1_1)\n",
    "\n",
    "# flat cube...\n",
    "flat_base = cube([2*weight[\"w\"], weight[\"l\"], flat_h], center=True)\n",
    "flat_base = translate([arm[\"l1\"]+2*weight[\"w\"]/2-5, 0, flat_h/2])(flat_base)\n",
    "\n",
    "a1 = a1_1+a1_2+flat_base\n",
    "\n",
    "\n",
    "# second arm with bearing extension\n",
    "a2_1 = cube([arm[\"l2\"], thick, bearing[\"h\"]], center=True)\n",
    "a2_1 = translate([arm[\"l2\"]/2, screw_od/2+thick/2, bearing[\"h\"]/2])(a2_1)\n",
    "a2_2 = translate([0, -(screw_od+thick), 0])(a2_1)\n",
    "bearing_offset = bearing[\"h\"]+6*thick\n",
    "a2_ext_base =cylinder(d=bearing[\"idr\"], h=bearing_offset)\n",
    "a2_ext_bearing = translate([0,0,bearing_offset])(cylinder(d=bearing[\"id\"], h=bearing[\"h\"]/2))\n",
    "a2_ext = translate([arm[\"l2\"],0,0])(a2_ext_base+a2_ext_bearing)\n",
    "a2_h = translate([arm[\"l2\"], 0, 0])(cylinder(d=4, h=50))    # hole through center of bearing connection\n",
    "\n",
    "a2 = a2_1+a2_2+a2_ext-a2_h\n",
    "a2 = rotate([0,0,180])(a2)\n",
    "\n",
    "# holes ---------------------------\n",
    "bearing_hole = translate([0,0,lip_thick])(cylinder(d=bearing[\"od\"], h=bearing[\"h\"]))\n",
    "bearing_hole_through = cylinder(d=bearing[\"odr\"], h=lip_thick)\n",
    "screw_hole = translate([0,0,(bearing[\"h\"]+lip_thick)/2])(rotate([90,0,0])(cylinder(d=3, h=50)))\n",
    "\n",
    "holes = bearing_hole+bearing_hole_through+screw_hole\n",
    "\n",
    "p = bearing_center+screw_p+a1+a2-holes\n",
    "\n",
    "r.render(\n",
    "        p,\n",
    "        file_header=\"$fa=.01;\\n $fs=0.01\",\n",
    "        outfile=f\"STL/P1.stl\",\n",
    "    )\n"
   ]
  }
 ],
 "metadata": {
  "kernelspec": {
   "display_name": "virtual_env",
   "language": "python",
   "name": "python3"
  },
  "language_info": {
   "codemirror_mode": {
    "name": "ipython",
    "version": 3
   },
   "file_extension": ".py",
   "mimetype": "text/x-python",
   "name": "python",
   "nbconvert_exporter": "python",
   "pygments_lexer": "ipython3",
   "version": "3.10.7"
  },
  "orig_nbformat": 4,
  "vscode": {
   "interpreter": {
    "hash": "7a791564c7636bd0312489df8a91f04e82f7a7839c41ea5b51e49c54c216cd7b"
   }
  }
 },
 "nbformat": 4,
 "nbformat_minor": 2
}
