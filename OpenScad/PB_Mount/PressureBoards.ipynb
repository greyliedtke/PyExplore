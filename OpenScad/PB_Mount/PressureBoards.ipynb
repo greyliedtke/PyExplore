{
 "cells": [
  {
   "cell_type": "code",
   "execution_count": 1,
   "metadata": {},
   "outputs": [],
   "source": [
    "from solid2 import (\n",
    "    circle,\n",
    "    cylinder,\n",
    "    translate,\n",
    "    cube,\n",
    "    rotate,\n",
    "    rotate_extrude,\n",
    "    square,\n",
    "    polygon,\n",
    "    intersection\n",
    ")\n",
    "\n",
    "def tube(od, id, height): return cylinder(d=od, h=height) - cylinder(d=id, h=height)\n",
    "\n"
   ]
  },
  {
   "cell_type": "code",
   "execution_count": 6,
   "metadata": {},
   "outputs": [
    {
     "data": {
      "text/plain": [
       "'c:/Users/greyl/PyExplore/OpenScad/PB_Mount/SCAD/topMount.scad'"
      ]
     },
     "execution_count": 6,
     "metadata": {},
     "output_type": "execute_result"
    }
   ],
   "source": [
    "# creating pressure board for leur locks\n",
    "\n",
    "leur_od = 6.5\n",
    "leur_spacing = 18\n",
    "pb_l = 60\n",
    "pb_w = 15\n",
    "pb_h = 12\n",
    "thick = 3\n",
    "screw_od = 3.5\n",
    "mount_od = 6\n",
    "\n",
    "# creating main base\n",
    "pb = cube([pb_l, pb_w, pb_h], center=True).up(pb_h/2)\n",
    "\n",
    "# subtract quarter for attachment\n",
    "pbq = pb.up(pb_h/2).forward(pb_w/2)\n",
    "pb = pb-pbq\n",
    "\n",
    "hh = 30 # horizontal holes\n",
    "v_hole = cylinder(d=leur_od, h=hh)\n",
    "v_holes = v_hole+v_hole.right(leur_spacing)+v_hole.left(leur_spacing)\n",
    "h_holes = v_holes.rotateX(90).up(pb_h/2).forward(hh/2)\n",
    "\n",
    "b_hole = cylinder(d=leur_od+3, h=pb_h/2)\n",
    "b_holes = b_hole+b_hole.right(leur_spacing)+b_hole.left(leur_spacing)\n",
    "\n",
    "pb = pb - v_holes - h_holes - b_holes\n",
    "\n",
    "screw_hole = cylinder(d=screw_od+.5, h=hh).forward(pb_w/4)\n",
    "screw_holes = screw_hole.right(pb_l/2-5)+screw_hole.left(pb_l/2-5)\n",
    "pb -= screw_holes\n",
    "\n",
    "pb = pb.forward(pb_w/2)\n",
    "pb += pb.rotateZ(180)\n",
    "\n",
    "# mounting attachment \n",
    "rm_h = 40 \n",
    "rm = cube([thick, pb_w, rm_h], center=True).up(rm_h/2).right(pb_l/2-thick/2)\n",
    "rm_hole = cylinder(d=mount_od, h=hh).rotateY(90).right(pb_l/3).up(rm_h-mount_od)\n",
    "pb += rm-rm_hole\n",
    "\n",
    "pb.save_as_scad('SCAD/LeurBase.scad')\n",
    "\n",
    "\n",
    "\n",
    "# ---------------------------------------\n",
    "bottom_mount = cube([pb_l, pb_w, pb_h], center=True).forward(pb_w)\n",
    "top_mount = intersection()(pb, bottom_mount)\n",
    "top_mount.save_as_scad('SCAD/topMount.scad')\n"
   ]
  },
  {
   "cell_type": "code",
   "execution_count": 3,
   "metadata": {},
   "outputs": [
    {
     "data": {
      "text/plain": [
       "'c:/Users/greyl/PyExplore/OpenScad/PB_Mount/SCAD/base.scad'"
      ]
     },
     "execution_count": 3,
     "metadata": {},
     "output_type": "execute_result"
    }
   ],
   "source": [
    "# PCB base\n",
    "\n",
    "# pressure board base dimensions\n",
    "hh_w = 1.97*25.4\n",
    "hh_l = 3.8*25.4\n",
    "\n",
    "# create rectangle with tubes at 4 corners\n",
    "base_l = cube([hh_l+thick/2, screw_od*1.5, thick], center=True).up(thick/2)\n",
    "base_w = cube([hh_w+thick/2, screw_od*1.5, thick], center=True).up(thick/2).rotateZ(90)\n",
    "\n",
    "screw_tube = tube(5, screw_od, 10)\n",
    "\n",
    "base_l = base_l + screw_tube.right(hh_l/2) + screw_tube.left(hh_l/2)\n",
    "base_l = base_l.forward(hh_w/2)+base_l.back(hh_w/2)\n",
    "\n",
    "base_w = base_w.right(hh_l/2)+base_w.left(hh_l/2)\n",
    "\n",
    "base = base_l+base_w\n",
    "# create base with tubes\n",
    "mount_l = 20\n",
    "mount_w = 20\n",
    "mount = cube([mount_l, mount_w, thick], center=True).up(thick/2)\n",
    "mount = mount - cylinder(d=mount_od, h = hh)\n",
    "mounts = mount.forward(hh_w/2+mount_w/2-thick/2) + mount.back(hh_w/2+mount_w/2-thick/2)\n",
    "base = base + mounts\n",
    "base.save_as_scad('SCAD/base.scad')\n"
   ]
  }
 ],
 "metadata": {
  "kernelspec": {
   "display_name": "virtual_env",
   "language": "python",
   "name": "python3"
  },
  "language_info": {
   "codemirror_mode": {
    "name": "ipython",
    "version": 3
   },
   "file_extension": ".py",
   "mimetype": "text/x-python",
   "name": "python",
   "nbconvert_exporter": "python",
   "pygments_lexer": "ipython3",
   "version": "3.10.11"
  },
  "orig_nbformat": 4
 },
 "nbformat": 4,
 "nbformat_minor": 2
}
