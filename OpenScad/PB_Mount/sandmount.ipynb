{
 "cells": [
  {
   "cell_type": "code",
   "execution_count": 23,
   "metadata": {},
   "outputs": [],
   "source": [
    "from solid2 import (\n",
    "    circle,\n",
    "    cylinder,\n",
    "    translate,\n",
    "    cube,\n",
    "    rotate,\n",
    "    rotate_extrude,\n",
    "    square,\n",
    "    polygon,\n",
    "    intersection\n",
    ")\n"
   ]
  },
  {
   "cell_type": "code",
   "execution_count": 38,
   "metadata": {},
   "outputs": [
    {
     "data": {
      "text/plain": [
       "'c:/Users/greyl/PyExplore/OpenScad/PB_Mount/topMount.scad'"
      ]
     },
     "execution_count": 38,
     "metadata": {},
     "output_type": "execute_result"
    }
   ],
   "source": [
    "# creating pressure board bottom with passthrough holes\n",
    "\n",
    "leur_od = 8\n",
    "leur_spacing = 20\n",
    "pb_l = 75\n",
    "pb_w = 25\n",
    "pb_h = 20\n",
    "thick = 3\n",
    "\n",
    "\n",
    "pb = cube([pb_l, pb_w, pb_h], center=True).up(pb_h/2)\n",
    "\n",
    "# subtract quarter for attachment\n",
    "pbq = pb.up(pb_h/2).forward(pb_w/2)\n",
    "pb = pb-pbq\n",
    "\n",
    "hh = 30\n",
    "v_hole = cylinder(d=leur_od, h=hh)\n",
    "v_holes = v_hole+v_hole.right(leur_spacing)+v_hole.left(leur_spacing)\n",
    "\n",
    "h_holes = v_holes.rotateX(90).up(pb_h/2).forward(hh/2)\n",
    "\n",
    "b_hole = cylinder(d=leur_od+2, h=pb_h/2)\n",
    "b_holes = b_hole+b_hole.right(leur_spacing)+b_hole.left(leur_spacing)\n",
    "\n",
    "pb = pb - v_holes - h_holes - b_holes\n",
    "\n",
    "screw_hole = cylinder(d=4, h=hh).forward(pb_w/4)\n",
    "screw_holes = screw_hole.right(pb_l/2-5)+screw_hole.left(pb_l/2-5)\n",
    "pb -= screw_holes\n",
    "\n",
    "pb = pb.forward(pb_w/2)\n",
    "pb += pb.rotateZ(180)\n",
    "\n",
    "# include attachment \n",
    "rm_h = pb_h*3\n",
    "rm = cube([thick, pb_w, rm_h], center=True).up(rm_h/2).right(pb_l/2)\n",
    "rm_hole = cylinder(d=6, h=hh).rotateY(90).right(pb_l/3).up(rm_h/1.75)\n",
    "rm_hole += rm_hole.up(15)\n",
    "pb += rm-rm_hole\n",
    "pb.save_as_scad('base.scad')\n",
    "\n",
    "\n",
    "\n",
    "# ---------------------------------------\n",
    "bottom_mount = cube([pb_l, pb_w, pb_h], center=True).forward(pb_w)\n",
    "top_mount = intersection()(pb, bottom_mount)\n",
    "top_mount.save_as_scad('topMount.scad')\n"
   ]
  }
 ],
 "metadata": {
  "kernelspec": {
   "display_name": "virtual_env",
   "language": "python",
   "name": "python3"
  },
  "language_info": {
   "codemirror_mode": {
    "name": "ipython",
    "version": 3
   },
   "file_extension": ".py",
   "mimetype": "text/x-python",
   "name": "python",
   "nbconvert_exporter": "python",
   "pygments_lexer": "ipython3",
   "version": "3.10.11"
  },
  "orig_nbformat": 4
 },
 "nbformat": 4,
 "nbformat_minor": 2
}
