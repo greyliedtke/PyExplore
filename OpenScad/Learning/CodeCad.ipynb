{
 "cells": [
  {
   "cell_type": "code",
   "execution_count": 1,
   "metadata": {},
   "outputs": [],
   "source": [
    "from solid import *\n",
    "from solid import translate\n",
    "import viewscad\n",
    "import solid\n",
    "\n",
    "r = viewscad.Renderer()\n",
    "thick = 2"
   ]
  },
  {
   "cell_type": "code",
   "execution_count": 24,
   "metadata": {},
   "outputs": [
    {
     "data": {
      "application/vnd.jupyter.widget-view+json": {
       "model_id": "71d16f5eb92348dab84a3dbd9071e5e9",
       "version_major": 2,
       "version_minor": 0
      },
      "text/plain": [
       "VBox(children=(HTML(value=''), Renderer(background='#cccc88', background_opacity=0.0, camera=PerspectiveCamera…"
      ]
     },
     "metadata": {},
     "output_type": "display_data"
    }
   ],
   "source": [
    "# Creating bearing dowel holder... all dimensions in mm\n",
    "bearing_height = 7  # mm\n",
    "bearing_d = 23 \n",
    "thick = 2\n",
    "dowel_d = 7.5 # 1/4 in dowel\n",
    "mag_d = 3.5\n",
    "\n",
    "def tube(od, id, height):\n",
    "    outer_cylinder = cylinder(d=od, h=height)\n",
    "    innter_cylinder = cylinder(d=id, h=height)\n",
    "    tube_cyl = outer_cylinder-innter_cylinder\n",
    "    return tube_cyl\n",
    "\n",
    "\n",
    "# outer cylinder tube\n",
    "outer_od = bearing_d*2\n",
    "outer_id = outer_od-2*thick\n",
    "part_h = bearing_height+thick\n",
    "outer_cylinder_tube = tube(outer_od, outer_id, part_h) # outer cylinder part diameter\n",
    "\n",
    "# inner cylinder tube\n",
    "inner_od = bearing_d+2*thick\n",
    "inner_id = bearing_d\n",
    "inner_cylinder_tube = tube(inner_od, inner_id, part_h) # outer cylinder part diameter\n",
    "bearing_rim = tube(bearing_d, bearing_d-2*thick, thick) # outer cylinder part diameter\n",
    "\n",
    "# mag holes\n",
    "tube_space = (outer_id - inner_od)/2\n",
    "mid_tube_d = tube_space/2 + (inner_od/2)\n",
    "mag_tube = tube(tube_space+thick, mag_d, part_h) # outer cylinder part diameter\n",
    "mag_tube_1 = translate([0, mid_tube_d, 0])((mag_tube))\n",
    "mag_tube_2 = translate([0, -mid_tube_d, 0])((mag_tube))\n",
    "\n",
    "bearing_half = outer_cylinder_tube + inner_cylinder_tube + bearing_rim + mag_tube_1 + mag_tube_2\n",
    "\n",
    "# hole cutouts...\n",
    "dowel_hole = cylinder(d=dowel_d, h=outer_od, center=True)\n",
    "dowel_hole = rotate([90,0,0])(dowel_hole)\n",
    "dowel_hole_1 = translate([mid_tube_d, 0, part_h/2])((dowel_hole))\n",
    "dowel_hole_2 = translate([-mid_tube_d, 0, part_h/2])((dowel_hole))\n",
    "dowel_holes = dowel_hole_1 + dowel_hole_2\n",
    "bearing_half = bearing_half - dowel_holes\n",
    "\n",
    "r.render(bearing_half, file_header = '$fa=1;\\n $fs=0.5', outfile='bearing_half.stl')"
   ]
  },
  {
   "cell_type": "code",
   "execution_count": 45,
   "metadata": {},
   "outputs": [
    {
     "data": {
      "application/vnd.jupyter.widget-view+json": {
       "model_id": "e58d82584fae4d368dac165a2769d35a",
       "version_major": 2,
       "version_minor": 0
      },
      "text/plain": [
       "VBox(children=(HTML(value=''), Renderer(background='#cccc88', background_opacity=0.0, camera=PerspectiveCamera…"
      ]
     },
     "metadata": {},
     "output_type": "display_data"
    }
   ],
   "source": [
    "# creating dowel connectors...\n",
    "dowel_d = 7.5\n",
    "cnxn_len = 15\n",
    "screw_od = 3.5\n",
    "cnxn_size = dowel_d+thick\n",
    "cnxn_offset = cnxn_len/2 + cnxn_size/2\n",
    "base_cube = cube(cnxn_size, center=True)\n",
    "\n",
    "# straight\n",
    "cnxn_hole = rotate([90,0,0])(cylinder(d=screw_od, h=cnxn_len, center=True))\n",
    "cnxn = cube([cnxn_size, cnxn_size, cnxn_len], center=True) - cylinder(d=dowel_d, h=cnxn_len, center=True) - cnxn_hole\n",
    "cnxn_1 = rotate([90,0,0])(translate([0, 0, cnxn_offset])((cnxn)))\n",
    "cnxn_2 = rotate([90,0,0])(translate([0, 0, -cnxn_offset])((cnxn)))\n",
    "straight = base_cube+cnxn_1 +cnxn_2\n",
    "r.render(straight, outfile='straight_cnxn.stl')\n",
    "\n",
    "# custom_angle\n",
    "\n"
   ]
  },
  {
   "cell_type": "code",
   "execution_count": 10,
   "metadata": {},
   "outputs": [
    {
     "data": {
      "application/vnd.jupyter.widget-view+json": {
       "model_id": "66be4e5c15da46d98fccebfa3937d98b",
       "version_major": 2,
       "version_minor": 0
      },
      "text/plain": [
       "VBox(children=(HTML(value=''), Renderer(background='#cccc88', background_opacity=0.0, camera=PerspectiveCamera…"
      ]
     },
     "metadata": {},
     "output_type": "display_data"
    }
   ],
   "source": [
    "# create command hook thing\n",
    "wall_len = 15\n",
    "part_w = 5\n",
    "wall_mount = cube([wall_len, thick, part_w])\n",
    "\n",
    "arc_face = translate([wall_len-part_w,0,0])(square(part_w))\n",
    "arc = rotate_extrude(90)(arc_face)\n",
    "\n",
    "wall_arc = wall_mount+arc\n",
    "r.render(wall_arc, outfile='arc.stl')\n",
    "\n",
    "cylinder_r = 10\n"
   ]
  }
 ],
 "metadata": {
  "kernelspec": {
   "display_name": "Python 3.10.7 ('virtual_env': venv)",
   "language": "python",
   "name": "python3"
  },
  "language_info": {
   "codemirror_mode": {
    "name": "ipython",
    "version": 3
   },
   "file_extension": ".py",
   "mimetype": "text/x-python",
   "name": "python",
   "nbconvert_exporter": "python",
   "pygments_lexer": "ipython3",
   "version": "3.10.8"
  },
  "orig_nbformat": 4,
  "vscode": {
   "interpreter": {
    "hash": "7a791564c7636bd0312489df8a91f04e82f7a7839c41ea5b51e49c54c216cd7b"
   }
  }
 },
 "nbformat": 4,
 "nbformat_minor": 2
}
