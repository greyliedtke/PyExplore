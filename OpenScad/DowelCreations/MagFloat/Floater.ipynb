{
 "cells": [
  {
   "cell_type": "code",
   "execution_count": 1,
   "metadata": {},
   "outputs": [],
   "source": [
    "# import things\n",
    "\n",
    "from solid import (\n",
    "    circle,\n",
    "    cylinder,\n",
    "    translate,\n",
    "    cube,\n",
    "    rotate,\n",
    "    rotate_extrude,\n",
    "    square,\n",
    "    polygon,\n",
    ")\n",
    "import viewscad\n",
    "r = viewscad.Renderer()\n"
   ]
  },
  {
   "cell_type": "code",
   "execution_count": 2,
   "metadata": {},
   "outputs": [],
   "source": [
    "# define parameters and tube function\n",
    "thick = 1.5\n",
    "dowel_od = 7.5\n",
    "dowel_od_o = dowel_od + 2*thick\n",
    "dowel_slide_od = 8\n",
    "dowel_slide_od_o = dowel_slide_od + 2*thick\n",
    "screw_od = 3.5\n",
    "screw_od_o = screw_od + 2*thick\n",
    "mag_od = 10.5\n",
    "mag_od_o = mag_od + 2*thick\n",
    "mag_h = 2.5\n",
    "\n",
    "dd = 50 # dowel distance\n",
    "\n",
    "def tube(od, id, height): return cylinder(d=od, h=height) - cylinder(d=id, h=height)\n",
    "\n"
   ]
  },
  {
   "cell_type": "code",
   "execution_count": 6,
   "metadata": {},
   "outputs": [],
   "source": [
    "# create center tube for magnet\n",
    "base_h = 1.75*mag_h+.5\n",
    "mag_tube = tube(mag_od_o, mag_od, base_h)\n",
    "mag_ledge = tube(mag_od_o, mag_od-2*thick, .5)\n"
   ]
  },
  {
   "cell_type": "code",
   "execution_count": 13,
   "metadata": {},
   "outputs": [
    {
     "data": {
      "application/vnd.jupyter.widget-view+json": {
       "model_id": "59b49691a23f4006bcb2de6c4b77a397",
       "version_major": 2,
       "version_minor": 0
      },
      "text/plain": [
       "VBox(children=(HTML(value=''), Renderer(background='#cccc88', background_opacity=0.0, camera=PerspectiveCamera…"
      ]
     },
     "metadata": {},
     "output_type": "display_data"
    }
   ],
   "source": [
    "# base to keep dowels rigid and vertical\n",
    "d_tube = tube(dowel_od_o, dowel_od, base_h)\n",
    "screw = translate([0,25,base_h/2])(rotate([90,0,0])(cylinder(d=screw_od, h=50)))\n",
    "d_tube -= screw\n",
    "\n",
    "\n",
    "d_tube = translate([dd/2,0,0])(d_tube)\n",
    "\n",
    "base_arm = dd/2 - (dowel_od+mag_od)/2\n",
    "cnxn_arm = cube([base_arm, thick, base_h], center=True)\n",
    "cnxn_arm = translate([mag_od/2+base_arm/2,0,base_h/2])(cnxn_arm)\n",
    "\n",
    "sa1 = d_tube+cnxn_arm\n",
    "sa2 = rotate([0,0,180])(sa1)\n",
    "\n",
    "# creating ledge for coaster    # main cylinder and ledge\n",
    "part = mag_ledge+mag_tube+sa1+sa2\n",
    "\n",
    "r.render(\n",
    "        part,\n",
    "        file_header=\"$fa=.01;\\n $fs=0.01\",\n",
    "        outfile=f\"Base.stl\",\n",
    "    )"
   ]
  },
  {
   "cell_type": "code",
   "execution_count": 12,
   "metadata": {},
   "outputs": [
    {
     "data": {
      "application/vnd.jupyter.widget-view+json": {
       "model_id": "05a800c004ef4415934ebac82d7a8aa5",
       "version_major": 2,
       "version_minor": 0
      },
      "text/plain": [
       "VBox(children=(HTML(value=''), Renderer(background='#cccc88', background_opacity=0.0, camera=PerspectiveCamera…"
      ]
     },
     "metadata": {},
     "output_type": "display_data"
    }
   ],
   "source": [
    "slide_h = 3\n",
    "\n",
    "d_tube_slide = tube(dowel_slide_od_o, dowel_slide_od, slide_h)\n",
    "d_tube_slide = translate([dd/2,0,0])(d_tube_slide)\n",
    "\n",
    "base_arm = dd/2 - (dowel_slide_od+mag_od)/2\n",
    "cnxn_arm = cube([base_arm, thick, slide_h], center=True)\n",
    "cnxn_arm = translate([mag_od/2+base_arm/2,0,slide_h/2])(cnxn_arm)\n",
    "\n",
    "screw_m = tube(screw_od_o, screw_od, slide_h)\n",
    "screw_m = translate([dd/4,0,0])(screw_m)\n",
    "h = translate([dd/4,0,0])(cylinder(d=screw_od, h=50))\n",
    "\n",
    "\n",
    "sa1 = d_tube_slide+cnxn_arm+screw_m-h\n",
    "sa2 = rotate([0,0,180])(sa1)\n",
    "\n",
    "# creating ledge for coaster    # main cylinder and ledge\n",
    "part = mag_ledge+mag_tube+sa1+sa2\n",
    "\n",
    "r.render(\n",
    "        part,\n",
    "        file_header=\"$fa=.01;\\n $fs=0.01\",\n",
    "        outfile=f\"Slide.stl\",\n",
    "    )\n"
   ]
  }
 ],
 "metadata": {
  "kernelspec": {
   "display_name": "virtual_env",
   "language": "python",
   "name": "python3"
  },
  "language_info": {
   "codemirror_mode": {
    "name": "ipython",
    "version": 3
   },
   "file_extension": ".py",
   "mimetype": "text/x-python",
   "name": "python",
   "nbconvert_exporter": "python",
   "pygments_lexer": "ipython3",
   "version": "3.10.10"
  },
  "orig_nbformat": 4,
  "vscode": {
   "interpreter": {
    "hash": "7a791564c7636bd0312489df8a91f04e82f7a7839c41ea5b51e49c54c216cd7b"
   }
  }
 },
 "nbformat": 4,
 "nbformat_minor": 2
}
