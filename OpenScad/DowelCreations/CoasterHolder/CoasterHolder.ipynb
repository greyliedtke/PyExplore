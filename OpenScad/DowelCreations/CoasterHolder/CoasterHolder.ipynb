{
 "cells": [
  {
   "cell_type": "code",
   "execution_count": 15,
   "metadata": {},
   "outputs": [],
   "source": [
    "# import things\n",
    "\n",
    "from solid import (\n",
    "    circle,\n",
    "    cylinder,\n",
    "    translate,\n",
    "    cube,\n",
    "    rotate,\n",
    "    rotate_extrude,\n",
    "    square,\n",
    "    polygon,\n",
    ")\n",
    "import viewscad\n",
    "r = viewscad.Renderer()\n"
   ]
  },
  {
   "cell_type": "code",
   "execution_count": 16,
   "metadata": {},
   "outputs": [],
   "source": [
    "# define parameters and tube function\n",
    "thick = 2\n",
    "dowel_d = 7.36  # 13.5 1/2 in dowel best fit. 13 snug\n",
    "dd_o = dowel_d + 2*thick\n",
    "screw_od = 3.5\n",
    "main_circle = 104\n",
    "main_od = main_circle + 3*thick\n",
    "ledge = 10\n",
    "cylinder_height = screw_od*2\n",
    "height = 5\n",
    "# circle_holder('Coaster', 104, 20, 15) \n",
    "\n",
    "def tube(od, id, height): return cylinder(d=od, h=height) - cylinder(d=id, h=height)\n",
    "\n"
   ]
  },
  {
   "cell_type": "code",
   "execution_count": 17,
   "metadata": {},
   "outputs": [
    {
     "data": {
      "application/vnd.jupyter.widget-view+json": {
       "model_id": "184a4b320169484ba26a38185f07eae6",
       "version_major": 2,
       "version_minor": 0
      },
      "text/plain": [
       "VBox(children=(HTML(value=''), Renderer(background='#cccc88', background_opacity=0.0, camera=PerspectiveCamera…"
      ]
     },
     "metadata": {},
     "output_type": "display_data"
    }
   ],
   "source": [
    "# creating ledge for coaster    # main cylinder and ledge\n",
    "main_cylinder = tube(main_od, main_circle, height)\n",
    "base_cylinder = tube(main_circle, main_circle-ledge, 2)\n",
    "part = base_cylinder+main_cylinder\n",
    "\n",
    "# adding sideways tube to part\n",
    "dowel_attach = tube(dd_o, dowel_d, cylinder_height)\n",
    "screw = cylinder(d=screw_od, h=50)\n",
    "screw = rotate([90,0,0])(screw)\n",
    "screw = translate([0,0,cylinder_height/2])(screw)\n",
    "dowel_attach -= screw\n",
    "dowel_attach_1 = translate([(main_od+dd_o)/2-thick, 0, 0])(dowel_attach)\n",
    "dowel_attach_2 = translate([-(main_od+dd_o)/2+thick, 0, 0])(dowel_attach)\n",
    "part+=dowel_attach_1+dowel_attach_2\n",
    "r.render(\n",
    "        part,\n",
    "        file_header=\"$fa=.01;\\n $fs=0.01\",\n",
    "        outfile=f\"Dowel_Base.stl\",\n",
    "    )"
   ]
  },
  {
   "cell_type": "code",
   "execution_count": 19,
   "metadata": {},
   "outputs": [
    {
     "data": {
      "application/vnd.jupyter.widget-view+json": {
       "model_id": "093f9617856c4e688ca9f3f192c43e13",
       "version_major": 2,
       "version_minor": 0
      },
      "text/plain": [
       "VBox(children=(HTML(value=''), Renderer(background='#cccc88', background_opacity=0.0, camera=PerspectiveCamera…"
      ]
     },
     "metadata": {},
     "output_type": "display_data"
    }
   ],
   "source": [
    "# cross branch\n",
    "\n",
    "# 3 cylinders\n",
    "# dd_1 = translate([(main_circle+dd_o)/2-thick,0,0])(dowel_attach)\n",
    "# dd_2 = translate([-(main_circle+dd_o)/2+thick,0,0])(dowel_attach)\n",
    "dd_3 = translate([0,0,0])(dowel_attach)\n",
    "\n",
    "\n",
    "# arm that connects all\n",
    "cnxn_arm = cube([(main_circle+thick*2), thick, cylinder_height], center=True)\n",
    "cnxn_arm = translate([0,0,cylinder_height/2])(cnxn_arm)\n",
    "\n",
    "through_hole = cylinder(d=dowel_d, h=30)\n",
    "\n",
    "cross_arm = dowel_attach_1+dowel_attach_2+dd_3+cnxn_arm-through_hole\n",
    "\n",
    "r.render(\n",
    "    cross_arm,\n",
    "    file_header=\"$fa=.01;\\n $fs=0.01\",\n",
    "    outfile=\"cross_arm.stl\",\n",
    ")\n"
   ]
  }
 ],
 "metadata": {
  "kernelspec": {
   "display_name": "virtual_env",
   "language": "python",
   "name": "python3"
  },
  "language_info": {
   "codemirror_mode": {
    "name": "ipython",
    "version": 3
   },
   "file_extension": ".py",
   "mimetype": "text/x-python",
   "name": "python",
   "nbconvert_exporter": "python",
   "pygments_lexer": "ipython3",
   "version": "3.10.10"
  },
  "orig_nbformat": 4,
  "vscode": {
   "interpreter": {
    "hash": "7a791564c7636bd0312489df8a91f04e82f7a7839c41ea5b51e49c54c216cd7b"
   }
  }
 },
 "nbformat": 4,
 "nbformat_minor": 2
}
