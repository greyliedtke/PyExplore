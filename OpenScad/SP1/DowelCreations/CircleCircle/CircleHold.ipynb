{
 "cells": [
  {
   "cell_type": "code",
   "execution_count": 1,
   "metadata": {},
   "outputs": [],
   "source": [
    "# imports and setup\n",
    "\n",
    "from solid import (\n",
    "    circle,\n",
    "    cylinder,\n",
    "    translate,\n",
    "    cube,\n",
    "    rotate,\n",
    "    rotate_extrude,\n",
    "    square,\n",
    "    polygon,\n",
    ")\n",
    "import viewscad\n",
    "r = viewscad.Renderer()\n",
    "\n",
    "thick = 3\n",
    "dowel_d = 13.5  # 1/2 in dowel best fit. 13 snug\n",
    "screw_od = 3.5\n",
    "\n",
    "def tube(od, id, height): return cylinder(d=od, h=height) - cylinder(d=id, h=height)\n"
   ]
  },
  {
   "cell_type": "code",
   "execution_count": 8,
   "metadata": {},
   "outputs": [],
   "source": [
    "# variable setup\n",
    "fname, main_circle, ledge, extension, height = 'storage_cup', 87, 82, 10, 8\n",
    "# circle_holder('Coaster', 104, 20, 15) \n",
    "# circle_holder('Candle', 65, 20, 15) # TJ mini candle\n",
    "# circle_holder('BB_Juggle', 55, 50, 20, 10)"
   ]
  },
  {
   "cell_type": "code",
   "execution_count": 9,
   "metadata": {},
   "outputs": [
    {
     "data": {
      "application/vnd.jupyter.widget-view+json": {
       "model_id": "ed547c1a31de43d69dd78a36d771df50",
       "version_major": 2,
       "version_minor": 0
      },
      "text/plain": [
       "VBox(children=(HTML(value=''), Renderer(background='#cccc88', background_opacity=0.0, camera=PerspectiveCamera…"
      ]
     },
     "metadata": {},
     "output_type": "display_data"
    }
   ],
   "source": [
    "# main cylinder and ledge\n",
    "main_cylinder = tube(main_circle + 2*thick, main_circle, height)\n",
    "base_cylinder = tube(main_circle, ledge, thick)\n",
    "part = base_cylinder+main_cylinder\n",
    "\n",
    "# arm extension\n",
    "arm = cube([extension, thick, height])\n",
    "arm = translate([main_circle/2, -thick/2, 0])(arm)\n",
    "\n",
    "# cylinder to hang on dowel\n",
    "support_cylinder = tube(dowel_d + 2*thick, dowel_d, height)\n",
    "support_cylinder = translate([main_circle/2+extension+dowel_d/2, 0, 0])(support_cylinder)\n",
    "\n",
    "s1 = arm+support_cylinder\n",
    "part += s1\n",
    "\n",
    "# screw to hold support peice in place\n",
    "screw = cylinder(d=screw_od, h=50)\n",
    "screw = rotate([90,0,0])(screw)\n",
    "screw = translate([main_circle/2+extension+dowel_d/2,0,height/2])(screw)\n",
    "part -= screw\n",
    "\n",
    "# removing arc for snap on\n",
    "x_sect = rotate_extrude(angle = 90)(square(18))\n",
    "x_sect = rotate([0,0,45])(x_sect)\n",
    "x_sect = translate([main_circle/2+extension+dowel_d/2,0,0])(x_sect)\n",
    "part -= x_sect\n",
    "\n",
    "# creating part rendering\n",
    "r.render(\n",
    "        part,\n",
    "        file_header=\"$fa=.01;\\n $fs=0.01\",\n",
    "        outfile=f\"{fname}.stl\",\n",
    "    )\n"
   ]
  }
 ],
 "metadata": {
  "kernelspec": {
   "display_name": "virtual_env",
   "language": "python",
   "name": "python3"
  },
  "language_info": {
   "codemirror_mode": {
    "name": "ipython",
    "version": 3
   },
   "file_extension": ".py",
   "mimetype": "text/x-python",
   "name": "python",
   "nbconvert_exporter": "python",
   "pygments_lexer": "ipython3",
   "version": "3.10.10"
  },
  "orig_nbformat": 4,
  "vscode": {
   "interpreter": {
    "hash": "7a791564c7636bd0312489df8a91f04e82f7a7839c41ea5b51e49c54c216cd7b"
   }
  }
 },
 "nbformat": 4,
 "nbformat_minor": 2
}
