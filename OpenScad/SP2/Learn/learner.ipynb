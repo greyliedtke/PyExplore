{
 "cells": [
  {
   "cell_type": "code",
   "execution_count": 1,
   "metadata": {},
   "outputs": [
    {
     "data": {
      "text/plain": [
       "'c:/Users/greyl/VScodeProjects/PyExplore/PyExplore/OpenScad/SP2/Learn/solid_out.scad'"
      ]
     },
     "execution_count": 1,
     "metadata": {},
     "output_type": "execute_result"
    }
   ],
   "source": [
    "#! /usr/bin/env python\n",
    "\n",
    "from solid2 import *\n",
    "\n",
    "#register all the custom variables you want to use\n",
    "objects = CustomizerDropdownVariable(\"objects\", 4, [2, 4, 6])\n",
    "side = CustomizerSliderVariable(\"side\", 4)\n",
    "cube_pos = CustomizerSliderVariable(\"cube_pos\", [5, 5, 5])\n",
    "cube_size = CustomizerSliderVariable(\"cube_size\", 5)\n",
    "customizedText = CustomizerDropdownVariable(\"text\", \"customize me!\",\n",
    "                                            [\"customize me!\", \"Thank you!\"])\n",
    "\n",
    "#use scad_inline to use them\n",
    "scene = scad_inline(\"\"\"\n",
    "                    for (i = [1:objects]){\n",
    "                        translate([2*i*side,0,0]){\n",
    "                            cube(side);\n",
    "                        }\n",
    "                    }\n",
    "                    \"\"\")\n",
    "\n",
    "scene += translate(cube_pos) (\n",
    "            cube(cube_size * 2))\n",
    "\n",
    "scene += translate([0, -20, 0]) (\n",
    "            text(str(customizedText)))\n",
    "\n"
   ]
  },
  {
   "cell_type": "code",
   "execution_count": 3,
   "metadata": {},
   "outputs": [
    {
     "data": {
      "text/plain": [
       "'c:/Users/greyl/VScodeProjects/PyExplore/PyExplore/OpenScad/SP2/Learn/ok.scad'"
      ]
     },
     "execution_count": 3,
     "metadata": {},
     "output_type": "execute_result"
    }
   ],
   "source": [
    "import solid2 as ps\n",
    "\n",
    "sidel = ps.CustomizerDropdownVariable('sidel', 10, [0,10,20])\n",
    "p1 = ps.cube([sidel,10,10])\n",
    "p1.save_as_scad('ok.scad')"
   ]
  }
 ],
 "metadata": {
  "kernelspec": {
   "display_name": ".venv",
   "language": "python",
   "name": "python3"
  },
  "language_info": {
   "codemirror_mode": {
    "name": "ipython",
    "version": 3
   },
   "file_extension": ".py",
   "mimetype": "text/x-python",
   "name": "python",
   "nbconvert_exporter": "python",
   "pygments_lexer": "ipython3",
   "version": "3.10.7"
  },
  "orig_nbformat": 4
 },
 "nbformat": 4,
 "nbformat_minor": 2
}
