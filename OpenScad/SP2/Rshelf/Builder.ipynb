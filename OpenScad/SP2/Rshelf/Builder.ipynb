{
 "cells": [
  {
   "cell_type": "code",
   "execution_count": 4,
   "metadata": {},
   "outputs": [],
   "source": [
    "import solid2 as sp\n",
    "import dim as d\n",
    "\n",
    "def tube(od, id, h): return sp.cylinder(d=od, h=h).up(h/2) - sp.cylinder(d=od, h=2*h).up(h/2)"
   ]
  },
  {
   "cell_type": "code",
   "execution_count": 3,
   "metadata": {},
   "outputs": [],
   "source": [
    "# bottom cylinder to support bearing\n",
    "p_bc = tube(d.d_od+d.a_thick, d.d_od, 40)\n",
    "# screw hole\n",
    "# butt up to below bearing\n",
    "\n"
   ]
  },
  {
   "cell_type": "code",
   "execution_count": null,
   "metadata": {},
   "outputs": [],
   "source": [
    "# top support for on bearing and down to platform\n",
    "p_ts = tube(d.b_od+d.a_thick, d.b_odr, 3).up(3/2)\n",
    "\n",
    "ttl = 40\n",
    "mate_d = 12\n",
    "mate = \n",
    "p_tt = tube(d.b_od, d.b_odr+d.a_thick, ttl).up(ttl/2)\n",
    "p_tb = tube(d.b_od+d.a_thick+10, d.b_od+d.a_thick, d.a_thick).up(d.a_thick/2)\n",
    "# holes for screws"
   ]
  },
  {
   "cell_type": "code",
   "execution_count": null,
   "metadata": {},
   "outputs": [],
   "source": [
    "# coaster support pieces\n",
    "p_t_b = tube(mate_d+d.s_od, d.b_od, d.a_thick)\n",
    "p_t_id = tube()"
   ]
  }
 ],
 "metadata": {
  "kernelspec": {
   "display_name": ".venv",
   "language": "python",
   "name": "python3"
  },
  "language_info": {
   "codemirror_mode": {
    "name": "ipython",
    "version": 3
   },
   "file_extension": ".py",
   "mimetype": "text/x-python",
   "name": "python",
   "nbconvert_exporter": "python",
   "pygments_lexer": "ipython3",
   "version": "3.10.6"
  },
  "orig_nbformat": 4
 },
 "nbformat": 4,
 "nbformat_minor": 2
}
