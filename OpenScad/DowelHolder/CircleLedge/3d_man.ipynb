{
 "cells": [
  {
   "cell_type": "code",
   "execution_count": 42,
   "metadata": {},
   "outputs": [],
   "source": [
    "# import things\n",
    "\n",
    "from solid import (\n",
    "    circle,\n",
    "    cylinder,\n",
    "    translate,\n",
    "    cube,\n",
    "    rotate,\n",
    "    rotate_extrude,\n",
    "    square,\n",
    "    polygon,\n",
    ")\n",
    "import viewscad\n",
    "r = viewscad.Renderer()\n"
   ]
  },
  {
   "cell_type": "code",
   "execution_count": 43,
   "metadata": {},
   "outputs": [],
   "source": [
    "def create_view(part, f_name=None):\n",
    "    obj = r.render(\n",
    "        part,\n",
    "        file_header=\"$fa=.01;\\n $fs=0.01\",\n",
    "        # outfile=f\"OpenScad/DowelHolder/CircleLedge/{f_name}.stl\",\n",
    "    )\n",
    "    obj\n"
   ]
  },
  {
   "cell_type": "code",
   "execution_count": 44,
   "metadata": {},
   "outputs": [],
   "source": [
    "# define parameters and tube function\n",
    "thick = 2\n",
    "dowel_d = 13.5  # 1/2 in dowel best fit. 13 snug\n",
    "dd_o = dowel_d + 2*thick\n",
    "screw_od = 3.5\n",
    "main_circle = 104\n",
    "main_od = main_circle + 3*thick\n",
    "ledge = 10\n",
    "cylinder_height = dd_o\n",
    "height = 5\n",
    "# circle_holder('Coaster', 104, 20, 15) \n",
    "\n",
    "def tube(od, id, height): return cylinder(d=od, h=height) - cylinder(d=id, h=height)\n",
    "\n"
   ]
  },
  {
   "cell_type": "code",
   "execution_count": 45,
   "metadata": {},
   "outputs": [],
   "source": [
    "# creating ledge for coaster    # main cylinder and ledge\n",
    "main_cylinder = tube(main_od, main_circle, height)\n",
    "base_cylinder = tube(main_circle, main_circle-ledge, 2)\n",
    "part = base_cylinder+main_cylinder\n"
   ]
  },
  {
   "cell_type": "code",
   "execution_count": 46,
   "metadata": {},
   "outputs": [
    {
     "data": {
      "application/vnd.jupyter.widget-view+json": {
       "model_id": "709347a4e55d4505a46baf594fe901f5",
       "version_major": 2,
       "version_minor": 0
      },
      "text/plain": [
       "VBox(children=(HTML(value=''), Renderer(background='#cccc88', background_opacity=0.0, camera=PerspectiveCamera…"
      ]
     },
     "metadata": {},
     "output_type": "display_data"
    }
   ],
   "source": [
    "# adding sideways tube to part\n",
    "dowel_attach = tube(dd_o, dowel_d, cylinder_height)\n",
    "screw = cylinder(d=screw_od, h=50)\n",
    "screw = rotate([90,0,0])(screw)\n",
    "screw = translate([0,0,cylinder_height/3])(screw)\n",
    "screw_2 = translate([0,0,cylinder_height/3])(screw)\n",
    "dowel_attach -= (screw+screw_2)\n",
    "dowel_attach_1 = translate([(main_circle+dd_o)/2, 0, 0])(dowel_attach)\n",
    "dowel_attach_2 = translate([-(main_circle+dd_o)/2, 0, 0])(dowel_attach)\n",
    "part+=dowel_attach_1+dowel_attach_2\n",
    "r.render(\n",
    "        part,\n",
    "        file_header=\"$fa=.01;\\n $fs=0.01\",\n",
    "        outfile=f\"Dowel_Base.stl\",\n",
    "    )"
   ]
  },
  {
   "cell_type": "code",
   "execution_count": 47,
   "metadata": {},
   "outputs": [
    {
     "data": {
      "application/vnd.jupyter.widget-view+json": {
       "model_id": "96619506775d452687e601b5408e9ef0",
       "version_major": 2,
       "version_minor": 0
      },
      "text/plain": [
       "VBox(children=(HTML(value=''), Renderer(background='#cccc88', background_opacity=0.0, camera=PerspectiveCamera…"
      ]
     },
     "metadata": {},
     "output_type": "display_data"
    }
   ],
   "source": [
    "# including right angle connections\n",
    "\n",
    "t1, t2, t3 = dowel_attach, dowel_attach, dowel_attach\n",
    "t2 = translate([dowel_d/2, 0, dd_o/2])(rotate([0, 90, 0])(t2))\n",
    "t3 = rotate([0, 0, 90])(t2)\n",
    "\n",
    "ra = t1+t2+t3\n",
    "\n",
    "r.render(\n",
    "    ra,\n",
    "    file_header=\"$fa=.01;\\n $fs=0.01\",\n",
    "    outfile=\"RA.stl\",\n",
    ")\n"
   ]
  },
  {
   "cell_type": "code",
   "execution_count": 48,
   "metadata": {},
   "outputs": [
    {
     "data": {
      "application/vnd.jupyter.widget-view+json": {
       "model_id": "508c815349d046b19380582aba85d7e2",
       "version_major": 2,
       "version_minor": 0
      },
      "text/plain": [
       "VBox(children=(HTML(value=''), Renderer(background='#cccc88', background_opacity=0.0, camera=PerspectiveCamera…"
      ]
     },
     "metadata": {},
     "output_type": "display_data"
    }
   ],
   "source": [
    "# orthogonal dowel attachment\n",
    "ortho_1 = dowel_attach\n",
    "ortho_2 = translate([-cylinder_height/2, dd_o-thick, cylinder_height/2])(rotate([0, 90, 0])(ortho_1))\n",
    "ortho = ortho_1+ortho_2\n",
    "r.render(\n",
    "    ortho,\n",
    "    file_header=\"$fa=.01;\\n $fs=0.01\",\n",
    "    outfile=\"Ortho.stl\",\n",
    ")"
   ]
  }
 ],
 "metadata": {
  "kernelspec": {
   "display_name": "virtual_env",
   "language": "python",
   "name": "python3"
  },
  "language_info": {
   "codemirror_mode": {
    "name": "ipython",
    "version": 3
   },
   "file_extension": ".py",
   "mimetype": "text/x-python",
   "name": "python",
   "nbconvert_exporter": "python",
   "pygments_lexer": "ipython3",
   "version": "3.10.9"
  },
  "orig_nbformat": 4,
  "vscode": {
   "interpreter": {
    "hash": "7a791564c7636bd0312489df8a91f04e82f7a7839c41ea5b51e49c54c216cd7b"
   }
  }
 },
 "nbformat": 4,
 "nbformat_minor": 2
}
