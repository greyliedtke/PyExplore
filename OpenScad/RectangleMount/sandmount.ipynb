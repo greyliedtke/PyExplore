{
 "cells": [
  {
   "cell_type": "code",
   "execution_count": 16,
   "metadata": {},
   "outputs": [],
   "source": [
    "from solid2 import (\n",
    "    circle,\n",
    "    cylinder,\n",
    "    translate,\n",
    "    cube,\n",
    "    rotate,\n",
    "    rotate_extrude,\n",
    "    square,\n",
    "    polygon,\n",
    ")\n"
   ]
  },
  {
   "cell_type": "code",
   "execution_count": 9,
   "metadata": {},
   "outputs": [
    {
     "data": {
      "text/plain": [
       "'c:/Users/greyl/PyExplore/OpenScad/RectangleMount/base.scad'"
      ]
     },
     "execution_count": 9,
     "metadata": {},
     "output_type": "execute_result"
    }
   ],
   "source": [
    "def tube(od, id, height): return cylinder(d=od, h=height) - cylinder(d=id, h=height)\n",
    "\n",
    "screw_od = 4\n",
    "thick = 2\n",
    "\n",
    "hh_w = 1.97*25.4\n",
    "hh_l = 3.8*25.4\n",
    "\n",
    "hh_base = cube([hh_l+screw_od*2, screw_od*1.5, thick], center=True).up(thick/2)\n",
    "screw_tube = tube(6, 3.5, 10)\n",
    "\n",
    "hh_base = hh_base + screw_tube.right(hh_l/2) + screw_tube.left(hh_l/2)\n",
    "\n",
    "hh_base_1 = hh_base.forward(hh_w/2)\n",
    "hh_base_2 = hh_base.back(hh_w/2)\n",
    "\n",
    "hh = hh_base_1+hh_base_2\n",
    "\n",
    "mount_od = 6\n",
    "mount_l = 75\n",
    "mount_fix = cube([mount_od*1.5, mount_l+mount_od*2, thick], center=True).up(thick/2)\n",
    "mount_h = cylinder(d=mount_od, h=10)\n",
    "mount_fix = mount_fix - mount_h.back(mount_l/2) - mount_h.forward(mount_l/2)\n",
    "\n",
    "rmount = hh+mount_fix\n",
    "\n",
    "rmount.save_as_scad('base.scad')\n",
    "\n"
   ]
  },
  {
   "cell_type": "code",
   "execution_count": 10,
   "metadata": {},
   "outputs": [
    {
     "data": {
      "text/plain": [
       "'c:/Users/greyl/PyExplore/OpenScad/RectangleMount/servoMount.scad'"
      ]
     },
     "execution_count": 10,
     "metadata": {},
     "output_type": "execute_result"
    }
   ],
   "source": [
    "servohole_l = 28\n",
    "screw_mount_l = 40\n",
    "servo_base = cube([screw_mount_l+screw_od*2, screw_od*1.5, thick], center=True).up(thick/2)\n",
    "\n",
    "servo_base = servo_base-cylinder(d=2, h=10).right(servohole_l/2)-cylinder(d=2, h=10).left(servohole_l/2)\n",
    "\n",
    "servo_base = servo_base-cylinder(d=screw_od, h=10).right(screw_mount_l/2)-cylinder(d=screw_od, h=10).left(screw_mount_l/2)\n",
    "\n",
    "servo_base.save_as_scad('servoMount.scad')\n",
    "\n"
   ]
  },
  {
   "cell_type": "code",
   "execution_count": 21,
   "metadata": {},
   "outputs": [
    {
     "data": {
      "text/plain": [
       "'c:/Users/greyl/PyExplore/OpenScad/RectangleMount/pico.scad'"
      ]
     },
     "execution_count": 21,
     "metadata": {},
     "output_type": "execute_result"
    }
   ],
   "source": [
    "# PICO MOUNT\n",
    "\n",
    "pico_screw = 2.4\n",
    "thick = 2\n",
    "\n",
    "pico_w = 11.4\n",
    "pico_l = 48\n",
    "\n",
    "# create rectangle with tubes at 4 corners\n",
    "base_l = cube([pico_l+thick/2, pico_screw*1.5, thick], center=True).up(thick/2)\n",
    "base_w = cube([pico_w+thick/2, pico_screw*1.5, thick], center=True).up(thick/2).rotateZ(90)\n",
    "\n",
    "screw_tube = tube(5, pico_screw, 10)\n",
    "\n",
    "base_l = base_l + screw_tube.left(pico_l/2) + screw_tube.right(pico_l/2)\n",
    "base_l = base_l.forward(pico_w/2)+base_l.back(pico_w/2)\n",
    "\n",
    "base_w = base_w.left(pico_l/2)+base_w.right(pico_l/2)\n",
    "\n",
    "base = base_l+base_w\n",
    "\n",
    "mount_od = 4\n",
    "mount_l = 30\n",
    "mount_fix = cube([mount_od*1.5, mount_l+mount_od*2, thick], center=True).up(thick/2)\n",
    "mount_h = cylinder(d=mount_od, h=10)\n",
    "mount_fix = mount_fix - mount_h.back(mount_l/2) - mount_h.forward(mount_l/2)\n",
    "\n",
    "rmount = hh+mount_fix\n",
    "\n",
    "base.save_as_scad('pico.scad')"
   ]
  }
 ],
 "metadata": {
  "kernelspec": {
   "display_name": "virtual_env",
   "language": "python",
   "name": "python3"
  },
  "language_info": {
   "codemirror_mode": {
    "name": "ipython",
    "version": 3
   },
   "file_extension": ".py",
   "mimetype": "text/x-python",
   "name": "python",
   "nbconvert_exporter": "python",
   "pygments_lexer": "ipython3",
   "version": "3.10.11"
  },
  "orig_nbformat": 4
 },
 "nbformat": 4,
 "nbformat_minor": 2
}
