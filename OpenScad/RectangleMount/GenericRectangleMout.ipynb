{
 "cells": [
  {
   "cell_type": "code",
   "execution_count": 16,
   "metadata": {},
   "outputs": [],
   "source": [
    "from solid2 import (\n",
    "    circle,\n",
    "    cylinder,\n",
    "    translate,\n",
    "    cube,\n",
    "    rotate,\n",
    "    rotate_extrude,\n",
    "    square,\n",
    "    polygon,\n",
    ")\n"
   ]
  },
  {
   "cell_type": "code",
   "execution_count": 21,
   "metadata": {},
   "outputs": [
    {
     "data": {
      "text/plain": [
       "'c:/Users/greyl/PyExplore/OpenScad/RectangleMount/pico.scad'"
      ]
     },
     "execution_count": 21,
     "metadata": {},
     "output_type": "execute_result"
    }
   ],
   "source": [
    "# PICO MOUNT\n",
    "\n",
    "pico_screw = 2.4\n",
    "thick = 2\n",
    "\n",
    "pico_w = 11.4\n",
    "pico_l = 48\n",
    "\n",
    "# create rectangle with tubes at 4 corners\n",
    "base_l = cube([pico_l+thick/2, pico_screw*1.5, thick], center=True).up(thick/2)\n",
    "base_w = cube([pico_w+thick/2, pico_screw*1.5, thick], center=True).up(thick/2).rotateZ(90)\n",
    "\n",
    "screw_tube = tube(5, pico_screw, 10)\n",
    "\n",
    "base_l = base_l + screw_tube.left(pico_l/2) + screw_tube.right(pico_l/2)\n",
    "base_l = base_l.forward(pico_w/2)+base_l.back(pico_w/2)\n",
    "\n",
    "base_w = base_w.left(pico_l/2)+base_w.right(pico_l/2)\n",
    "\n",
    "base = base_l+base_w\n",
    "\n",
    "mount_od = 4\n",
    "mount_l = 30\n",
    "mount_fix = cube([mount_od*1.5, mount_l+mount_od*2, thick], center=True).up(thick/2)\n",
    "mount_h = cylinder(d=mount_od, h=10)\n",
    "mount_fix = mount_fix - mount_h.back(mount_l/2) - mount_h.forward(mount_l/2)\n",
    "\n",
    "rmount = hh+mount_fix\n",
    "\n",
    "base.save_as_scad('pico.scad')"
   ]
  },
  {
   "cell_type": "code",
   "execution_count": 26,
   "metadata": {},
   "outputs": [
    {
     "data": {
      "text/plain": [
       "'c:/Users/greyl/PyExplore/OpenScad/RectangleMount/servo_mount.scad'"
      ]
     },
     "execution_count": 26,
     "metadata": {},
     "output_type": "execute_result"
    }
   ],
   "source": [
    "servo_l = 23\n",
    "servo_w = 12\n",
    "servo_hl = 27.5\n",
    "m2 = 2.5\n",
    "screw_od = 4\n",
    "\n",
    "servo_rect = cube([servo_l, servo_w, thick], center=True).up(thick/2)\n",
    "servo_h = cylinder(d=m2, h=10)\n",
    "servo_h = servo_h.right(servo_hl/2) + servo_h.left(servo_hl/2)\n",
    "servo_cut = (servo_rect+servo_h).forward(servo_w/2)\n",
    "\n",
    "mount_l = 35\n",
    "mount_w = 25\n",
    "mount_b = cube([mount_l, mount_w, thick], center=True).up(thick/2).forward(mount_w/2)\n",
    "\n",
    "mount_h = cylinder(d=screw_od, h=10).forward(mount_w-1.5*screw_od)\n",
    "mount_h = mount_h.right(servo_hl/2) + mount_h.left(servo_hl/2)\n",
    "\n",
    "servo_mount = mount_b - servo_cut - mount_h\n",
    "servo_mount.save_as_scad('servo_mount.scad')\n"
   ]
  }
 ],
 "metadata": {
  "kernelspec": {
   "display_name": "virtual_env",
   "language": "python",
   "name": "python3"
  },
  "language_info": {
   "codemirror_mode": {
    "name": "ipython",
    "version": 3
   },
   "file_extension": ".py",
   "mimetype": "text/x-python",
   "name": "python",
   "nbconvert_exporter": "python",
   "pygments_lexer": "ipython3",
   "version": "3.10.11"
  },
  "orig_nbformat": 4
 },
 "nbformat": 4,
 "nbformat_minor": 2
}
