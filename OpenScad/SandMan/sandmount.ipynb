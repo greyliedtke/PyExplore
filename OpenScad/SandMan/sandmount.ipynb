{
 "cells": [
  {
   "cell_type": "code",
   "execution_count": 3,
   "metadata": {},
   "outputs": [],
   "source": [
    "from solid2 import (\n",
    "    circle,\n",
    "    cylinder,\n",
    "    translate,\n",
    "    cube,\n",
    "    rotate,\n",
    "    rotate_extrude,\n",
    "    square,\n",
    "    polygon,\n",
    ")\n",
    "import viewscad\n",
    "r = viewscad.Renderer()"
   ]
  },
  {
   "cell_type": "code",
   "execution_count": 5,
   "metadata": {},
   "outputs": [
    {
     "data": {
      "text/plain": [
       "'c:/Users/greyl/PyExplore/OpenScad/SandMan/grey.scad'"
      ]
     },
     "execution_count": 5,
     "metadata": {},
     "output_type": "execute_result"
    }
   ],
   "source": [
    "d_od = 7.5\n",
    "screw_od = 3.5\n",
    "thick = 3\n",
    "\n",
    "base = cylinder(d=35, h=thick)\n",
    "\n",
    "d_rect = cube([15, 15, 20], center=True)\n",
    "d_hole = cylinder(d=d_od, h=40).translateZ(-20)\n",
    "dowel_mount = d_rect-d_hole\n",
    "dowel_mount = dowel_mount.rotateY(90)\n",
    "dowel_mount -= cylinder(d=screw_od, h=10).translateX(-4)\n",
    "dowel_mount -= cylinder(d=screw_od, h=10).translateX(4)\n",
    "dowel_mount = dowel_mount.translateX(25).translateZ(15/2)\n",
    "d2m = dowel_mount.rotateZ(120)\n",
    "d3m = dowel_mount.rotateZ(240)\n",
    "dms = dowel_mount+d2m+d3m\n",
    "\n",
    "part = base+dms\n",
    "part.save_as_scad('grey.scad')\n",
    "\n"
   ]
  },
  {
   "cell_type": "code",
   "execution_count": 13,
   "metadata": {},
   "outputs": [
    {
     "data": {
      "text/plain": [
       "'c:/Users/greyl/PyExplore/OpenScad/SandMan/sandm.scad'"
      ]
     },
     "execution_count": 13,
     "metadata": {},
     "output_type": "execute_result"
    }
   ],
   "source": [
    "sand_od = 12*25.4\n",
    "height = 25\n",
    "\n",
    "arc = square([10, height], center=True).right(sand_od/2).rotate_extrude(30).up(height/2).right(-sand_od/2)\n",
    "arc += square([10, thick], center=True).right(sand_od/2-10).rotate_extrude(30).up(height/2).right(-sand_od/2)\n",
    "\n",
    "\n",
    "d_rect = cube([15, 15, 20], center=True)\n",
    "d_hole = cylinder(d=d_od, h=40).translateZ(-20)\n",
    "dowel_mount = d_rect-d_hole\n",
    "dowel_mount = dowel_mount.rotateY(90)\n",
    "dowel_mount -= cylinder(d=screw_od, h=10).translateX(-4)\n",
    "dowel_mount -= cylinder(d=screw_od, h=10).translateX(4)\n",
    "dowel_mount = dowel_mount.translateX(-25).translateZ(15/2)\n",
    "\n",
    "part = arc+dowel_mount\n",
    "part.save_as_scad('sandm.scad')"
   ]
  }
 ],
 "metadata": {
  "kernelspec": {
   "display_name": "virtual_env",
   "language": "python",
   "name": "python3"
  },
  "language_info": {
   "codemirror_mode": {
    "name": "ipython",
    "version": 3
   },
   "file_extension": ".py",
   "mimetype": "text/x-python",
   "name": "python",
   "nbconvert_exporter": "python",
   "pygments_lexer": "ipython3",
   "version": "3.10.11"
  },
  "orig_nbformat": 4
 },
 "nbformat": 4,
 "nbformat_minor": 2
}
