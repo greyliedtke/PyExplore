{
 "cells": [
  {
   "cell_type": "code",
   "execution_count": 1,
   "metadata": {},
   "outputs": [],
   "source": [
    "from solid import (\n",
    "    circle,\n",
    "    cylinder,\n",
    "    translate,\n",
    "    cube,\n",
    "    rotate,\n",
    "    rotate_extrude,\n",
    "    square,\n",
    "    polygon,\n",
    "    sphere, \n",
    "    intersection\n",
    ")\n",
    "import viewscad\n",
    "r = viewscad.Renderer()"
   ]
  },
  {
   "cell_type": "code",
   "execution_count": 2,
   "metadata": {},
   "outputs": [],
   "source": [
    "# define parameters and tube function\n",
    "height = 10\n",
    "thick = 3\n",
    "dowel_od = 13.5\n",
    "dowel_od_o = dowel_od + 2*thick\n",
    "screw_od = 3.5\n",
    "arm_len = 20\n",
    "\n",
    "def tube(od, id, height): return cylinder(d=od, h=height) - cylinder(d=id, h=height)"
   ]
  },
  {
   "cell_type": "code",
   "execution_count": 12,
   "metadata": {},
   "outputs": [
    {
     "data": {
      "application/vnd.jupyter.widget-view+json": {
       "model_id": "fdee545c4ea34c7f9c4fee8810610ac2",
       "version_major": 2,
       "version_minor": 0
      },
      "text/plain": [
       "VBox(children=(HTML(value=''), Renderer(background='#cccc88', background_opacity=0.0, camera=PerspectiveCamera…"
      ]
     },
     "metadata": {},
     "output_type": "display_data"
    }
   ],
   "source": [
    "\n",
    "\n",
    "# Main dowel snap on arc ---------------------------------------------------\n",
    "support_cylinder = tube(dowel_od_o, dowel_od, height)\n",
    "\n",
    "# screw to hold support piece in place\n",
    "screw = cylinder(d=screw_od, h=50)\n",
    "screw = rotate([90,0,0])(screw)\n",
    "screw = translate([0,0,height/2])(screw)\n",
    "part = support_cylinder - screw\n",
    "\n",
    "# removing arc for snap on\n",
    "x_sect = rotate_extrude(angle = 90)(square(18))\n",
    "x_sect = rotate([0,0,45])(x_sect)\n",
    "part -= x_sect\n",
    "\n",
    "# support for cord -------------------------------------------------------------------------\n",
    "cord_cube = cube([arm_len, thick, height])\n",
    "cord_cube = translate([dowel_od/2,-dowel_od/3,0])(cord_cube)\n",
    "cord_cube += translate([0,dowel_od/2,0])(cord_cube)\n",
    "part += cord_cube\n",
    "\n",
    "\n",
    "# command strip base -------------------------------------------------------------------------\n",
    "command_height, command_width = 50, 20\n",
    "command_base = cube([thick, command_width, command_height], center=True)\n",
    "command_base -= translate([thick,0,0])(rotate([0,-90,0])(cylinder(d=screw_od, h=50)))   # screw hole 1\n",
    "command_base -= translate([thick,0,command_height/4])(rotate([0,-90,0])(cylinder(d=screw_od, h=50)))   # screw hole 2\n",
    "\n",
    "\n",
    "command_base = translate([dowel_od/2+arm_len,0,command_height/2])(command_base)\n",
    "\n",
    "part += command_base\n",
    "\n",
    "stl_file = r.render(\n",
    "    part,\n",
    "    file_header=\"$fa=.01;\\n $fs=0.01\",\n",
    "    outfile=f\"CommandDowel.stl\",\n",
    ")"
   ]
  }
 ],
 "metadata": {
  "kernelspec": {
   "display_name": "virtual_env",
   "language": "python",
   "name": "python3"
  },
  "language_info": {
   "codemirror_mode": {
    "name": "ipython",
    "version": 3
   },
   "file_extension": ".py",
   "mimetype": "text/x-python",
   "name": "python",
   "nbconvert_exporter": "python",
   "pygments_lexer": "ipython3",
   "version": "3.10.10"
  },
  "orig_nbformat": 4,
  "vscode": {
   "interpreter": {
    "hash": "7a791564c7636bd0312489df8a91f04e82f7a7839c41ea5b51e49c54c216cd7b"
   }
  }
 },
 "nbformat": 4,
 "nbformat_minor": 2
}
