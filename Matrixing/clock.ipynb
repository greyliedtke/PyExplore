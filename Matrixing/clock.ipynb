{
 "cells": [
  {
   "cell_type": "code",
   "execution_count": 25,
   "metadata": {},
   "outputs": [
    {
     "name": "stdout",
     "output_type": "stream",
     "text": [
      "10:50:09\n"
     ]
    }
   ],
   "source": [
    "from datetime import datetime\n",
    "\n",
    "tn = datetime.now().strftime(\"%I:%M:%S\")\n",
    "print(tn)"
   ]
  },
  {
   "cell_type": "code",
   "execution_count": 26,
   "metadata": {},
   "outputs": [
    {
     "name": "stdout",
     "output_type": "stream",
     "text": [
      "10 17 4\n"
     ]
    }
   ],
   "source": [
    "# turning time to pixel representation\n",
    "\n",
    "r_numbs = [8, 16, 24]\n",
    "\n",
    "def time_to_pix(time_format):\n",
    "    t_split = time_format.split(\":\")\n",
    "    p_h = round((int(t_split[0])/12)*r_numbs[0])\n",
    "    p_m = round((int(t_split[1])/60)*r_numbs[1])\n",
    "    p_s = round((int(t_split[2])/60)*r_numbs[2])\n",
    "    print(p_h, p_m, p_s)\n",
    "\n",
    "time_to_pix(tn)\n"
   ]
  },
  {
   "cell_type": "code",
   "execution_count": 33,
   "metadata": {},
   "outputs": [],
   "source": [
    "sp = [list(range(28)), list(range(29, 48)), list(range(49, 60))]# , list(range(r_numbs[0]))+r_numbs[2]+2+r_numbs[1]]\n",
    "\n",
    "led_strip = []\n",
    "\n",
    "def send_led_strip(clock_pixels):\n",
    "    for i, r in enumerate(r_numbs):\n",
    "        for p in range(r):\n",
    "            if p <= clock_pixels[i]:\n",
    "                led_strip[sp[i][p]] = (255, 0, 0)\n",
    "            else:\n",
    "                led_strip[sp[i][p]] = (0,0,0)"
   ]
  },
  {
   "cell_type": "code",
   "execution_count": 12,
   "metadata": {},
   "outputs": [
    {
     "name": "stdout",
     "output_type": "stream",
     "text": [
      "11:13:35\n",
      "11 3 5\n"
     ]
    }
   ],
   "source": [
    "from datetime import datetime\n",
    "\n",
    "tn = datetime.now().strftime(\"%H:%M:%S\")\n",
    "print(tn)\n",
    "\n",
    "# put it all on one clock...\n",
    "r_numbs = [24, 16, 8]\n",
    "c_sec = [255, 0, 0]\n",
    "c_min = [0, 255, 0]\n",
    "c_hour = [0, 0, 255]\n",
    "\n",
    "def time_to_pix(time_format):\n",
    "    t_split = time_format.split(\":\")\n",
    "    p_h = round((int(t_split[0])/24)*r_numbs[0])\n",
    "    p_m = round((int(t_split[1])/60)*r_numbs[1])\n",
    "    p_s = round((int(t_split[2])/60)*r_numbs[2])\n",
    "    print(p_h, p_m, p_s)\n",
    "\n",
    "time_to_pix(tn)\n",
    "\n",
    "\n"
   ]
  },
  {
   "cell_type": "code",
   "execution_count": 1,
   "metadata": {},
   "outputs": [
    {
     "name": "stdout",
     "output_type": "stream",
     "text": [
      "240\n",
      "239\n",
      "208\n",
      "207\n",
      "176\n",
      "175\n",
      "241\n",
      "174\n",
      "242\n",
      "173\n",
      "243\n",
      "172\n",
      "244\n",
      "171\n",
      "245\n",
      "170\n",
      "246\n",
      "233\n",
      "214\n",
      "201\n",
      "182\n",
      "169\n"
     ]
    }
   ],
   "source": [
    "# defining parts of matrix...\n",
    "\n",
    "from pclock import digits, segments\n",
    "\n",
    "def time_send(dplace, number):\n",
    "    # set everything to zero\n",
    "\n",
    "\n",
    "    p_mat = digits[dplace]  # pixel matrix to loop through\n",
    "    number_cmd = segments[number]\n",
    "\n",
    "    for i, row in enumerate(p_mat):\n",
    "        number_row = number_cmd[i]\n",
    "        for j, pixel in enumerate(row):\n",
    "            if number_row[j]:\n",
    "                print(pixel)\n",
    "\n",
    "time_send(1, 0)\n",
    "\n",
    "\n"
   ]
  }
 ],
 "metadata": {
  "kernelspec": {
   "display_name": ".venv",
   "language": "python",
   "name": "python3"
  },
  "language_info": {
   "codemirror_mode": {
    "name": "ipython",
    "version": 3
   },
   "file_extension": ".py",
   "mimetype": "text/x-python",
   "name": "python",
   "nbconvert_exporter": "python",
   "pygments_lexer": "ipython3",
   "version": "3.10.12"
  },
  "orig_nbformat": 4
 },
 "nbformat": 4,
 "nbformat_minor": 2
}
