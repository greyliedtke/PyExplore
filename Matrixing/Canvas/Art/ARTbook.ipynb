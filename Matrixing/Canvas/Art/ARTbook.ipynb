{
 "cells": [
  {
   "cell_type": "markdown",
   "metadata": {},
   "source": [
    "# ArtBook\n",
    "\n",
    "- Circles\n",
    "- Stripes\n",
    "- Waves\n",
    "- "
   ]
  },
  {
   "cell_type": "code",
   "execution_count": 4,
   "metadata": {},
   "outputs": [
    {
     "name": "stdout",
     "output_type": "stream",
     "text": [
      "18\n"
     ]
    }
   ],
   "source": [
    "# convert xy to matrix\n",
    "mat = [[1, 2, 3, 4, 5],\n",
    "       [6, 7, 8, 9, 10],\n",
    "       [11, 12, 13, 14, 15],\n",
    "       [16, 17, 18, 19, 20]]\n"
   ]
  },
  {
   "cell_type": "code",
   "execution_count": 14,
   "metadata": {},
   "outputs": [
    {
     "ename": "TypeError",
     "evalue": "xy_mat() missing 1 required positional argument: 'y'",
     "output_type": "error",
     "traceback": [
      "\u001b[1;31m---------------------------------------------------------------------------\u001b[0m",
      "\u001b[1;31mTypeError\u001b[0m                                 Traceback (most recent call last)",
      "\u001b[1;32mc:\\Users\\greyl\\PyExplore\\Canvas\\Art\\ARTbook.ipynb Cell 3\u001b[0m line \u001b[0;36m<cell line: 18>\u001b[1;34m()\u001b[0m\n\u001b[0;32m     <a href='vscode-notebook-cell:/c%3A/Users/greyl/PyExplore/Canvas/Art/ARTbook.ipynb#W2sZmlsZQ%3D%3D?line=18'>19</a>\u001b[0m y \u001b[39m=\u001b[39m \u001b[39m3\u001b[39m\u001b[39m*\u001b[39mmath\u001b[39m.\u001b[39msin(x\u001b[39m/\u001b[39m\u001b[39m3\u001b[39m)\n\u001b[0;32m     <a href='vscode-notebook-cell:/c%3A/Users/greyl/PyExplore/Canvas/Art/ARTbook.ipynb#W2sZmlsZQ%3D%3D?line=19'>20</a>\u001b[0m points \u001b[39m=\u001b[39m point_make(x, y)\n\u001b[1;32m---> <a href='vscode-notebook-cell:/c%3A/Users/greyl/PyExplore/Canvas/Art/ARTbook.ipynb#W2sZmlsZQ%3D%3D?line=20'>21</a>\u001b[0m mat_points \u001b[39m=\u001b[39m [xy_mat(p) \u001b[39mfor\u001b[39;00m p \u001b[39min\u001b[39;00m points]\n",
      "\u001b[1;32mc:\\Users\\greyl\\PyExplore\\Canvas\\Art\\ARTbook.ipynb Cell 3\u001b[0m line \u001b[0;36m<listcomp>\u001b[1;34m(.0)\u001b[0m\n\u001b[0;32m     <a href='vscode-notebook-cell:/c%3A/Users/greyl/PyExplore/Canvas/Art/ARTbook.ipynb#W2sZmlsZQ%3D%3D?line=18'>19</a>\u001b[0m y \u001b[39m=\u001b[39m \u001b[39m3\u001b[39m\u001b[39m*\u001b[39mmath\u001b[39m.\u001b[39msin(x\u001b[39m/\u001b[39m\u001b[39m3\u001b[39m)\n\u001b[0;32m     <a href='vscode-notebook-cell:/c%3A/Users/greyl/PyExplore/Canvas/Art/ARTbook.ipynb#W2sZmlsZQ%3D%3D?line=19'>20</a>\u001b[0m points \u001b[39m=\u001b[39m point_make(x, y)\n\u001b[1;32m---> <a href='vscode-notebook-cell:/c%3A/Users/greyl/PyExplore/Canvas/Art/ARTbook.ipynb#W2sZmlsZQ%3D%3D?line=20'>21</a>\u001b[0m mat_points \u001b[39m=\u001b[39m [xy_mat(p) \u001b[39mfor\u001b[39;00m p \u001b[39min\u001b[39;00m points]\n",
      "\u001b[1;31mTypeError\u001b[0m: xy_mat() missing 1 required positional argument: 'y'"
     ]
    }
   ],
   "source": [
    "# point selection\n",
    "import math\n",
    "\n",
    "def point_make(x, y):\n",
    "    # interpolate point to make dot of 4 big...\n",
    "    p1 = math.floor(x)\n",
    "    p2 = math.ceil(x)\n",
    "    if p2 == p1: p2+=1\n",
    "    p3 = math.floor(y)\n",
    "    p4 = math.ceil(y)\n",
    "    if p3 == p4: p4+=1\n",
    "\n",
    "    points = [p1, p2, p3, p4]\n",
    "    return points\n",
    "\n",
    "xr = range(0, 10)\n",
    "\n",
    "for x in xr:\n",
    "    y = 3*math.sin(x/3)\n",
    "    points = point_make(x, y)\n",
    "    mat_points = [xy_mat(p) for p in points]\n"
   ]
  },
  {
   "cell_type": "code",
   "execution_count": 9,
   "metadata": {},
   "outputs": [
    {
     "name": "stdout",
     "output_type": "stream",
     "text": [
      "[-4, -3, -2, -1]\n",
      "[-2, -1, 0]\n",
      "[0, 1]\n",
      "[2]\n",
      "[]\n",
      "[1, 2, 3, 4]\n",
      "[2, 3, 4, 5]\n",
      "[3, 4, 5, 6]\n",
      "[4, 5, 6, 7]\n",
      "[5, 6, 7, 8]\n",
      "[6, 7, 8, 9]\n",
      "[7, 8, 9, 10]\n",
      "[8, 9, 10, 11]\n",
      "[9, 10, 11, 12]\n",
      "[10, 11, 12, 13]\n",
      "[11, 12, 13, 14]\n"
     ]
    }
   ],
   "source": [
    "import random\n",
    "\n",
    "rainlen = 4\n",
    "\n",
    "def rain():\n",
    "    rc = random.choice(range(0, cols))\n",
    "    for r in range(rows):\n",
    "        rpast = r-rainlen\n",
    "        if rpast<=0:\n",
    "            rlen = rainlen-r\n",
    "        else: rlen = rainlen\n",
    "\n",
    "        rrows = list(range(r-rlen, r))\n",
    "        print(rrows)\n",
    "        # rr = r-r\n",
    "        # if r>0:\n",
    "\n",
    "        # p = mat[r][rc]\n",
    "rain()\n",
    "\n",
    "    "
   ]
  }
 ],
 "metadata": {
  "kernelspec": {
   "display_name": "virtual_env",
   "language": "python",
   "name": "python3"
  },
  "language_info": {
   "codemirror_mode": {
    "name": "ipython",
    "version": 3
   },
   "file_extension": ".py",
   "mimetype": "text/x-python",
   "name": "python",
   "nbconvert_exporter": "python",
   "pygments_lexer": "ipython3",
   "version": "3.10.11"
  }
 },
 "nbformat": 4,
 "nbformat_minor": 2
}
