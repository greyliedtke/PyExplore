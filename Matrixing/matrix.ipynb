{
 "cells": [
  {
   "cell_type": "code",
   "execution_count": null,
   "metadata": {},
   "outputs": [],
   "source": [
    "import numpy as np\n",
    "from PIL import Image\n",
    "\n",
    "# Define the start and end colors (in RGB format)\n",
    "start_color = (255, 0, 0)  # Red\n",
    "end_color = (0, 0, 255)    # Blue\n",
    "\n",
    "# Create an 8x8 RGB matrix with a gradient from start_color to end_color\n",
    "width, height = 8, 8\n",
    "rgb_matrix = np.zeros((height, width, 3), dtype=np.uint8)\n",
    "\n",
    "for i in range(height):\n",
    "    for j in range(width):\n",
    "        gradient_factor = (i + j) / (height + width - 2)  # Calculate the gradient factor\n",
    "        interpolated_color = tuple(int(start * (1 - gradient_factor) + end * gradient_factor) for start, end in zip(start_color, end_color))\n",
    "        rgb_matrix[i, j] = interpolated_color\n",
    "\n",
    "# Create an image from the RGB matrix\n",
    "img = Image.fromarray(rgb_matrix, 'RGB')\n",
    "\n",
    "# Save the image or display it\n",
    "img.save('gradient_art.png')  # Save the image as a PNG file\n",
    "img.show()  # Display the image using the default image viewer"
   ]
  }
 ],
 "metadata": {
  "language_info": {
   "name": "python"
  },
  "orig_nbformat": 4
 },
 "nbformat": 4,
 "nbformat_minor": 2
}
