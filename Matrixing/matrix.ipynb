{
 "cells": [
  {
   "cell_type": "code",
   "execution_count": 1,
   "metadata": {},
   "outputs": [],
   "source": [
    "import numpy as np\n",
    "from PIL import Image\n",
    "\n",
    "# Define the start and end colors (in RGB format)\n",
    "start_color = (255, 0, 0)  # Red\n",
    "end_color = (0, 0, 255)    # Blue\n",
    "\n",
    "# Create an 8x8 RGB matrix with a gradient from start_color to end_color\n",
    "width, height = 8, 8\n",
    "rgb_matrix = np.zeros((height, width, 3), dtype=np.uint8)\n",
    "\n",
    "for i in range(height):\n",
    "    for j in range(width):\n",
    "        gradient_factor = (i + j) / (height + width - 2)  # Calculate the gradient factor\n",
    "        interpolated_color = tuple(int(start * (1 - gradient_factor) + end * gradient_factor) for start, end in zip(start_color, end_color))\n",
    "        rgb_matrix[i, j] = interpolated_color\n",
    "\n",
    "# Create an image from the RGB matrix\n",
    "img = Image.fromarray(rgb_matrix, 'RGB')\n",
    "\n",
    "# Save the image or display it\n",
    "img.save('gradient_art.png')  # Save the image as a PNG file\n",
    "img.show()  # Display the image using the default image viewer"
   ]
  },
  {
   "cell_type": "code",
   "execution_count": 5,
   "metadata": {},
   "outputs": [
    {
     "name": "stdout",
     "output_type": "stream",
     "text": [
      "[255, 0, 0]\n",
      "[0, 255, 0]\n",
      "[0, 0, 255]\n",
      "[255, 0, 0]\n",
      "[0, 255, 0]\n",
      "[0, 0, 255]\n",
      "[255, 0, 0]\n",
      "[0, 255, 0]\n",
      "[0, 0, 255]\n"
     ]
    }
   ],
   "source": [
    "\n",
    "\n"
   ]
  }
 ],
 "metadata": {
  "kernelspec": {
   "display_name": "virtual_env",
   "language": "python",
   "name": "python3"
  },
  "language_info": {
   "codemirror_mode": {
    "name": "ipython",
    "version": 3
   },
   "file_extension": ".py",
   "mimetype": "text/x-python",
   "name": "python",
   "nbconvert_exporter": "python",
   "pygments_lexer": "ipython3",
   "version": "3.10.11"
  },
  "orig_nbformat": 4
 },
 "nbformat": 4,
 "nbformat_minor": 2
}
