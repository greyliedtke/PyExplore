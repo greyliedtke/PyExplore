{
 "cells": [
  {
   "cell_type": "markdown",
   "metadata": {},
   "source": [
    "# info\n",
    "\n",
    "Frequency\n"
   ]
  },
  {
   "cell_type": "code",
   "execution_count": null,
   "metadata": {},
   "outputs": [],
   "source": [
    "freq = 50\n",
    "period = 1/freq\n",
    "\n",
    "min_duty = 0.0005\n",
    "max_duty = 0.0025\n",
    "\n",
    "min_pwm = min_duty/period\n",
    "max_pwm = max_duty/period\n"
   ]
  }
 ],
 "metadata": {
  "language_info": {
   "name": "python"
  }
 },
 "nbformat": 4,
 "nbformat_minor": 2
}
