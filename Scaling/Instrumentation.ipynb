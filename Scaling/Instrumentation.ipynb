{
 "cells": [
  {
   "cell_type": "code",
   "execution_count": null,
   "metadata": {},
   "outputs": [],
   "source": [
    "# fusion of instrumentation...\n",
    "\n",
    "# merge all instrumentation in respective sensors\n",
    "# filters and error detection\n",
    "# - kalman filters"
   ]
  },
  {
   "cell_type": "code",
   "execution_count": null,
   "metadata": {},
   "outputs": [],
   "source": [
    "# how this will works\n",
    "# map influxdb names to sensors\n",
    "# loop through values of those sensors\n",
    "\n",
    "# if exists, put it through discrepancy processor\n",
    "\n"
   ]
  },
  {
   "cell_type": "code",
   "execution_count": null,
   "metadata": {},
   "outputs": [],
   "source": [
    "# fuel pressure\n",
    "# turbine exit\n",
    "\n",
    "# expirement with turbine exit using heat gun and thermocouples...\n"
   ]
  }
 ],
 "metadata": {
  "language_info": {
   "name": "python"
  },
  "orig_nbformat": 4
 },
 "nbformat": 4,
 "nbformat_minor": 2
}
