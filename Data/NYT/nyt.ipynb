{
 "cells": [
  {
   "cell_type": "code",
   "execution_count": 10,
   "metadata": {},
   "outputs": [],
   "source": [
    "from shhh import ny_key\n",
    "from pynytimes import NYTAPI\n",
    "nyt = NYTAPI(ny_key, parse_dates=True)"
   ]
  },
  {
   "cell_type": "code",
   "execution_count": 11,
   "metadata": {},
   "outputs": [],
   "source": [
    "top_stories = nyt.top_stories()\n",
    "top_shared = nyt.most_shared(days=30)\n",
    "most_viewed = nyt.most_viewed(days=30)"
   ]
  },
  {
   "cell_type": "code",
   "execution_count": 12,
   "metadata": {},
   "outputs": [
    {
     "name": "stdout",
     "output_type": "stream",
     "text": [
      "0. Customized hints that update based on your progress in today’s puzzle.\n",
      "1. She won three Olympic medals in 2016 and the world championship the next year in an intense 100-meter dash.\n",
      "2. Mr. Lemon, one of the network’s most recognizable stars, had been under scrutiny since an uproar over on-air remarks he made about women and aging in February.\n",
      "3. The first-term Republican congressman’s extensive lies on the campaign trail and questionable financial dealings were the focus of criminal and ethical inquiries.\n",
      "4. It’s a long-buried part of South Korean history: women compelled by force, trickery or desperation into prostitution, with the complicity of their own leaders.\n",
      "5. Private messages sent by Tucker Carlson that had been redacted in legal filings showed him making highly offensive remarks that went beyond the comments of his prime-time show.\n",
      "6. For half a century, Geoffrey Hinton nurtured the technology at the heart of chatbots like ChatGPT. Now he worries it will cause serious harm.\n",
      "7. A police officer on an unrelated assignment nearby rushed toward the sounds of gunfire and killed the gunman.\n",
      "8. Lawyers for the family of Ralph Yarl, 16, said he was critically injured when he was shot twice in Kansas City, Mo.\n",
      "9. With a shrinking population and more than 10 million abandoned properties, the country is straining to match houses with curious buyers.\n",
      "10. Organ transplantation is mired in stagnant science and antiquated, imprecise medicine that fails patients and organ donors.\n",
      "11. After Dylan Mulvaney promoted the beer on Instagram, well-known conservatives called for a boycott. Two executives at Anheuser-Busch, the beer’s maker, are taking a leave of absence.\n",
      "12. And voters are worried about Biden’s mental acuity?\n",
      "13. Our critic, Pete Wells, ranks his favorites in all five boroughs.\n",
      "14. Behaving as the Republicans’ de facto nominee, Donald Trump dug in on his 2020 lies and dodged on abortion. The G.O.P. audience cheered, but so did Democrats seeking 2024 fodder.\n",
      "15. Can you tell the difference between a $10,000 Chanel bag and a $200 knockoff? Almost nobody can, and it’s turning luxury fashion upside down.\n",
      "16. The Denver airport is a magnet for conspiracy theories — and a case study in the line between mass delusion and fun.\n",
      "17. In his most extensive interview yet, Anthony Fauci wrestles with the hard lessons of the pandemic — and the decisions that will define his legacy.\n",
      "18. The ideal breakfast is the one that makes you feel your best, experts say, though there are some important nutrients to keep in mind.\n",
      "19. Some of the biggest names from Hollywood, fashion, politics, media and music arrived to honor Karl Lagerfeld for fashion’s biggest night.\n"
     ]
    }
   ],
   "source": [
    "for i, s in enumerate(most_viewed):\n",
    "    print(f\"{i}. {s['abstract']}\")"
   ]
  },
  {
   "cell_type": "code",
   "execution_count": 13,
   "metadata": {},
   "outputs": [
    {
     "name": "stdout",
     "output_type": "stream",
     "text": [
      "Small, fast-moving U.S. tech firms are using the war in Ukraine to demonstrate a new generation of military systems but face the challenge of selling them to a risk-averse Defense Department.\n",
      "The dishes readers tucked into their (digital) recipe boxes over and over again.\n",
      "Customized hints that update based on your progress in today’s puzzle.\n"
     ]
    }
   ],
   "source": [
    "print(top_stories[0]['abstract'])\n",
    "print(top_shared[0]['abstract'])\n",
    "print(most_viewed[0]['abstract'])"
   ]
  },
  {
   "cell_type": "code",
   "execution_count": null,
   "metadata": {},
   "outputs": [],
   "source": [
    "def most_share"
   ]
  }
 ],
 "metadata": {
  "kernelspec": {
   "display_name": ".venv",
   "language": "python",
   "name": "python3"
  },
  "language_info": {
   "codemirror_mode": {
    "name": "ipython",
    "version": 3
   },
   "file_extension": ".py",
   "mimetype": "text/x-python",
   "name": "python",
   "nbconvert_exporter": "python",
   "pygments_lexer": "ipython3",
   "version": "3.10.7"
  },
  "orig_nbformat": 4
 },
 "nbformat": 4,
 "nbformat_minor": 2
}
