{
 "cells": [
  {
   "cell_type": "code",
   "execution_count": 1,
   "metadata": {},
   "outputs": [
    {
     "name": "stderr",
     "output_type": "stream",
     "text": [
      "C:\\Users\\greyl\\AppData\\Local\\Temp\\ipykernel_31244\\831186494.py:2: DtypeWarning: Columns (5) have mixed types. Specify dtype option on import or set low_memory=False.\n",
      "  df = pd.read_csv('datasets/charts.csv')\n"
     ]
    },
    {
     "data": {
      "text/html": [
       "<div>\n",
       "<style scoped>\n",
       "    .dataframe tbody tr th:only-of-type {\n",
       "        vertical-align: middle;\n",
       "    }\n",
       "\n",
       "    .dataframe tbody tr th {\n",
       "        vertical-align: top;\n",
       "    }\n",
       "\n",
       "    .dataframe thead th {\n",
       "        text-align: right;\n",
       "    }\n",
       "</style>\n",
       "<table border=\"1\" class=\"dataframe\">\n",
       "  <thead>\n",
       "    <tr style=\"text-align: right;\">\n",
       "      <th></th>\n",
       "      <th>track_id</th>\n",
       "      <th>name</th>\n",
       "      <th>country</th>\n",
       "      <th>date</th>\n",
       "      <th>position</th>\n",
       "      <th>streams</th>\n",
       "      <th>artists</th>\n",
       "      <th>artist_genres</th>\n",
       "      <th>duration</th>\n",
       "      <th>explicit</th>\n",
       "    </tr>\n",
       "  </thead>\n",
       "  <tbody>\n",
       "    <tr>\n",
       "      <th>0</th>\n",
       "      <td>7GMeRGZax4uDKgz6wALWQw</td>\n",
       "      <td>It Was Always You</td>\n",
       "      <td>br</td>\n",
       "      <td>2015-03-17</td>\n",
       "      <td>138</td>\n",
       "      <td>6584</td>\n",
       "      <td>['Maroon 5']</td>\n",
       "      <td>['pop']</td>\n",
       "      <td>239920</td>\n",
       "      <td>False</td>\n",
       "    </tr>\n",
       "    <tr>\n",
       "      <th>1</th>\n",
       "      <td>7GMeRGZax4uDKgz6wALWQw</td>\n",
       "      <td>It Was Always You</td>\n",
       "      <td>br</td>\n",
       "      <td>2015-03-18</td>\n",
       "      <td>132</td>\n",
       "      <td>6963</td>\n",
       "      <td>['Maroon 5']</td>\n",
       "      <td>['pop']</td>\n",
       "      <td>239920</td>\n",
       "      <td>False</td>\n",
       "    </tr>\n",
       "    <tr>\n",
       "      <th>2</th>\n",
       "      <td>7GMeRGZax4uDKgz6wALWQw</td>\n",
       "      <td>It Was Always You</td>\n",
       "      <td>br</td>\n",
       "      <td>2015-03-19</td>\n",
       "      <td>128</td>\n",
       "      <td>7049</td>\n",
       "      <td>['Maroon 5']</td>\n",
       "      <td>['pop']</td>\n",
       "      <td>239920</td>\n",
       "      <td>False</td>\n",
       "    </tr>\n",
       "    <tr>\n",
       "      <th>3</th>\n",
       "      <td>7GMeRGZax4uDKgz6wALWQw</td>\n",
       "      <td>It Was Always You</td>\n",
       "      <td>br</td>\n",
       "      <td>2015-03-20</td>\n",
       "      <td>152</td>\n",
       "      <td>6976</td>\n",
       "      <td>['Maroon 5']</td>\n",
       "      <td>['pop']</td>\n",
       "      <td>239920</td>\n",
       "      <td>False</td>\n",
       "    </tr>\n",
       "    <tr>\n",
       "      <th>4</th>\n",
       "      <td>7GMeRGZax4uDKgz6wALWQw</td>\n",
       "      <td>It Was Always You</td>\n",
       "      <td>br</td>\n",
       "      <td>2015-03-21</td>\n",
       "      <td>160</td>\n",
       "      <td>6156</td>\n",
       "      <td>['Maroon 5']</td>\n",
       "      <td>['pop']</td>\n",
       "      <td>239920</td>\n",
       "      <td>False</td>\n",
       "    </tr>\n",
       "  </tbody>\n",
       "</table>\n",
       "</div>"
      ],
      "text/plain": [
       "                 track_id               name country        date  position  \\\n",
       "0  7GMeRGZax4uDKgz6wALWQw  It Was Always You      br  2015-03-17       138   \n",
       "1  7GMeRGZax4uDKgz6wALWQw  It Was Always You      br  2015-03-18       132   \n",
       "2  7GMeRGZax4uDKgz6wALWQw  It Was Always You      br  2015-03-19       128   \n",
       "3  7GMeRGZax4uDKgz6wALWQw  It Was Always You      br  2015-03-20       152   \n",
       "4  7GMeRGZax4uDKgz6wALWQw  It Was Always You      br  2015-03-21       160   \n",
       "\n",
       "  streams       artists artist_genres  duration  explicit  \n",
       "0    6584  ['Maroon 5']       ['pop']    239920     False  \n",
       "1    6963  ['Maroon 5']       ['pop']    239920     False  \n",
       "2    7049  ['Maroon 5']       ['pop']    239920     False  \n",
       "3    6976  ['Maroon 5']       ['pop']    239920     False  \n",
       "4    6156  ['Maroon 5']       ['pop']    239920     False  "
      ]
     },
     "execution_count": 1,
     "metadata": {},
     "output_type": "execute_result"
    }
   ],
   "source": [
    "# import spotify charts df\n",
    "import pandas as pd\n",
    "df = pd.read_csv('datasets/charts.csv')\n",
    "df.head()"
   ]
  },
  {
   "cell_type": "code",
   "execution_count": 14,
   "metadata": {},
   "outputs": [],
   "source": [
    "# get bts info on song butter\n",
    "df[\"bts_yes\"]= df[\"artists\"].str.find('BTS')\n",
    "df[\"bts_yes\"]= df[\"bts_yes\"].astype(float)\n",
    "bts = df.query(\"bts_yes > 0\")\n",
    "bts = bts.query(\"name == 'Butter' and country == 'jp'\")\n",
    "\n",
    "import plotly.express as px\n",
    "fig = px.scatter(bts, x='date', y='streams')\n",
    "fig.show()\n"
   ]
  },
  {
   "cell_type": "code",
   "execution_count": 4,
   "metadata": {},
   "outputs": [],
   "source": [
    "# compare songs on words\n",
    "df['happy_name'] =df[\"name\"].str.find('Happy')\n",
    "df[\"happy_name\"]= df[\"happy_name\"].astype(float)\n",
    "happy = df.query(\"happy_name > 0\")"
   ]
  }
 ],
 "metadata": {
  "kernelspec": {
   "display_name": "Python 3.10.8 ('virtual_env': venv)",
   "language": "python",
   "name": "python3"
  },
  "language_info": {
   "codemirror_mode": {
    "name": "ipython",
    "version": 3
   },
   "file_extension": ".py",
   "mimetype": "text/x-python",
   "name": "python",
   "nbconvert_exporter": "python",
   "pygments_lexer": "ipython3",
   "version": "3.10.8"
  },
  "orig_nbformat": 4,
  "vscode": {
   "interpreter": {
    "hash": "7a791564c7636bd0312489df8a91f04e82f7a7839c41ea5b51e49c54c216cd7b"
   }
  }
 },
 "nbformat": 4,
 "nbformat_minor": 2
}
