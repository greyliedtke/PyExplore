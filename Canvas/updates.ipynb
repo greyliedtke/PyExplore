{
 "cells": [
  {
   "cell_type": "code",
   "execution_count": 17,
   "metadata": {},
   "outputs": [
    {
     "name": "stderr",
     "output_type": "stream",
     "text": [
      "C:\\Users\\greyl\\AppData\\Local\\Temp\\ipykernel_38952\\1639932326.py:32: MatplotlibDeprecationWarning: Unable to determine Axes to steal space for Colorbar. Using gca(), but will raise in the future. Either provide the *cax* argument to use as the Axes for the Colorbar, provide the *ax* argument to steal space from it, or add *mappable* to an Axes.\n",
      "  plt.colorbar(sm, label='Gradient (Start Color to End Color)')\n"
     ]
    },
    {
     "data": {
      "image/png": "[encoded data removed]",
      "text/plain": [
       "<Figure size 640x480 with 2 Axes>"
      ]
     },
     "metadata": {},
     "output_type": "display_data"
    }
   ],
   "source": [
    "import matplotlib.pyplot as plt\n",
    "import numpy as np\n",
    "\n",
    "# Define the starting and ending colors in RGB format (0-255 range)\n",
    "start_color = (255, 23, 23)  # Red\n",
    "end_color = (156, 247, 255)    # Blue\n",
    "\n",
    "# Define the number of steps in the gradient\n",
    "num_steps = 256\n",
    "\n",
    "# Create an array of colors transitioning from start_color to end_color\n",
    "colors = []\n",
    "\n",
    "for i in range(num_steps):\n",
    "    # Interpolate between start_color and end_color\n",
    "    r = start_color[0] + int((end_color[0] - start_color[0]) * (i / num_steps))\n",
    "    g = start_color[1] + int((end_color[1] - start_color[1]) * (i / num_steps))\n",
    "    b = start_color[2] + int((end_color[2] - start_color[2]) * (i / num_steps))\n",
    "    \n",
    "    # Append the RGB tuple to the colors list\n",
    "    colors.append((r / 255, g / 255, b / 255))\n",
    "\n",
    "# Create a color map with the defined gradient\n",
    "cmap = plt.cm.colors.ListedColormap(colors)\n",
    "\n",
    "# Create a color bar for reference\n",
    "norm = plt.cm.colors.Normalize(vmin=0, vmax=num_steps - 1)\n",
    "sm = plt.cm.ScalarMappable(cmap=cmap, norm=norm)\n",
    "sm.set_array([])\n",
    "\n",
    "# Display the color bar\n",
    "plt.colorbar(sm, label='Gradient (Start Color to End Color)')\n",
    "\n",
    "# Create a sample image with the gradient\n",
    "image = np.linspace(0, 1, 256).reshape(1, -1)\n",
    "plt.imshow(image, cmap=cmap, aspect='auto')\n",
    "plt.axis('off')\n",
    "\n",
    "# Show the gradient\n",
    "plt.show()\n",
    "\n"
   ]
  },
  {
   "cell_type": "code",
   "execution_count": 2,
   "metadata": {},
   "outputs": [
    {
     "data": {
      "image/png": "[encoded data removed]",
      "text/plain": [
       "<Figure size 640x480 with 1 Axes>"
      ]
     },
     "metadata": {},
     "output_type": "display_data"
    }
   ],
   "source": [
    "import matplotlib.pyplot as plt\n",
    "import numpy as np\n",
    "\n",
    "# Define the starting and ending colors in RGB format (0-255 range)\n",
    "start_color = (255, 23, 23)  # Red\n",
    "end_color = (156, 247, 255)    # Blue\n",
    "\n",
    "# Define the number of steps in the gradient\n",
    "num_steps = 256\n",
    "\n",
    "# Create an array of colors transitioning from start_color to end_color\n",
    "colors = []\n",
    "\n",
    "for i in range(num_steps):\n",
    "    # Interpolate between start_color and end_color\n",
    "    r = start_color[0] + int((end_color[0] - start_color[0]) * (i / num_steps))\n",
    "    g = start_color[1] + int((end_color[1] - start_color[1]) * (i / num_steps))\n",
    "    b = start_color[2] + int((end_color[2] - start_color[2]) * (i / num_steps))\n",
    "    \n",
    "    # Append the RGB tuple to the colors list\n",
    "    colors.append((r, g, b))\n",
    "\n",
    "# Create a color map with the defined gradient\n",
    "cmap = plt.cm.colors.ListedColormap(colors)\n",
    "\n",
    "# Create a sample image with the gradient as a 16x16 matrix\n",
    "image = np.linspace(0, 1, 16 * 16).reshape(16, 16)\n",
    "plt.imshow(image, cmap=cmap, aspect='auto')\n",
    "plt.axis('off')\n",
    "\n",
    "# Show the gradient as a 16x16 matrix\n",
    "plt.show()\n"
   ]
  }
 ],
 "metadata": {
  "kernelspec": {
   "display_name": "virtual_env",
   "language": "python",
   "name": "python3"
  },
  "language_info": {
   "codemirror_mode": {
    "name": "ipython",
    "version": 3
   },
   "file_extension": ".py",
   "mimetype": "text/x-python",
   "name": "python",
   "nbconvert_exporter": "python",
   "pygments_lexer": "ipython3",
   "version": "3.10.12"
  }
 },
 "nbformat": 4,
 "nbformat_minor": 2
}
