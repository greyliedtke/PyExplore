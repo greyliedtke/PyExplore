{
 "cells": [
  {
   "cell_type": "code",
   "execution_count": 3,
   "metadata": {},
   "outputs": [],
   "source": [
    "# imports\n",
    "import time\n",
    "t_ref = time.perf_counter()"
   ]
  },
  {
   "cell_type": "code",
   "execution_count": 6,
   "metadata": {},
   "outputs": [],
   "source": [
    "from datetime import datetime, timedelta\n",
    "\n",
    "# Get the current time\n",
    "t_now = time.time()\n",
    "\n",
    "# Assuming you have obtained the reference time for yesterday as reference_time_yesterday\n",
    "reference_time_yesterday = 1000.0  # Example reference time\n",
    "\n",
    "# Calculate the time difference\n",
    "time_difference = t_now - reference_time_yesterday\n",
    "\n",
    "# Convert time difference to a timedelta object\n",
    "delta = timedelta(seconds=time_difference)\n",
    "\n",
    "# Extract hours, minutes, and seconds\n",
    "hours = delta.seconds // 3600\n",
    "minutes = (delta.seconds % 3600) // 60\n",
    "seconds = delta.seconds % 60"
   ]
  }
 ],
 "metadata": {
  "kernelspec": {
   "display_name": "virtual_env",
   "language": "python",
   "name": "python3"
  },
  "language_info": {
   "codemirror_mode": {
    "name": "ipython",
    "version": 3
   },
   "file_extension": ".py",
   "mimetype": "text/x-python",
   "name": "python",
   "nbconvert_exporter": "python",
   "pygments_lexer": "ipython3",
   "version": "3.10.11"
  }
 },
 "nbformat": 4,
 "nbformat_minor": 2
}
