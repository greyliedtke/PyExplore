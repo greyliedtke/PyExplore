{
 "cells": [
  {
   "attachments": {},
   "cell_type": "markdown",
   "metadata": {},
   "source": [
    "# Common mode choke\n",
    "\n",
    "### NGC Specs\n",
    "\n",
    "- 40x [ferrite cores](https://www.digikey.com/en/products/detail/ferroxcube/U93%2F76%2F30-3C90/7942507?utm_adgroup=Ferrite%20Cores&utm_source=google&utm_medium=cpc&utm_campaign=Shopping_Product_Magnetics%20-%20Transformer%2C%20Inductor%20Components&utm_term=&utm_content=Ferrite%20Cores&gclid=EAIaIQobChMIq-63s7-I_AIVjYrICh37CAviEAQYASABEgLE2vD_BwE)\n",
    "- 4 turns\n",
    "- 2 gauge cable\n",
    "- 2 mH equivalence\n",
    "- roughly 1500 just for cores...\n",
    "\n",
    "### Scaled Alternative\n",
    "\n",
    "- cots 3 phase common mode [choke](https://www.digikey.com/en/products/detail/w%C3%BCrth-elektronik/744839003460/6621988)\n",
    "- 46 A\n",
    "- 3 mH\n",
    "- only $50\n",
    "- need to design PCB\n",
    "- power limitation of \n",
    "\n"
   ]
  },
  {
   "cell_type": "code",
   "execution_count": 6,
   "metadata": {},
   "outputs": [
    {
     "data": {
      "text/plain": [
       "46.948356807511736"
      ]
     },
     "execution_count": 6,
     "metadata": {},
     "output_type": "execute_result"
    }
   ],
   "source": [
    "# generator current side...\n",
    "voltage = 3.55 * 20\n",
    "voltage\n",
    "phase_current = 10000 / (voltage * 3)\n",
    "phase_current"
   ]
  }
 ],
 "metadata": {
  "kernelspec": {
   "display_name": "Python 3",
   "language": "python",
   "name": "python3"
  },
  "language_info": {
   "codemirror_mode": {
    "name": "ipython",
    "version": 3
   },
   "file_extension": ".py",
   "mimetype": "text/x-python",
   "name": "python",
   "nbconvert_exporter": "python",
   "pygments_lexer": "ipython3",
   "version": "3.10.7 (tags/v3.10.7:6cc6b13, Sep  5 2022, 14:08:36) [MSC v.1933 64 bit (AMD64)]"
  },
  "orig_nbformat": 4,
  "vscode": {
   "interpreter": {
    "hash": "369f2c481f4da34e4445cda3fffd2e751bd1c4d706f27375911949ba6bb62e1c"
   }
  }
 },
 "nbformat": 4,
 "nbformat_minor": 2
}
