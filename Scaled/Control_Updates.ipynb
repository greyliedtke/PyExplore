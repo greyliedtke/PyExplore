{
 "cells": [
  {
   "attachments": {},
   "cell_type": "markdown",
   "metadata": {},
   "source": [
    "# How controls will work\n",
    "\n",
    "- engine begins with initial fuel setting and resistor level\n",
    "\n",
    "### Control States\n",
    "\n",
    "- lightoff sequencing\n",
    "  - normal process with initial fuel setting\n",
    "\n",
    "- manual mode\n",
    "  - same as lightoff\n",
    "  - manual fues settings adjusted\n",
    "\n",
    "- PID\n",
    "  - initialize PID with last fuel setting as initial\n",
    "  - implement ramp to avoid large changes\n",
    "  - adjust PID from parameter page\n",
    "  - adjust n2 setpoint from control page\n"
   ]
  },
  {
   "attachments": {},
   "cell_type": "markdown",
   "metadata": {},
   "source": [
    "## Command logic\n",
    "\n",
    "- PID commands\n",
    "- Stage commands\n",
    "- Speed setpoint\n",
    "- Fuel AO\n",
    "- Drivetek\n",
    "- Safeties\n",
    "- Air/CO2\n",
    "  "
   ]
  },
  {
   "cell_type": "code",
   "execution_count": null,
   "metadata": {},
   "outputs": [],
   "source": []
  },
  {
   "attachments": {},
   "cell_type": "markdown",
   "metadata": {},
   "source": [
    "## Power electronics testing\n",
    "\n",
    "- Testing\n",
    "- ramp load\n",
    "- drivetek speed commands\n",
    "- what if EMI/dt errors\n",
    "\n",
    "## Passive\n",
    "\n",
    "- fuel output setting\n",
    "- pid sequence\n"
   ]
  },
  {
   "cell_type": "code",
   "execution_count": 8,
   "metadata": {},
   "outputs": [
    {
     "name": "stdout",
     "output_type": "stream",
     "text": [
      "52\n"
     ]
    }
   ],
   "source": [
    "# PID control udpates\n",
    "\n",
    "# library imports\n",
    "from simple_pid import PID  # pid loop for n2\n",
    "\n",
    "# get from redis...\n",
    "p_p, p_i, p_d = 5, .1, 0\n",
    "init_ao = 55\n",
    "\n",
    "# initialize at start of program\n",
    "n2_pid = PID(p_p, p_i, p_d, setpoint=20)\n",
    "n2_pid.sample_time = 0.5\n",
    "n2_pid.output_limits = (0, 100)\n",
    "\n",
    "# ending or initializing always do!\n",
    "n2_pid.set_auto_mode(False)\n",
    "\n",
    "# PID begins\n",
    "n2_pid.set_auto_mode(True, last_output=init_ao)\n",
    "\n",
    "# calling pid loop with max change\n",
    "def call_pid(val, prev_ao):\n",
    "    prev_o = n2_pid\n",
    "    new_ao = n2_pid(val)\n",
    "    delta = new_ao-prev_ao\n",
    "\n",
    "    # prevent new value from being more than 3\n",
    "    if new_ao > prev_ao:\n",
    "        new_ao = min(prev_ao+3, new_ao)\n",
    "    else:\n",
    "        new_ao = max(prev_ao-3, new_ao)\n",
    "\n",
    "    return new_ao\n",
    "\n",
    "n2_val = 25\n",
    "fuel_ao = call_pid(n2_val, init_ao)\n",
    "print(fuel_ao)\n"
   ]
  },
  {
   "cell_type": "code",
   "execution_count": null,
   "metadata": {},
   "outputs": [],
   "source": [
    "# listening for changes from control_ui. Put in state machine logic\n",
    "pub_msg = 'msg'\n",
    "\n",
    "# PID updates and control mode\n",
    "\n",
    "if 'cv_pid_p' in pub_msg:\n",
    "    # set pid values\n",
    "    kp, ki, kd = pub_msg['cv_pid_p'], pub_msg['cv_pid_i'], pub_msg['cv_pid_d']\n",
    "    n2_pid.tunings = (kp, ki, kd)\n",
    "    \n",
    "    # set redis values in hash map\n",
    "    pass\n",
    "\n",
    "elif 'cv_control_mode' in pub_msg:\n",
    "    cm = pub_msg['cv_control_mode']\n",
    "\n",
    "elif 'cv_n2' in pub_msg:\n",
    "    n2_sp = pub_msg['cv_n2']\n",
    "    n2_pid.setpoint = n2_sp\n",
    "    # set on redis\n",
    "\n",
    "# fuel setting\n",
    "elif 'cv_fuel_ao' in pub_msg:\n",
    "    # set on redis\n",
    "    pass\n",
    "\n",
    "# fuel setting\n",
    "elif 'cv_ll' in pub_msg:\n",
    "    # set on redis\n",
    "    pass\n"
   ]
  },
  {
   "cell_type": "code",
   "execution_count": 22,
   "metadata": {},
   "outputs": [
    {
     "data": {
      "text/plain": [
       "(150.0, 50.0)"
      ]
     },
     "execution_count": 22,
     "metadata": {},
     "output_type": "execute_result"
    }
   ],
   "source": [
    "# n2 simulator speed\n",
    "def speed_response(fuel_percent, load_level):\n",
    "    n2_max_sim = 60\n",
    "    # equation came up with for simulating... not representative\n",
    "    n2_speed = n2_max_sim * (fuel_percent/100) * ((10/load_level)/2)\n",
    "    n1_speed = n2_speed * 3\n",
    "    return round(n1_speed, 1), round(n2_speed, 1)\n",
    "\n",
    "speed_response(100, 6)"
   ]
  }
 ],
 "metadata": {
  "kernelspec": {
   "display_name": ".venv",
   "language": "python",
   "name": "python3"
  },
  "language_info": {
   "codemirror_mode": {
    "name": "ipython",
    "version": 3
   },
   "file_extension": ".py",
   "mimetype": "text/x-python",
   "name": "python",
   "nbconvert_exporter": "python",
   "pygments_lexer": "ipython3",
   "version": "3.10.7 (tags/v3.10.7:6cc6b13, Sep  5 2022, 14:08:36) [MSC v.1933 64 bit (AMD64)]"
  },
  "orig_nbformat": 4,
  "vscode": {
   "interpreter": {
    "hash": "f391e8c3d005e77c8bed83cbfaaff21a4e701d9f1afa210d5c2253c673c9acf5"
   }
  }
 },
 "nbformat": 4,
 "nbformat_minor": 2
}
