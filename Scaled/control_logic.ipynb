{
 "cells": [
  {
   "attachments": {},
   "cell_type": "markdown",
   "metadata": {},
   "source": [
    "# How controls will work\n",
    "\n",
    "- engine begins with initial fuel setting and resistor level\n",
    "\n",
    "### Control States\n",
    "\n",
    "- lightoff sequencing\n",
    "  - normal process with initial fuel setting\n",
    "\n",
    "- manaul mode\n",
    "  - same as lightoff\n",
    "  - manual fues settings adjusted\n",
    "\n",
    "- PID\n",
    "  - initialize PID with last fuel setting as initial\n",
    "  - implement ramp to avoid large changes\n",
    "  - adjust PID from parameter page\n",
    "  - adjust n2 setpoint from control page\n"
   ]
  },
  {
   "cell_type": "code",
   "execution_count": null,
   "metadata": {},
   "outputs": [],
   "source": [
    "# listening for n2 setpoint changes"
   ]
  },
  {
   "cell_type": "code",
   "execution_count": 1,
   "metadata": {},
   "outputs": [],
   "source": [
    "# library imports\n",
    "from simple_pid import PID  # pid loop for n2\n"
   ]
  },
  {
   "cell_type": "code",
   "execution_count": 8,
   "metadata": {},
   "outputs": [
    {
     "name": "stdout",
     "output_type": "stream",
     "text": [
      "52\n"
     ]
    }
   ],
   "source": [
    "# PID control\n",
    "# get from redis...\n",
    "p_p, p_i, p_d = 5, .1, 0\n",
    "init_ao = 55\n",
    "\n",
    "# initialize at start of program\n",
    "n2_pid = PID(p_p, p_i, p_d, setpoint=20)\n",
    "n2_pid.sample_time = 0.5\n",
    "n2_pid.output_limits = (0, 100)\n",
    "\n",
    "# ending or initializing always do!\n",
    "n2_pid.set_auto_mode(False)\n",
    "\n",
    "# PID begins\n",
    "n2_pid.set_auto_mode(True, last_output=init_ao)\n",
    "\n",
    "# calling pid loop with max change\n",
    "def call_pid(val, prev_ao):\n",
    "    prev_o = n2_pid\n",
    "    new_ao = n2_pid(val)\n",
    "    delta = new_ao-prev_ao\n",
    "\n",
    "    # prevent new value from being more than 3\n",
    "    if new_ao > prev_ao:\n",
    "        new_ao = min(prev_ao+3, new_ao)\n",
    "    else:\n",
    "        new_ao = max(prev_ao-3, new_ao)\n",
    "\n",
    "    return new_ao\n",
    "\n",
    "n2_val = 25\n",
    "fuel_ao = call_pid(n2_val, init_ao)\n",
    "print(fuel_ao)\n"
   ]
  },
  {
   "cell_type": "code",
   "execution_count": null,
   "metadata": {},
   "outputs": [],
   "source": [
    "# listening for changes to parameters. Put in state machine logic\n",
    "pub_msg = 'msg'\n",
    "if 'kp' in pub_msg:\n",
    "    # set pid values\n",
    "    kp, ki, kd = pub_msg['kp'], pub_msg['ki'], pub_msg['kd']\n",
    "    n2_pid.tunings = (kp, ki, kd)\n",
    "    # set redis values in hash map\n",
    "    pass\n",
    "\n",
    "elif 'n2_sp' in pub_msg:\n",
    "    n2_sp = pub_msg['n2_sp']\n",
    "    n2_pid.setpoint = n2_sp\n",
    "    # set on redis\n",
    "\n",
    "elif 'init_ao' in pub_msg:\n",
    "    # set on redis\n",
    "    pass\n"
   ]
  },
  {
   "cell_type": "code",
   "execution_count": 22,
   "metadata": {},
   "outputs": [
    {
     "data": {
      "text/plain": [
       "(150.0, 50.0)"
      ]
     },
     "execution_count": 22,
     "metadata": {},
     "output_type": "execute_result"
    }
   ],
   "source": [
    "# n2 simulator speed\n",
    "def speed_response(fuel_percent, load_level):\n",
    "    n2_max_sim = 60\n",
    "    # equation came up with for simulating... not representative\n",
    "    n2_speed = n2_max_sim * (fuel_percent/100) * ((10/load_level)/2)\n",
    "    n1_speed = n2_speed * 3\n",
    "    return round(n1_speed, 1), round(n2_speed, 1)\n",
    "\n",
    "speed_response(100, 6)"
   ]
  }
 ],
 "metadata": {
  "kernelspec": {
   "display_name": ".venv",
   "language": "python",
   "name": "python3"
  },
  "language_info": {
   "codemirror_mode": {
    "name": "ipython",
    "version": 3
   },
   "file_extension": ".py",
   "mimetype": "text/x-python",
   "name": "python",
   "nbconvert_exporter": "python",
   "pygments_lexer": "ipython3",
   "version": "3.10.7"
  },
  "orig_nbformat": 4,
  "vscode": {
   "interpreter": {
    "hash": "f391e8c3d005e77c8bed83cbfaaff21a4e701d9f1afa210d5c2253c673c9acf5"
   }
  }
 },
 "nbformat": 4,
 "nbformat_minor": 2
}
