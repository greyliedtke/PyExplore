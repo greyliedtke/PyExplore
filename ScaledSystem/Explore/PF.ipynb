{
 "cells": [
  {
   "cell_type": "code",
   "execution_count": null,
   "metadata": {},
   "outputs": [],
   "source": [
    "import pandas as pd\n",
    "import json"
   ]
  },
  {
   "cell_type": "code",
   "execution_count": null,
   "metadata": {},
   "outputs": [],
   "source": [
    "i_df = pd.read_excel(\"Figure_Template.xlsx\", \"Instrumentation\")\n",
    "s_df = pd.read_excel(\"Figure_Template.xlsx\", \"Sensors\")"
   ]
  },
  {
   "cell_type": "code",
   "execution_count": null,
   "metadata": {},
   "outputs": [],
   "source": [
    "plot_dict = {}\n",
    "\n",
    "for i, row in i_df.iterrows():\n",
    "    i_sensors = s_df[s_df[\"Instrument\"]==row[\"Name\"]]\n",
    "    plot_dict[row[\"Name\"]] = {\n",
    "        \"sensors\": list(i_sensors[\"Name\"].values),\n",
    "        \"range\": row[\"Range\"]\n",
    "    }\n",
    "\n",
    "with open(\"plot_maker.json\", \"w\") as f:\n",
    "    json.dump(plot_dict, f, indent=4)"
   ]
  },
  {
   "cell_type": "code",
   "execution_count": null,
   "metadata": {},
   "outputs": [],
   "source": []
  }
 ],
 "metadata": {
  "kernelspec": {
   "display_name": ".venv",
   "language": "python",
   "name": "python3"
  },
  "language_info": {
   "codemirror_mode": {
    "name": "ipython",
    "version": 3
   },
   "file_extension": ".py",
   "mimetype": "text/x-python",
   "name": "python",
   "nbconvert_exporter": "python",
   "pygments_lexer": "ipython3",
   "version": "3.10.11"
  },
  "orig_nbformat": 4
 },
 "nbformat": 4,
 "nbformat_minor": 2
}
