{
 "cells": [
  {
   "attachments": {},
   "cell_type": "markdown",
   "metadata": {},
   "source": [
    "### Control Design\n",
    "\n",
    "- Create a state machine controller deciding what does what"
   ]
  },
  {
   "cell_type": "code",
   "execution_count": 58,
   "metadata": {},
   "outputs": [],
   "source": [
    "# State_table\n",
    "def inc_1(funcin):\n",
    "    funcin += 1\n",
    "    return funcin\n",
    "\n",
    "def dec_1(funcin):\n",
    "    funcin -= 1\n",
    "    return funcin\n",
    "\n",
    "\n"
   ]
  },
  {
   "cell_type": "code",
   "execution_count": 72,
   "metadata": {},
   "outputs": [],
   "source": [
    "import pandas as pd\n",
    "state_df = pd.read_csv('control.csv')"
   ]
  },
  {
   "cell_type": "code",
   "execution_count": 73,
   "metadata": {},
   "outputs": [],
   "source": [
    "current_stage = 2\n",
    "func_do = state_df.loc[current_stage]"
   ]
  },
  {
   "cell_type": "code",
   "execution_count": 76,
   "metadata": {},
   "outputs": [
    {
     "name": "stdout",
     "output_type": "stream",
     "text": [
      "20\n",
      "1\n",
      "1\n",
      "1\n",
      "1\n",
      "0\n",
      "man_fuel\n"
     ]
    }
   ],
   "source": [
    "for f in func_do:\n",
    "    print(f)\n",
    "    try:\n",
    "        print(eval(f))\n",
    "    except:\n",
    "        pass"
   ]
  }
 ],
 "metadata": {
  "kernelspec": {
   "display_name": "virtual_env",
   "language": "python",
   "name": "python3"
  },
  "language_info": {
   "codemirror_mode": {
    "name": "ipython",
    "version": 3
   },
   "file_extension": ".py",
   "mimetype": "text/x-python",
   "name": "python",
   "nbconvert_exporter": "python",
   "pygments_lexer": "ipython3",
   "version": "3.10.9"
  },
  "orig_nbformat": 4,
  "vscode": {
   "interpreter": {
    "hash": "5ab99da40100955b0d981560cc7e6b53c9923fcc9d44bbc7c634695e1d7bb139"
   }
  }
 },
 "nbformat": 4,
 "nbformat_minor": 2
}
