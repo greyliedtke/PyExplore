{
 "cells": [
  {
   "cell_type": "markdown",
   "metadata": {},
   "source": [
    "### Table Schema\n",
    "\n",
    "\n",
    "### TODO \n",
    "- build database\n",
    "  - users\n",
    "  - answers\n",
    "  - setting new words from day...\n",
    "- Prompts\n",
    "- letters\n",
    "\n",
    "- Responses\n",
    "  - uid\n",
    "  - word\n",
    "  - points\n"
   ]
  },
  {
   "cell_type": "code",
   "execution_count": null,
   "metadata": {},
   "outputs": [],
   "source": [
    "import sqlite3\n"
   ]
  },
  {
   "cell_type": "code",
   "execution_count": null,
   "metadata": {},
   "outputs": [],
   "source": [
    "# get average scores for every person\n",
    "# get max score...\n"
   ]
  }
 ],
 "metadata": {
  "language_info": {
   "name": "python"
  },
  "orig_nbformat": 4
 },
 "nbformat": 4,
 "nbformat_minor": 2
}
