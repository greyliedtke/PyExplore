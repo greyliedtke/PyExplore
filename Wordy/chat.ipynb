{
 "cells": [
  {
   "cell_type": "markdown",
   "metadata": {},
   "source": [
    "- https://pypi.org/project/wiktionaryparser/\n"
   ]
  },
  {
   "cell_type": "code",
   "execution_count": 1,
   "metadata": {},
   "outputs": [],
   "source": [
    "# connent to openai\n",
    "import openai\n",
    "import shhh\n",
    "openai.api_key = shhh.aikey\n"
   ]
  },
  {
   "cell_type": "code",
   "execution_count": 2,
   "metadata": {},
   "outputs": [],
   "source": [
    "\n",
    "\n",
    "def chat_request(question):\n",
    "\n",
    "    response = openai.ChatCompletion.create(\n",
    "        model=\"gpt-3.5-turbo\",\n",
    "        messages=[{\"role\": \"user\", \"content\": question}],\n",
    "        # prompt=question,\n",
    "        temperature=0.8,\n",
    "        max_tokens=1024,\n",
    "        top_p=1,\n",
    "        frequency_penalty=0,\n",
    "        presence_penalty=0,\n",
    "    )\n",
    "\n",
    "    print(response)\n",
    "\n",
    "    return response\n"
   ]
  },
  {
   "cell_type": "code",
   "execution_count": 19,
   "metadata": {},
   "outputs": [
    {
     "name": "stdout",
     "output_type": "stream",
     "text": [
      "{\n",
      "  \"choices\": [\n",
      "    {\n",
      "      \"finish_reason\": \"stop\",\n",
      "      \"index\": 0,\n",
      "      \"message\": {\n",
      "        \"content\": \"1. Unfix\\n2. Unfixe\\n3. Nix\\n4. Fice\\n5. Nice\\n6. Cine\\n7. Fine\\n8. Neif\\n9. Fen\\n10. Fie\\n11. Fin\\n12. Cue\\n13. Ice\\n14. Fun\\n15. Fenix\\n16. Fix\\n17. Nixie\\n18. Xenic\\n19. Nixce\\n20. Nixe\",\n",
      "        \"role\": \"assistant\"\n",
      "      }\n",
      "    }\n",
      "  ],\n",
      "  \"created\": 1694471672,\n",
      "  \"id\": \"chatcmpl-7xjmCuNOj0C0Z4Gw0eTYdYoxrfkCe\",\n",
      "  \"model\": \"gpt-3.5-turbo-0613\",\n",
      "  \"object\": \"chat.completion\",\n",
      "  \"usage\": {\n",
      "    \"completion_tokens\": 94,\n",
      "    \"prompt_tokens\": 43,\n",
      "    \"total_tokens\": 137\n",
      "  }\n",
      "}\n",
      "{\n",
      "  \"choices\": [\n",
      "    {\n",
      "      \"finish_reason\": \"stop\",\n",
      "      \"index\": 0,\n",
      "      \"message\": {\n",
      "        \"content\": \"1. Unfix\\n2. Unfixe\\n3. Nix\\n4. Fice\\n5. Nice\\n6. Cine\\n7. Fine\\n8. Neif\\n9. Fen\\n10. Fie\\n11. Fin\\n12. Cue\\n13. Ice\\n14. Fun\\n15. Fenix\\n16. Fix\\n17. Nixie\\n18. Xenic\\n19. Nixce\\n20. Nixe\",\n",
      "        \"role\": \"assistant\"\n",
      "      }\n",
      "    }\n",
      "  ],\n",
      "  \"created\": 1694471672,\n",
      "  \"id\": \"chatcmpl-7xjmCuNOj0C0Z4Gw0eTYdYoxrfkCe\",\n",
      "  \"model\": \"gpt-3.5-turbo-0613\",\n",
      "  \"object\": \"chat.completion\",\n",
      "  \"usage\": {\n",
      "    \"completion_tokens\": 94,\n",
      "    \"prompt_tokens\": 43,\n",
      "    \"total_tokens\": 137\n",
      "  }\n",
      "}\n"
     ]
    }
   ],
   "source": [
    "# loop through df and present prompt to gpt\n",
    "\n",
    "letters = \"e, i, u, c, f, n, x\"\n",
    "\n",
    "# prompt = f\"pretend to be {auth} and summarize the middle of {title} in less than 150 words\"\n",
    "p_1 = f\"Create the longest words using only these letters. Try to use them all, and sort by length. \\n LETTERS:{letters}\"\n",
    "words = chat_request(p_1)\n",
    "print(words)"
   ]
  },
  {
   "cell_type": "code",
   "execution_count": 20,
   "metadata": {},
   "outputs": [
    {
     "name": "stdout",
     "output_type": "stream",
     "text": [
      "1. Unfix\n",
      "2. Unfixe\n",
      "3. Nix\n",
      "4. Fice\n",
      "5. Nice\n",
      "6. Cine\n",
      "7. Fine\n",
      "8. Neif\n",
      "9. Fen\n",
      "10. Fie\n",
      "11. Fin\n",
      "12. Cue\n",
      "13. Ice\n",
      "14. Fun\n",
      "15. Fenix\n",
      "16. Fix\n",
      "17. Nixie\n",
      "18. Xenic\n",
      "19. Nixce\n",
      "20. Nixe\n"
     ]
    }
   ],
   "source": [
    "resp = words[\"choices\"][0][\"message\"][\"content\"]\n",
    "print(resp)"
   ]
  }
 ],
 "metadata": {
  "kernelspec": {
   "display_name": ".venv",
   "language": "python",
   "name": "python3"
  },
  "language_info": {
   "codemirror_mode": {
    "name": "ipython",
    "version": 3
   },
   "file_extension": ".py",
   "mimetype": "text/x-python",
   "name": "python",
   "nbconvert_exporter": "python",
   "pygments_lexer": "ipython3",
   "version": "3.10.12"
  },
  "orig_nbformat": 4
 },
 "nbformat": 4,
 "nbformat_minor": 2
}
